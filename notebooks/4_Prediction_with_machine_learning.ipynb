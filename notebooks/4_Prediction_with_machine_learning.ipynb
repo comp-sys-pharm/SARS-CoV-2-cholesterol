{
 "cells": [
  {
   "cell_type": "code",
   "execution_count": 1,
   "metadata": {},
   "outputs": [],
   "source": [
    "# Machine learning based classification of effective and not effective drugs\n",
    "# Feature importance calculation\n",
    "# Comparision of ROCAUC-s from machine learning based and similarity based ROC curves\n",
    "# Calculation of mean of predictive probabilities"
   ]
  },
  {
   "cell_type": "code",
   "execution_count": 2,
   "metadata": {},
   "outputs": [],
   "source": [
    "import pandas as pd\n",
    "import numpy as np"
   ]
  },
  {
   "cell_type": "code",
   "execution_count": 3,
   "metadata": {},
   "outputs": [],
   "source": [
    "from sklearn.ensemble import RandomForestClassifier\n",
    "from sklearn.metrics import roc_curve, auc\n",
    "from scipy import stats"
   ]
  },
  {
   "cell_type": "code",
   "execution_count": 4,
   "metadata": {},
   "outputs": [],
   "source": [
    "import matplotlib.pyplot as plt\n",
    "import seaborn as sns\n",
    "sns.set_style('whitegrid')\n",
    "%matplotlib inline"
   ]
  },
  {
   "cell_type": "markdown",
   "metadata": {},
   "source": [
    "# Read in data"
   ]
  },
  {
   "cell_type": "code",
   "execution_count": 5,
   "metadata": {},
   "outputs": [],
   "source": [
    "tf_act = pd.read_csv('../results/drug_signatures/signatures_bing_gene_dorothea.csv', index_col=0)"
   ]
  },
  {
   "cell_type": "code",
   "execution_count": 6,
   "metadata": {},
   "outputs": [],
   "source": [
    "chembl_drugs = pd.read_csv('../results/drugs/chembl_drugs.csv', index_col=1)"
   ]
  },
  {
   "cell_type": "code",
   "execution_count": 7,
   "metadata": {},
   "outputs": [],
   "source": [
    "similarity = pd.read_csv('../results/drug_signatures/similarities_bing_genes.csv', index_col = 0)"
   ]
  },
  {
   "cell_type": "code",
   "execution_count": 8,
   "metadata": {},
   "outputs": [],
   "source": [
    "samples = ['GSE147507.S5_A549_SARS.CoV.2','GSE147507.S7_Calu3_SARS.CoV.2','GSE148729_Calu3_SARS.CoV.2_24H']"
   ]
  },
  {
   "cell_type": "code",
   "execution_count": 9,
   "metadata": {},
   "outputs": [],
   "source": [
    "similarity = similarity.loc[samples].T"
   ]
  },
  {
   "cell_type": "code",
   "execution_count": 10,
   "metadata": {},
   "outputs": [],
   "source": [
    "# select effective and not effective drugs (Chembl database)\n",
    "effective = chembl_drugs.index\n",
    "not_effective = tf_act[~tf_act.index.isin(effective)].index"
   ]
  },
  {
   "cell_type": "code",
   "execution_count": 11,
   "metadata": {},
   "outputs": [],
   "source": [
    "# select labels (effective = 1, not effective = 0)\n",
    "labels = pd.DataFrame(0, index = tf_act.index, columns=['is_effective'])\n",
    "labels.loc[effective, 'is_effective'] = 1\n",
    "labels.loc[not_effective, 'is_effective'] = 0"
   ]
  },
  {
   "cell_type": "markdown",
   "metadata": {},
   "source": [
    "# Functions"
   ]
  },
  {
   "cell_type": "code",
   "execution_count": 12,
   "metadata": {},
   "outputs": [],
   "source": [
    "# split data by half (50-50%) for effective and not effective drugs too than append\n",
    "def create_training_and_crossvalidation_set(effective, not_effective, labels):\n",
    "    \n",
    "    tr_eff=np.random.choice(effective,int(len(effective)/2),replace=False)\n",
    "    cv_eff=list(set(effective) - set(tr_eff))\n",
    "\n",
    "    tr_noteff=np.random.choice(not_effective,int(len(not_effective)/2),replace=False)\n",
    "    cv_noteff=list(set(not_effective) - set(tr_noteff))\n",
    "    \n",
    "    tr = [*tr_eff, *tr_noteff]\n",
    "    cv = [*cv_eff, *cv_noteff]\n",
    "\n",
    "    X_tr = tf_act[tf_act.index.isin(tr)]\n",
    "    X_cv = tf_act[tf_act.index.isin(cv)]\n",
    "\n",
    "    y_tr=labels.loc[X_tr.index, 'is_effective']\n",
    "    y_cv = labels.loc[X_cv.index, 'is_effective']\n",
    "    \n",
    "    if (y_tr.index == X_tr.index).all() & (y_cv.index == X_cv.index).all() ==True:\n",
    "        return X_tr, X_cv, y_tr, y_cv\n",
    "    else: print('Indices are not in order')"
   ]
  },
  {
   "cell_type": "code",
   "execution_count": 13,
   "metadata": {},
   "outputs": [],
   "source": [
    "# Random Forest Classifier, predict is_effective probabilities, and calculate feature importance\n",
    "def classification(X_tr, X_cv, y_tr, y_cv):\n",
    "    \n",
    "    clf=RandomForestClassifier(n_estimators=100, random_state=2020, n_jobs =-1)\n",
    "    clf.fit(X_tr,y_tr)\n",
    "    y_pred=clf.predict_proba(X_cv)\n",
    "    feature_imp = pd.Series(clf.feature_importances_,index=tf_act.columns).sort_values(ascending=False)\n",
    "    \n",
    "    return y_pred, feature_imp"
   ]
  },
  {
   "cell_type": "code",
   "execution_count": 14,
   "metadata": {},
   "outputs": [],
   "source": [
    "# Calculate feature importance for 100 (range) random seed and calculate mean of them\n",
    "# Save y_pred values per seed (range 100) and save to y_pred_dict\n",
    "y_pred_dict = {}\n",
    "def calculate_feature_importance(effective, not_effective, labels):\n",
    "    rng = 100\n",
    "    for i in range(rng):\n",
    "        \n",
    "        print(i, end=', ')\n",
    "        np.random.seed(i) \n",
    "        X_tr, X_cv, y_tr, y_cv = create_training_and_crossvalidation_set(effective, not_effective, labels)\n",
    "        y_pred, feature_imp = classification(X_tr, X_cv, y_tr, y_cv)\n",
    "        \n",
    "        feature_imp = feature_imp.sort_index()\n",
    "        y_pred_dict[i] = pd.DataFrame(y_pred, index=X_cv.index, columns=['p_not_eff', 'p_eff'])\n",
    "        \n",
    "        if i == 0:\n",
    "            feature_importance = feature_imp\n",
    "        if i>0:\n",
    "            feature_importance = feature_importance + feature_imp\n",
    "            \n",
    "    feature_importance = feature_importance / rng\n",
    "    feature_importance = feature_importance.sort_values(ascending=False)\n",
    "    \n",
    "    print('done')\n",
    "    return feature_importance"
   ]
  },
  {
   "cell_type": "markdown",
   "metadata": {},
   "source": [
    "# Classifying"
   ]
  },
  {
   "cell_type": "code",
   "execution_count": 15,
   "metadata": {},
   "outputs": [
    {
     "name": "stdout",
     "output_type": "stream",
     "text": [
      "0, 1, 2, 3, 4, 5, 6, 7, 8, 9, 10, 11, 12, 13, 14, 15, 16, 17, 18, 19, 20, 21, 22, 23, 24, 25, 26, 27, 28, 29, 30, 31, 32, 33, 34, 35, 36, 37, 38, 39, 40, 41, 42, 43, 44, 45, 46, 47, 48, 49, 50, 51, 52, 53, 54, 55, 56, 57, 58, 59, 60, 61, 62, 63, 64, 65, 66, 67, 68, 69, 70, 71, 72, 73, 74, 75, 76, 77, 78, 79, 80, 81, 82, 83, 84, 85, 86, 87, 88, 89, 90, 91, 92, 93, 94, 95, 96, 97, 98, 99, done\n"
     ]
    }
   ],
   "source": [
    "# calculate feature importance, y_pred for 100 random seed\n",
    "feature_importance = calculate_feature_importance(effective, not_effective, labels)"
   ]
  },
  {
   "cell_type": "code",
   "execution_count": 16,
   "metadata": {},
   "outputs": [
    {
     "data": {
      "text/plain": [
       "SREBF1    0.018360\n",
       "SREBF2    0.014865\n",
       "HNF4A     0.013085\n",
       "TFAP2A    0.011474\n",
       "TP63      0.010552\n",
       "dtype: float64"
      ]
     },
     "execution_count": 16,
     "metadata": {},
     "output_type": "execute_result"
    }
   ],
   "source": [
    "feature_importance.head()"
   ]
  },
  {
   "cell_type": "code",
   "execution_count": 17,
   "metadata": {},
   "outputs": [],
   "source": [
    "# Feature importance chembl\n",
    "feature_importance.to_csv('../results/random_forest_classification/feature_importances.csv')"
   ]
  },
  {
   "cell_type": "markdown",
   "metadata": {},
   "source": [
    "# ROC curves"
   ]
  },
  {
   "cell_type": "code",
   "execution_count": 18,
   "metadata": {},
   "outputs": [],
   "source": [
    "# Caluclate roc curves RF based\n",
    "# all random seed has different drugs in y_pred\n",
    "# 100 ROC curves and ROCAUC are calculated\n",
    "\n",
    "roc_curves_rf_based = {}\n",
    "\n",
    "for i in y_pred_dict:\n",
    "    vector = labels.loc[y_pred_dict[i].index]\n",
    "    \n",
    "    if ((y_pred_dict[i].index == vector.index).all()) == False:\n",
    "        print('Error')\n",
    "        break\n",
    "        \n",
    "    fpr, tpr, thresholds = roc_curve(vector['is_effective'], y_pred_dict[i]['p_eff'])\n",
    "    roc_auc = auc(x=fpr,y=tpr)\n",
    "    roc_curves_rf_based[i] = [fpr, tpr, roc_auc]"
   ]
  },
  {
   "cell_type": "code",
   "execution_count": 19,
   "metadata": {},
   "outputs": [
    {
     "name": "stdout",
     "output_type": "stream",
     "text": [
      "GSE147507.S5_A549_SARS.CoV.2\n",
      "GSE147507.S7_Calu3_SARS.CoV.2\n",
      "GSE148729_Calu3_SARS.CoV.2_24H\n"
     ]
    }
   ],
   "source": [
    "# Calulate ROC curves and ROCAUC based on similarities (per virus (3 selected))\n",
    "# save curves and ROCAUC values to roc_curves_per_virus dictionary (containing roc_curves_similarity_based dicts)\n",
    "\n",
    "roc_curves_per_virus = {}\n",
    "for virus in similarity.columns:\n",
    "    \n",
    "    print(virus)\n",
    "    roc_curves_similarity_based = {}\n",
    "    \n",
    "    for i in y_pred_dict:\n",
    "        vector = labels.loc[y_pred_dict[i].index]\n",
    "\n",
    "        sim = similarity[[virus]]\n",
    "        sim = sim.loc[y_pred_dict[i].index]\n",
    "\n",
    "        if ((y_pred_dict[i].index == vector.index).all()) == False:\n",
    "            print('Error')\n",
    "            break\n",
    "        if ((y_pred_dict[i].index == sim.index).all()) == False:\n",
    "            print('Error')\n",
    "            break\n",
    "\n",
    "        fpr, tpr, thresholds = roc_curve(vector['is_effective'], sim)\n",
    "        roc_auc = auc(x=fpr,y=tpr)\n",
    "        roc_curves_similarity_based[i] = [fpr, tpr, roc_auc]\n",
    "    roc_curves_per_virus[virus] = roc_curves_similarity_based\n"
   ]
  },
  {
   "cell_type": "code",
   "execution_count": 20,
   "metadata": {},
   "outputs": [],
   "source": [
    "# Select ROCAUC values to rocauc dictionary\n",
    "rocauc = {}\n",
    "rocauc['rf_based'] = pd.Series(map(lambda curve: curve[2],roc_curves_rf_based.values()), name='rf_based')\n",
    "\n",
    "for virus in roc_curves_per_virus:\n",
    "    rocauc[virus] = pd.Series(map(lambda curve: curve[2],roc_curves_per_virus[virus].values()), name=virus)"
   ]
  },
  {
   "cell_type": "code",
   "execution_count": 21,
   "metadata": {},
   "outputs": [],
   "source": [
    "rocauc_df = pd.DataFrame.from_dict(rocauc)"
   ]
  },
  {
   "cell_type": "code",
   "execution_count": 22,
   "metadata": {},
   "outputs": [],
   "source": [
    "rocauc_df.to_csv('../results/random_forest_classification/rocaucs.csv')"
   ]
  },
  {
   "cell_type": "markdown",
   "metadata": {},
   "source": [
    "### Mean of predictive probabilities"
   ]
  },
  {
   "cell_type": "code",
   "execution_count": 23,
   "metadata": {},
   "outputs": [],
   "source": [
    "predictive_probabilities_drugs = pd.Series(0.0, index = tf_act.index)\n",
    "freq_count = pd.Series(0, index = tf_act.index)"
   ]
  },
  {
   "cell_type": "code",
   "execution_count": 24,
   "metadata": {},
   "outputs": [],
   "source": [
    "for k,probabilities in y_pred_dict.items():\n",
    "    predictive_probabilities_drugs = predictive_probabilities_drugs.add(probabilities.p_eff, fill_value=0)\n",
    "    freq_count.loc[probabilities.index] = freq_count.loc[probabilities.index].add(1)"
   ]
  },
  {
   "cell_type": "code",
   "execution_count": 25,
   "metadata": {},
   "outputs": [],
   "source": [
    "predictive_probabilities_drugs_mean = predictive_probabilities_drugs.divide(freq_count, fill_value=0)"
   ]
  },
  {
   "cell_type": "code",
   "execution_count": 26,
   "metadata": {},
   "outputs": [
    {
     "data": {
      "text/plain": [
       "ciclopirox        0.203091\n",
       "obatoclax         0.239000\n",
       "digitoxin         0.247632\n",
       "heliomycin        0.259608\n",
       "cytochalasin-d    0.274510\n",
       "dtype: float64"
      ]
     },
     "execution_count": 26,
     "metadata": {},
     "output_type": "execute_result"
    }
   ],
   "source": [
    "predictive_probabilities_drugs_mean.sort_values().tail()"
   ]
  },
  {
   "cell_type": "code",
   "execution_count": 27,
   "metadata": {},
   "outputs": [],
   "source": [
    "drug_pred_prob = similarity.copy()"
   ]
  },
  {
   "cell_type": "code",
   "execution_count": 28,
   "metadata": {},
   "outputs": [],
   "source": [
    "drug_pred_prob['RF_predictive_probabilities'] = predictive_probabilities_drugs_mean"
   ]
  },
  {
   "cell_type": "code",
   "execution_count": 29,
   "metadata": {},
   "outputs": [],
   "source": [
    "drug_pred_prob.columns = ['GSE147507 A549 SARS-CoV-2', 'GSE147507 Calu3 SARS-CoV-2', \n",
    "                         'GSE148729 Calu3 SARS-CoV-2', 'Random Forest Predictive Probabilities']"
   ]
  },
  {
   "cell_type": "code",
   "execution_count": 30,
   "metadata": {},
   "outputs": [
    {
     "data": {
      "text/html": [
       "<div>\n",
       "<style scoped>\n",
       "    .dataframe tbody tr th:only-of-type {\n",
       "        vertical-align: middle;\n",
       "    }\n",
       "\n",
       "    .dataframe tbody tr th {\n",
       "        vertical-align: top;\n",
       "    }\n",
       "\n",
       "    .dataframe thead th {\n",
       "        text-align: right;\n",
       "    }\n",
       "</style>\n",
       "<table border=\"1\" class=\"dataframe\">\n",
       "  <thead>\n",
       "    <tr style=\"text-align: right;\">\n",
       "      <th></th>\n",
       "      <th>GSE147507 A549 SARS-CoV-2</th>\n",
       "      <th>GSE147507 Calu3 SARS-CoV-2</th>\n",
       "      <th>GSE148729 Calu3 SARS-CoV-2</th>\n",
       "      <th>Random Forest Predictive Probabilities</th>\n",
       "    </tr>\n",
       "  </thead>\n",
       "  <tbody>\n",
       "    <tr>\n",
       "      <th>AT1-SHH-09</th>\n",
       "      <td>0.025787</td>\n",
       "      <td>0.103752</td>\n",
       "      <td>0.099418</td>\n",
       "      <td>0.002000</td>\n",
       "    </tr>\n",
       "    <tr>\n",
       "      <th>dexamethasone-acetate</th>\n",
       "      <td>0.043213</td>\n",
       "      <td>0.075573</td>\n",
       "      <td>0.082942</td>\n",
       "      <td>0.033333</td>\n",
       "    </tr>\n",
       "    <tr>\n",
       "      <th>MW-SHH-97</th>\n",
       "      <td>0.170028</td>\n",
       "      <td>0.171434</td>\n",
       "      <td>0.016707</td>\n",
       "      <td>0.004615</td>\n",
       "    </tr>\n",
       "    <tr>\n",
       "      <th>pancuronium</th>\n",
       "      <td>0.112912</td>\n",
       "      <td>0.188854</td>\n",
       "      <td>0.139835</td>\n",
       "      <td>0.015098</td>\n",
       "    </tr>\n",
       "    <tr>\n",
       "      <th>L-2167</th>\n",
       "      <td>-0.163297</td>\n",
       "      <td>-0.221272</td>\n",
       "      <td>-0.132270</td>\n",
       "      <td>0.002083</td>\n",
       "    </tr>\n",
       "    <tr>\n",
       "      <th>...</th>\n",
       "      <td>...</td>\n",
       "      <td>...</td>\n",
       "      <td>...</td>\n",
       "      <td>...</td>\n",
       "    </tr>\n",
       "    <tr>\n",
       "      <th>SA-247714</th>\n",
       "      <td>0.327706</td>\n",
       "      <td>0.227374</td>\n",
       "      <td>-0.044856</td>\n",
       "      <td>0.149630</td>\n",
       "    </tr>\n",
       "    <tr>\n",
       "      <th>chromomycin-a3</th>\n",
       "      <td>0.117907</td>\n",
       "      <td>0.000689</td>\n",
       "      <td>-0.093304</td>\n",
       "      <td>0.002093</td>\n",
       "    </tr>\n",
       "    <tr>\n",
       "      <th>cytarabine</th>\n",
       "      <td>0.199559</td>\n",
       "      <td>0.115466</td>\n",
       "      <td>0.002919</td>\n",
       "      <td>0.026364</td>\n",
       "    </tr>\n",
       "    <tr>\n",
       "      <th>imperatorin</th>\n",
       "      <td>-0.058142</td>\n",
       "      <td>-0.150083</td>\n",
       "      <td>-0.146456</td>\n",
       "      <td>0.000588</td>\n",
       "    </tr>\n",
       "    <tr>\n",
       "      <th>kawain</th>\n",
       "      <td>0.132140</td>\n",
       "      <td>0.124201</td>\n",
       "      <td>0.037231</td>\n",
       "      <td>0.002128</td>\n",
       "    </tr>\n",
       "  </tbody>\n",
       "</table>\n",
       "<p>4671 rows × 4 columns</p>\n",
       "</div>"
      ],
      "text/plain": [
       "                       GSE147507 A549 SARS-CoV-2  GSE147507 Calu3 SARS-CoV-2  \\\n",
       "AT1-SHH-09                              0.025787                    0.103752   \n",
       "dexamethasone-acetate                   0.043213                    0.075573   \n",
       "MW-SHH-97                               0.170028                    0.171434   \n",
       "pancuronium                             0.112912                    0.188854   \n",
       "L-2167                                 -0.163297                   -0.221272   \n",
       "...                                          ...                         ...   \n",
       "SA-247714                               0.327706                    0.227374   \n",
       "chromomycin-a3                          0.117907                    0.000689   \n",
       "cytarabine                              0.199559                    0.115466   \n",
       "imperatorin                            -0.058142                   -0.150083   \n",
       "kawain                                  0.132140                    0.124201   \n",
       "\n",
       "                       GSE148729 Calu3 SARS-CoV-2  \\\n",
       "AT1-SHH-09                               0.099418   \n",
       "dexamethasone-acetate                    0.082942   \n",
       "MW-SHH-97                                0.016707   \n",
       "pancuronium                              0.139835   \n",
       "L-2167                                  -0.132270   \n",
       "...                                           ...   \n",
       "SA-247714                               -0.044856   \n",
       "chromomycin-a3                          -0.093304   \n",
       "cytarabine                               0.002919   \n",
       "imperatorin                             -0.146456   \n",
       "kawain                                   0.037231   \n",
       "\n",
       "                       Random Forest Predictive Probabilities  \n",
       "AT1-SHH-09                                           0.002000  \n",
       "dexamethasone-acetate                                0.033333  \n",
       "MW-SHH-97                                            0.004615  \n",
       "pancuronium                                          0.015098  \n",
       "L-2167                                               0.002083  \n",
       "...                                                       ...  \n",
       "SA-247714                                            0.149630  \n",
       "chromomycin-a3                                       0.002093  \n",
       "cytarabine                                           0.026364  \n",
       "imperatorin                                          0.000588  \n",
       "kawain                                               0.002128  \n",
       "\n",
       "[4671 rows x 4 columns]"
      ]
     },
     "execution_count": 30,
     "metadata": {},
     "output_type": "execute_result"
    }
   ],
   "source": [
    "drug_pred_prob"
   ]
  },
  {
   "cell_type": "code",
   "execution_count": 31,
   "metadata": {},
   "outputs": [],
   "source": [
    "drug_pred_prob.to_csv('../results/random_forest_classification/drug_predictive_probabilities.csv')"
   ]
  },
  {
   "cell_type": "code",
   "execution_count": 32,
   "metadata": {},
   "outputs": [],
   "source": [
    "# df = drug_pred_prob\n",
    "# fig, ax = plt.subplots()\n",
    "# pal = sns.color_palette(\"YlGnBu\", 4)\n",
    "\n",
    "# ax = sns.distplot(df['GSE147507 A549 SARS-CoV-2'], color= pal[1], hist_kws={\"alpha\": 0.5})\n",
    "# ax = sns.distplot(df['GSE147507 Calu3 SARS-CoV-2'], color = pal[2], hist_kws={\"alpha\": 0.3})\n",
    "# ax = sns.distplot(df['GSE148729 Calu3 SARS-CoV-2'], color = pal[3], hist_kws={\"alpha\": 0.3})\n",
    "# ax.set_ylabel(\"Infection similarities\",color=\"k\",fontsize=14)\n",
    "\n",
    "\n",
    "# ax2=ax.twinx()\n",
    "# ax2 = sns.distplot(df['Random Forest Predictive Probabilities'], color = 'r')\n",
    "# ax2.set_ylabel(\"Random forest predictive probabilities\",color=\"red\",fontsize=14, rotation = 270, labelpad = 15)\n",
    "# plt.show()"
   ]
  },
  {
   "cell_type": "code",
   "execution_count": 33,
   "metadata": {},
   "outputs": [
    {
     "data": {
      "image/png": "[encoded data removed]",
      "text/plain": [
       "<Figure size 432x360 with 1 Axes>"
      ]
     },
     "metadata": {
      "needs_background": "light"
     },
     "output_type": "display_data"
    }
   ],
   "source": [
    "data = drug_pred_prob['Random Forest Predictive Probabilities']\n",
    "fig, ax = plt.subplots(figsize = (6,5))\n",
    "N, bins, patches = plt.hist(data, edgecolor='white', linewidth=0.5, bins = 50, color = \"#6bacd1\")\n",
    "loper = data['loperamide']\n",
    "amio = data.loc['amiodarone']\n",
    "cp = data.loc['chlorpromazine']\n",
    "rosu = data.loc['rosuvastatin']\n",
    "\n",
    "for drug in [loper, amio, cp]:\n",
    "    for i in range(len(bins)):\n",
    "        if bins[i] > drug:\n",
    "            patches[i-1].set_facecolor('darkred')\n",
    "            break       \n",
    "for drug in [rosu]:\n",
    "    for i in range(len(bins)):\n",
    "        if bins[i] > drug:\n",
    "            patches[i-1].set_facecolor('black')\n",
    "            break       \n",
    "\n",
    "            \n",
    "plt.arrow(rosu+0.001, 1500, 0, -500, head_width=0.008, head_length=50, color='k', linewidth = 0.3)\n",
    "plt.arrow(cp+0.001, 650, 0, -500, head_width=0.008, head_length=50, color='darkred', linewidth = 0.3)\n",
    "plt.arrow(amio, 650, 0, -550, head_width=0.008, head_length=50, color='darkred', linewidth = 0.3)\n",
    "plt.arrow(loper, 650, 0, -550, head_width=0.008, head_length=50, color='darkred', linewidth = 0.3)\n",
    "\n",
    "plt.text(rosu+0.003, 1600, 'Rosuvastatin', color='k', rotation = 90, ha = 'center', fontsize = 11)\n",
    "plt.text(cp+0.002, 750, 'Chlorpromazine', color='darkred', rotation = 90, ha = 'center', fontsize =11)\n",
    "plt.text(amio, 750, 'Amiodarone', color='darkred', rotation = 90, ha = 'center', fontsize =11)\n",
    "plt.text(loper, 750,'Loperamide', color='darkred', rotation = 90, ha = 'center', fontsize = 11)\n",
    "\n",
    "plt.xticks(fontsize = 9)\n",
    "plt.yticks(fontsize = 9)\n",
    "plt.tick_params(bottom = True, left = True)\n",
    "\n",
    "plt.xlabel('Predictive probability', fontsize=11)\n",
    "plt.ylabel('Frequency',  fontsize=11)\n",
    "ax.grid(False)"
   ]
  },
  {
   "cell_type": "markdown",
   "metadata": {},
   "source": [
    "# Comparison of predictive accuracy of similarity-based method and random forest-based prediction"
   ]
  },
  {
   "cell_type": "code",
   "execution_count": 34,
   "metadata": {},
   "outputs": [],
   "source": [
    "rocaucs = pd.read_csv('../results/random_forest_classification/rocaucs.csv', index_col=0)"
   ]
  },
  {
   "cell_type": "code",
   "execution_count": 35,
   "metadata": {},
   "outputs": [],
   "source": [
    "rocaucs = rocaucs[['GSE147507.S5_A549_SARS.CoV.2','GSE147507.S7_Calu3_SARS.CoV.2', \n",
    "            'GSE148729_Calu3_SARS.CoV.2_24H', 'rf_based']]"
   ]
  },
  {
   "cell_type": "code",
   "execution_count": 36,
   "metadata": {},
   "outputs": [
    {
     "data": {
      "image/png": "[encoded data removed]",
      "text/plain": [
       "<Figure size 288x432 with 1 Axes>"
      ]
     },
     "metadata": {
      "needs_background": "light"
     },
     "output_type": "display_data"
    }
   ],
   "source": [
    "plt.figure(figsize=(4,6))\n",
    "\n",
    "boxplot = sns.boxplot(data = rocaucs, palette='RdBu', width=0.5)\n",
    "boxplot.set_xticklabels(['GSE147507\\nA549', 'GSE147507\\nCalu-3', 'GSE148729\\nCalu-3', 'RF-based'], \n",
    "                        rotation=45, fontsize = 14)\n",
    "plt.tight_layout()\n",
    "plt.ylabel('ROCAUC', fontsize=14)\n",
    "plt.yticks(fontsize=14)\n",
    "\n",
    "plt.show()"
   ]
  },
  {
   "cell_type": "markdown",
   "metadata": {},
   "source": [
    "###### Paired t-test"
   ]
  },
  {
   "cell_type": "code",
   "execution_count": 37,
   "metadata": {},
   "outputs": [],
   "source": [
    "gse147507_a549 = stats.ttest_rel(rocaucs['GSE147507.S5_A549_SARS.CoV.2'],rocaucs['rf_based'])\n",
    "gse147507_calu3 = stats.ttest_rel(rocaucs['GSE147507.S7_Calu3_SARS.CoV.2'],rocaucs['rf_based'])\n",
    "gse148729_calu3 = stats.ttest_rel(rocaucs['GSE148729_Calu3_SARS.CoV.2_24H'],rocaucs['rf_based'])"
   ]
  },
  {
   "cell_type": "code",
   "execution_count": 38,
   "metadata": {},
   "outputs": [],
   "source": [
    "stat = pd.DataFrame([gse147507_a549, gse147507_calu3, gse148729_calu3], \n",
    "                    index = ['GSE147507_A549', 'GSE147507_Calu3', 'GSE148729_Calu3'])\n",
    "stat.pvalue = stat.pvalue.apply(lambda x: \"{:,.2e}\".format(x))"
   ]
  },
  {
   "cell_type": "code",
   "execution_count": 39,
   "metadata": {},
   "outputs": [
    {
     "data": {
      "text/html": [
       "<div>\n",
       "<style scoped>\n",
       "    .dataframe tbody tr th:only-of-type {\n",
       "        vertical-align: middle;\n",
       "    }\n",
       "\n",
       "    .dataframe tbody tr th {\n",
       "        vertical-align: top;\n",
       "    }\n",
       "\n",
       "    .dataframe thead th {\n",
       "        text-align: right;\n",
       "    }\n",
       "</style>\n",
       "<table border=\"1\" class=\"dataframe\">\n",
       "  <thead>\n",
       "    <tr style=\"text-align: right;\">\n",
       "      <th></th>\n",
       "      <th>statistic</th>\n",
       "      <th>pvalue</th>\n",
       "    </tr>\n",
       "  </thead>\n",
       "  <tbody>\n",
       "    <tr>\n",
       "      <th>GSE147507_A549</th>\n",
       "      <td>-1.335768</td>\n",
       "      <td>1.85e-01</td>\n",
       "    </tr>\n",
       "    <tr>\n",
       "      <th>GSE147507_Calu3</th>\n",
       "      <td>-5.157285</td>\n",
       "      <td>1.29e-06</td>\n",
       "    </tr>\n",
       "    <tr>\n",
       "      <th>GSE148729_Calu3</th>\n",
       "      <td>-18.826260</td>\n",
       "      <td>1.75e-34</td>\n",
       "    </tr>\n",
       "  </tbody>\n",
       "</table>\n",
       "</div>"
      ],
      "text/plain": [
       "                 statistic    pvalue\n",
       "GSE147507_A549   -1.335768  1.85e-01\n",
       "GSE147507_Calu3  -5.157285  1.29e-06\n",
       "GSE148729_Calu3 -18.826260  1.75e-34"
      ]
     },
     "execution_count": 39,
     "metadata": {},
     "output_type": "execute_result"
    }
   ],
   "source": [
    "stat"
   ]
  },
  {
   "cell_type": "markdown",
   "metadata": {},
   "source": [
    "# Feature importances of the random forest model"
   ]
  },
  {
   "cell_type": "code",
   "execution_count": 40,
   "metadata": {},
   "outputs": [],
   "source": [
    "feature_imp = pd.read_csv('../results/random_forest_classification/feature_importances.csv', index_col = 0)"
   ]
  },
  {
   "cell_type": "code",
   "execution_count": 41,
   "metadata": {},
   "outputs": [],
   "source": [
    "feature_imp_head = feature_imp.head(30)\n",
    "fitb = pd.concat([feature_imp.head(10), feature_imp.tail(10)])\n",
    "feature_imp_tail = feature_imp.tail(20)"
   ]
  },
  {
   "cell_type": "code",
   "execution_count": 42,
   "metadata": {},
   "outputs": [
    {
     "data": {
      "image/png": "[encoded data removed]",
      "text/plain": [
       "<Figure size 576x288 with 1 Axes>"
      ]
     },
     "metadata": {
      "needs_background": "light"
     },
     "output_type": "display_data"
    }
   ],
   "source": [
    "fig, ax = plt.subplots(figsize=(8,4), tight_layout=True)\n",
    "\n",
    "data = fitb\n",
    "dark = '#0c2c84'\n",
    "light = '#6bacd1'\n",
    "markerline, stemlines, baseline = plt.stem(data['0'],use_line_collection = True) \n",
    "\n",
    "plt.setp(baseline, visible = True, color=dark )\n",
    "plt.setp(stemlines,  linewidth=3, color=light)\n",
    "plt.setp(markerline,  markersize = 10, color=dark)\n",
    "\n",
    "plt.xticks(range(len(data)), data.index, rotation=90, fontsize = 14)\n",
    "plt.yticks(fontsize = 14)\n",
    "plt.xlabel('Transcription factors', fontsize = 14)\n",
    "plt.ylabel('Feature importance', fontsize = 14)\n",
    "\n",
    "plt.axvline(x=9.5, color='gray', linestyle='--')\n",
    "    \n",
    "ax.grid(False, axis = 'x')\n",
    "\n",
    "plt.show()"
   ]
  },
  {
   "cell_type": "code",
   "execution_count": null,
   "metadata": {},
   "outputs": [],
   "source": []
  }
 ],
 "metadata": {
  "kernelspec": {
   "display_name": "Python 3",
   "language": "python",
   "name": "python3"
  },
  "language_info": {
   "codemirror_mode": {
    "name": "ipython",
    "version": 3
   },
   "file_extension": ".py",
   "mimetype": "text/x-python",
   "name": "python",
   "nbconvert_exporter": "python",
   "pygments_lexer": "ipython3",
   "version": "3.7.6"
  }
 },
 "nbformat": 4,
 "nbformat_minor": 4
}
