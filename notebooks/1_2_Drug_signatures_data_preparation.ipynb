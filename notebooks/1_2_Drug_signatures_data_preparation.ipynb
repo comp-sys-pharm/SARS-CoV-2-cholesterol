{
 "cells": [
  {
   "cell_type": "code",
   "execution_count": 1,
   "metadata": {},
   "outputs": [],
   "source": [
    "import pandas as pd\n",
    "import numpy as np\n",
    "\n",
    "import pickle"
   ]
  },
  {
   "cell_type": "markdown",
   "metadata": {},
   "source": [
    "# Download raw data and metadata"
   ]
  },
  {
   "cell_type": "markdown",
   "metadata": {},
   "source": [
    "Download LINCS signatures and metadata from GEO database (from L1000 Connectivity Map perturbational profiles from Broad Institute LINCS Center for Transcriptomics)\n",
    " * [GSE92742](https://www.ncbi.nlm.nih.gov/geo/query/acc.cgi?acc=GSE92742), \n",
    "   [pert info](https://www.ncbi.nlm.nih.gov/geo/download/?acc=GSE92742&format=file&file=GSE92742%5FBroad%5FLINCS%5Fpert%5Finfo%2Etxt%2Egz),\n",
    "   [sig_info](https://www.ncbi.nlm.nih.gov/geo/download/?acc=GSE70138&format=file&file=GSE70138%5FBroad%5FLINCS%5Fsig%5Finfo%5F2017%2D03%2D06%2Etxt%2Egz), \n",
    "   [signatures](https://www.ncbi.nlm.nih.gov/geo/download/?acc=GSE92742&format=file&file=GSE92742%5FBroad%5FLINCS%5FLevel5%5FCOMPZ%2EMODZ%5Fn473647x12328%2Egctx%2Egz)\n",
    " * [GSE70138](https://www.ncbi.nlm.nih.gov/geo/query/acc.cgi?acc=GSE70138),\n",
    "   [pert_info](https://www.ncbi.nlm.nih.gov/geo/download/?acc=GSE70138&format=file&file=GSE70138%5FBroad%5FLINCS%5Fpert%5Finfo%2Etxt%2Egz),\n",
    "   [sig_info](https://www.ncbi.nlm.nih.gov/geo/download/?acc=GSE70138&format=file&file=GSE70138%5FBroad%5FLINCS%5Fsig%5Finfo%5F2017%2D03%2D06%2Etxt%2Egz), \n",
    "  [signatures](https://www.ncbi.nlm.nih.gov/geo/download/?acc=GSE70138&format=file&file=GSE70138%5FBroad%5FLINCS%5FLevel5%5FCOMPZ%5Fn118050x12328%5F2017%2D03%2D06%2Egctx%2Egz)\n",
    " \n",
    "Download drugs effective against SARS-CoV-2 from [ChEMBL](http://chembl.blogspot.com/2020/05/chembl27-sars-cov-2-release.html)\n",
    " * [ChEMBL database query](https://www.ebi.ac.uk/chembl/g#browse/compounds/filter/molecule_chembl_id%3A(%22CHEMBL147806%22%20OR%20%22CHEMBL4303448%22%20OR%20%22CHEMBL209569%22%20OR%20%22CHEMBL4303672%22%20OR%20%22CHEMBL423112%22%20OR%20%22CHEMBL423894%22%20OR%20%22CHEMBL176045%22%20OR%20%22CHEMBL4297643%22%20OR%20%22CHEMBL483243%22%20OR%20%22CHEMBL4303559%22%20OR%20%22CHEMBL296419%22%20OR%20%22CHEMBL196666%22%20OR%20%22CHEMBL4303578%22%20OR%20%22CHEMBL4303649%22%20OR%20%22CHEMBL292187%22%20OR%20%22CHEMBL4303522%22%20OR%20%22CHEMBL4065616%22%20OR%20%22CHEMBL312225%22%20OR%20%22CHEMBL1357648%22%20OR%20%22CHEMBL2403108%22%20OR%20%22CHEMBL73451%22%20OR%20%22CHEMBL47298%22%20OR%20%22CHEMBL449782%22%20OR%20%22CHEMBL496%22%20OR%20%22CHEMBL2010601%22%20OR%20%22CHEMBL1642%22%20OR%20%22CHEMBL1448187%22%20OR%20%22CHEMBL187709%22%20OR%20%22CHEMBL2107831%22%20OR%20%22CHEMBL47050%22%20OR%20%22CHEMBL535650%22%20OR%20%22CHEMBL2355051%22%20OR%20%22CHEMBL160%22%20OR%20%22CHEMBL305660%22%20OR%20%22CHEMBL4303716%22%20OR%20%22CHEMBL1448%22%20OR%20%22CHEMBL1200710%22%20OR%20%22CHEMBL1200675%22%20OR%20%22CHEMBL46740%22%20OR%20%22CHEMBL487%22%20OR%20%22CHEMBL1208572%22%20OR%20%22CHEMBL238188%22%20OR%20%22CHEMBL841%22%20OR%20%22CHEMBL682%22%20OR%20%22CHEMBL75880%22%20OR%20%22CHEMBL479%22%20OR%20%22CHEMBL2040682%22%20OR%20%22CHEMBL2105450%22%20OR%20%22CHEMBL786%22%20OR%20%22CHEMBL1713%22%20OR%20%22CHEMBL3989478%22%20OR%20%22CHEMBL1200750%22%20OR%20%22CHEMBL46516%22%20OR%20%22CHEMBL1690%22%20OR%20%22CHEMBL76%22%20OR%20%22CHEMBL461101%22%20OR%20%22CHEMBL1410068%22%20OR%20%22CHEMBL1751%22%20OR%20%22CHEMBL3353410%22%20OR%20%22CHEMBL504323%22%20OR%20%22CHEMBL184412%22%20OR%20%22CHEMBL1200848%22%20OR%20%22CHEMBL3301610%22%20OR%20%22CHEMBL264241%22%20OR%20%22CHEMBL1655%22%20OR%20%22CHEMBL3301622%22%20OR%20%22CHEMBL600325%22%20OR%20%22CHEMBL729%22%20OR%20%22CHEMBL416956%22%20OR%20%22CHEMBL1624459%22%20OR%20%22CHEMBL1401%22%20OR%20%22CHEMBL53325%22%20OR%20%22CHEMBL4073443%22%20OR%20%22CHEMBL4303782%22%20OR%20%22CHEMBL1626%22%20OR%20%22CHEMBL4303784%22%20OR%20%22CHEMBL4303781%22%20OR%20%22CHEMBL1535%22%20OR%20%22CHEMBL1214827%22%20OR%20%22CHEMBL4303785%22%20OR%20%22CHEMBL3786230%22%20OR%20%22CHEMBL415087%22%20OR%20%22CHEMBL4109308%22%20OR%20%22CHEMBL1230165%22%20OR%20%22CHEMBL1957266%22%20OR%20%22CHEMBL1435413%22%20OR%20%22CHEMBL529%22%20OR%20%22CHEMBL1524185%22%20OR%20%22CHEMBL495%22%20OR%20%22CHEMBL1651956%22%20OR%20%22CHEMBL1200485%22%20OR%20%22CHEMBL1397%22%20OR%20%22CHEMBL727%22%20OR%20%22CHEMBL1484738%22%20OR%20%22CHEMBL551978%22%20OR%20%22CHEMBL2105698%22%20OR%20%22CHEMBL98123%22%20OR%20%22CHEMBL1277001%22%20OR%20%22CHEMBL101309%22%20OR%20%22CHEMBL1316965%22%20OR%20%22CHEMBL2094620%22%20OR%20%22CHEMBL2171124%22%20OR%20%22CHEMBL85164%22%20OR%20%22CHEMBL2364622%22%20OR%20%22CHEMBL157101%22%20OR%20%22CHEMBL3989553%22%20OR%20%22CHEMBL3181957%22%20OR%20%22CHEMBL36342%22%20OR%20%22CHEMBL1946170%22%20OR%20%22CHEMBL71191%22%20OR%20%22CHEMBL1518572%22%20OR%20%22CHEMBL317840%22%20OR%20%22CHEMBL231779%22%20OR%20%22CHEMBL4303677%22%20OR%20%22CHEMBL2003538%22%20OR%20%22CHEMBL70663%22%20OR%20%22CHEMBL4303661%22%20OR%20%22CHEMBL550495%22%20OR%20%22CHEMBL46286%22%20OR%20%22CHEMBL2103883%22%20OR%20%22CHEMBL95431%22%20OR%20%22CHEMBL2103851%22%20OR%20%22CHEMBL152649%22%20OR%20%22CHEMBL298734%22%20OR%20%22CHEMBL1231723%22%20OR%20%22CHEMBL2364627%22%20OR%20%22CHEMBL283078%22%20OR%20%22CHEMBL3188386%22%20OR%20%22CHEMBL1368758%22%20OR%20%22CHEMBL508338%22%20OR%20%22CHEMBL294029%22%20OR%20%22CHEMBL559569%22%20OR%20%22CHEMBL3813873%22)) or [effective drugs tsv file directly](https://www.ebi.ac.uk/chembl/interface_api/delayed_jobs/outputs/DOWNLOAD-d5IyO9FRG3ybrE8DGzgss1gFjg2t7l0RMNFDOnwYhOo=/DOWNLOAD-d5IyO9FRG3ybrE8DGzgss1gFjg2t7l0RMNFDOnwYhOo=.zip) and save as chembl_drugs.tsv\n"
   ]
  },
  {
   "cell_type": "markdown",
   "metadata": {},
   "source": [
    "# Prepare LINCS signatures and metadata"
   ]
  },
  {
   "cell_type": "markdown",
   "metadata": {},
   "source": [
    "### Get signatures info"
   ]
  },
  {
   "cell_type": "code",
   "execution_count": null,
   "metadata": {},
   "outputs": [],
   "source": [
    "sig_info_gse92742 = pd.read_csv('../data/lincs/GSE92742/GSE92742_Broad_LINCS_sig_info.txt',\n",
    "                               sep='\\t', header=0, index_col=0, low_memory=False)\n",
    "sig_info_gse70138 = pd.read_csv('../data/lincs/GSE70138/GSE70138_Broad_LINCS_sig_info.txt',\n",
    "                               sep='\\t', header=0, index_col=0, low_memory=False)\n",
    "sig_info_gse92742 = sig_info_gse92742[sig_info_gse92742['pert_type']=='trt_cp']\n",
    "sig_info_gse70138 = sig_info_gse70138[sig_info_gse70138['pert_type']=='trt_cp']"
   ]
  },
  {
   "cell_type": "code",
   "execution_count": null,
   "metadata": {},
   "outputs": [],
   "source": [
    "fil = sig_info_gse92742['pert_id']!=sig_info_gse92742['pert_iname']\n",
    "sig_info_gse92742 = sig_info_gse92742[fil]\n",
    "fil = sig_info_gse70138['pert_id']!=sig_info_gse70138['pert_iname']\n",
    "sig_info_gse70138 = sig_info_gse70138[fil]"
   ]
  },
  {
   "cell_type": "code",
   "execution_count": null,
   "metadata": {},
   "outputs": [],
   "source": [
    "pert_inames = list(set(sig_info_gse70138['pert_iname']) | set(sig_info_gse92742['pert_iname']))"
   ]
  },
  {
   "cell_type": "markdown",
   "metadata": {},
   "source": [
    "### Get gene info (metadata for measured / infered genes)"
   ]
  },
  {
   "cell_type": "code",
   "execution_count": null,
   "metadata": {},
   "outputs": [],
   "source": [
    "gene_ids = pd.read_csv('../data/lincs/GSE92742_Broad_LINCS_gene_info.txt', \n",
    "                       sep='\\t', header=0, index_col=0)\n",
    "fil = gene_ids['pr_is_lm']==1\n",
    "genes_lm = gene_ids[fil]['pr_gene_symbol']\n",
    "genes_lm.index = genes_lm.index.astype(str)\n",
    "fil = gene_ids['pr_is_bing']==1\n",
    "genes_bing = gene_ids[fil]['pr_gene_symbol']\n",
    "genes_bing.index = genes_bing.index.astype(str)"
   ]
  },
  {
   "cell_type": "markdown",
   "metadata": {},
   "source": [
    "### Get gene expression data, and calculate consensus signatures"
   ]
  },
  {
   "cell_type": "code",
   "execution_count": null,
   "metadata": {},
   "outputs": [],
   "source": [
    "from scipy.stats import spearmanr\n",
    "def calc_MODZ(data):\n",
    "    \"\"\"calculates MODZ weights based on the original CMAP/L1000 study\n",
    "    use only lm genes for MODZ calculation!\"\"\"\n",
    "    if data.shape[1]==1:\n",
    "        weights = np.array([1.0])\n",
    "    elif data.shape[1]==2:\n",
    "        weights = np.array([[0.5], [0.5]])\n",
    "    else:\n",
    "        CM = spearmanr(data)[0]\n",
    "        fil = CM<0\n",
    "        CM[fil] = 0.01\n",
    "        weights = np.sum(CM, 1)-1\n",
    "        weights = weights / np.sum(weights)\n",
    "        weights = weights.reshape((-1, 1))\n",
    "    return weights"
   ]
  },
  {
   "cell_type": "code",
   "execution_count": null,
   "metadata": {},
   "outputs": [],
   "source": [
    "signatures_lm = pd.DataFrame(index=genes_lm.index, columns=pert_inames)\n",
    "signatures_bing = pd.DataFrame(index=genes_bing.index, columns=pert_inames)\n",
    "\n",
    "\n",
    "lname1 = '../data/lincs/GSE92742/GSE92742_Broad_LINCS_Level5_COMPZ.MODZ_n473647x12328.gctx'\n",
    "lname2 = '../data/lincs/GSE70138/GSE70138_Broad_LINCS_Level5_COMPZ_n118050x12328.gctx'"
   ]
  },
  {
   "cell_type": "code",
   "execution_count": null,
   "metadata": {},
   "outputs": [],
   "source": [
    "for i in range(len(pert_inames)):\n",
    "    piname = pert_inames[i]\n",
    "    if i % 100 == 0:\n",
    "        print(i, flush=True)\n",
    "    sample_ids1 = sig_info_gse92742[sig_info_gse92742['pert_iname']==piname].index\n",
    "    gex_lm1 = parse(lname1, cid=sample_ids1,rid=genes_lm.index).data_df.loc[genes_lm.index]\n",
    "    gex_bing1 = parse(lname1, cid=sample_ids1,rid=genes_bing.index).data_df.loc[genes_bing.index]\n",
    "    \n",
    "    sample_ids2 = sig_info_gse70138[sig_info_gse70138['pert_iname']==piname].index\n",
    "    gex_lm2 = parse(lname2, cid=sample_ids2,rid=genes_lm.index).data_df.loc[genes_lm.index]\n",
    "    gex_bing2 = parse(lname2, cid=sample_ids2,rid=genes_bing.index).data_df.loc[genes_bing.index]\n",
    "    \n",
    "    gex_lm = pd.concat([gex_lm1, gex_lm2], 1)\n",
    "    gex_bing = pd.concat([gex_bing1, gex_bing2], 1)\n",
    "    \n",
    "    weights = calc_MODZ(gex_lm)\n",
    "    gex_lm = pd.DataFrame(np.dot(gex_lm, weights), index=gex_lm.index, columns=[piname])\n",
    "    gex_bing = pd.DataFrame(np.dot(gex_bing, weights), index=gex_bing.index, columns=[piname])\n",
    "    \n",
    "    signatures_lm[piname] = gex_lm[piname]\n",
    "    signatures_bing[piname] = gex_bing[piname]\n",
    "signatures_lm.to_csv('../results/LINCS/signatures_lm_raw.csv')\n",
    "signatures_bing.to_csv('../results/LINCS/signatures_bing_raw.csv')"
   ]
  },
  {
   "cell_type": "code",
   "execution_count": null,
   "metadata": {},
   "outputs": [],
   "source": [
    "signatures_lm = pd.read_csv('../results/LINCS/signatures_lm_raw.csv',\n",
    "                           sep=',', header=0, index_col=0)\n",
    "signatures_bing = pd.read_csv('../results/LINCS/signatures_bing_raw.csv',\n",
    "                             sep=',', header=0,index_col=0)"
   ]
  },
  {
   "cell_type": "code",
   "execution_count": null,
   "metadata": {},
   "outputs": [],
   "source": [
    "signatures_lm.index = gene_ids.loc[signatures_lm.index]['pr_gene_symbol']\n",
    "signatures_bing.index = gene_ids.loc[signatures_bing.index]['pr_gene_symbol']"
   ]
  },
  {
   "cell_type": "code",
   "execution_count": null,
   "metadata": {},
   "outputs": [],
   "source": [
    "signatures_lm.to_csv('../results/LINCS/signatures_lm_gene.csv')\n",
    "signatures_bing.to_csv('../results/LINCS/signatures_bing_gene.csv')"
   ]
  },
  {
   "cell_type": "markdown",
   "metadata": {},
   "source": [
    "# Matching drugs between LINCS-L1000 and ChEMBL"
   ]
  },
  {
   "cell_type": "code",
   "execution_count": null,
   "metadata": {},
   "outputs": [],
   "source": [
    "chembl = pd.read_csv('../data/drugs/chembl_drugs.tsv', sep='\\t', header=0, index_col=0)\n",
    "gse92742 = pd.read_csv('../data/lincs/GSE92742/GSE92742_Broad_LINCS_pert_info.txt',\n",
    "                      sep='\\t', header=0, index_col=0)\n",
    "gse70138 = pd.read_csv('../data/lincs/GSE70138/GSE70138_Broad_LINCS_pert_info.txt',\n",
    "                      sep='\\t', header=0, index_col=0)\n",
    "gse92742 = gse92742[gse92742['pert_type']=='trt_cp']\n",
    "gse70138 = gse70138[gse70138['pert_type']=='trt_cp']"
   ]
  },
  {
   "cell_type": "code",
   "execution_count": null,
   "metadata": {},
   "outputs": [],
   "source": [
    "chembl_matching_dict={}\n",
    "for c in chembl.index:\n",
    "    chembl_matching_dict[c]=[]\n",
    "#matching by smile\n",
    "chembl_smile = chembl.index[~chembl['Smiles'].isna()]\n",
    "for c in chembl_smile:\n",
    "    smiles = chembl.loc[c, 'Smiles']\n",
    "    fil = gse92742['canonical_smiles']==smiles\n",
    "    if fil.sum()>0:\n",
    "        chembl_matching_dict[c] += list(gse92742[fil].index)\n",
    "    fil = gse70138['canonical_smiles']==smiles\n",
    "    if fil.sum()>0:\n",
    "        chembl_matching_dict[c] += list(gse70138[fil].index)\n",
    "#matching by name\n",
    "chembl_name = chembl.index[~chembl['Name'].isna()]\n",
    "for c in chembl_name:\n",
    "    name = chembl.loc[c, 'Name']\n",
    "    fil = gse92742['pert_iname']==name\n",
    "    if fil.sum()>0:\n",
    "        chembl_matching_dict[c] += list(gse92742[fil].index)\n",
    "    fil = gse70138['pert_iname']==name\n",
    "    if fil.sum()>0:\n",
    "        chembl_matching_dict[c] += list(gse70138[fil].index)\n",
    "#matching by name.lower\n",
    "for c in chembl_name:\n",
    "    name = chembl.loc[c, 'Name'].lower()\n",
    "    fil = gse92742['pert_iname']==name\n",
    "    if fil.sum()>0:\n",
    "        chembl_matching_dict[c] += list(gse92742[fil].index)\n",
    "    fil = gse70138['pert_iname']==name\n",
    "    if fil.sum()>0:\n",
    "        chembl_matching_dict[c] += list(gse70138[fil].index)\n",
    "#matching by synonym\n",
    "chembl_syn = chembl.index[~chembl['Synonyms'].isna()]\n",
    "for c in chembl_syn:\n",
    "    syns = chembl.loc[c, 'Synonyms'].split('|')\n",
    "    for syn_ in syns:\n",
    "        fil = gse92742['pert_iname']==syn_\n",
    "        if fil.sum()>0:\n",
    "            chembl_matching_dict[c] += list(gse92742[fil].index)\n",
    "        fil = gse70138['pert_iname']==name\n",
    "        if fil.sum()>0:\n",
    "            chembl_matching_dict[c] += list(gse70138[fil].index)\n",
    "#matching by synonym.lower\n",
    "for c in chembl_syn:\n",
    "    syns = chembl.loc[c, 'Synonyms'].lower().split('|')\n",
    "    for syn_ in syns:\n",
    "        fil = gse92742['pert_iname']==syn_\n",
    "        if fil.sum()>0:\n",
    "            chembl_matching_dict[c] += list(gse92742[fil].index)\n",
    "        fil = gse70138['pert_iname']==name\n",
    "        if fil.sum()>0:\n",
    "            chembl_matching_dict[c] += list(gse70138[fil].index)"
   ]
  },
  {
   "cell_type": "code",
   "execution_count": null,
   "metadata": {},
   "outputs": [],
   "source": [
    "for c in chembl.index:\n",
    "    if len(chembl_matching_dict[c])==0:\n",
    "        del chembl_matching_dict[c]\n",
    "    else:\n",
    "        chembl_matching_dict[c] = list(set(chembl_matching_dict[c]))"
   ]
  },
  {
   "cell_type": "code",
   "execution_count": null,
   "metadata": {},
   "outputs": [],
   "source": [
    "chembl_drugs = []\n",
    "for c in chembl_matching_dict:\n",
    "    chembl_drugs += chembl_matching_dict[c]"
   ]
  },
  {
   "cell_type": "code",
   "execution_count": null,
   "metadata": {},
   "outputs": [],
   "source": [
    "chembl_drugs92742 = list(set(gse92742.index) & set(chembl_drugs))\n",
    "chembl_drugs92742 = list(set(gse92742.loc[chembl_drugs92742]['pert_iname']))\n",
    "chembl_drugs70138 = list(set(gse70138.index) & set(chembl_drugs))\n",
    "chembl_drugs70138 = list(set(gse70138.loc[chembl_drugs70138]['pert_iname']))\n",
    "chembl_drugs = list(set(chembl_drugs92742) | set(chembl_drugs70138))"
   ]
  },
  {
   "cell_type": "code",
   "execution_count": null,
   "metadata": {},
   "outputs": [],
   "source": [
    "drug_signatures = pd.read_csv('../results/LINCS/signatures_lm_gene.csv', sep=',', header=0, index_col=0)"
   ]
  },
  {
   "cell_type": "code",
   "execution_count": null,
   "metadata": {},
   "outputs": [],
   "source": [
    "chembl_drugs = list(set(chembl_drugs) & set(drug_signatures.columns))"
   ]
  },
  {
   "cell_type": "code",
   "execution_count": null,
   "metadata": {},
   "outputs": [],
   "source": [
    "# Save effective drugs against SARS-CoV-2 \n",
    "# (overlapping drug names between drugs from LINCS perturbation database and from ChEMBL database)\n",
    "pd.Series(chembl_drugs).to_csv('../results/drugs/chembl_drugs.csv')"
   ]
  },
  {
   "cell_type": "code",
   "execution_count": null,
   "metadata": {},
   "outputs": [],
   "source": []
  }
 ],
 "metadata": {
  "kernelspec": {
   "display_name": "Python 3",
   "language": "python",
   "name": "python3"
  },
  "language_info": {
   "codemirror_mode": {
    "name": "ipython",
    "version": 3
   },
   "file_extension": ".py",
   "mimetype": "text/x-python",
   "name": "python",
   "nbconvert_exporter": "python",
   "pygments_lexer": "ipython3",
   "version": "3.7.6"
  }
 },
 "nbformat": 4,
 "nbformat_minor": 4
}
