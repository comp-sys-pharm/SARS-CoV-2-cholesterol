{
 "cells": [
  {
   "cell_type": "code",
   "execution_count": 6,
   "metadata": {},
   "outputs": [],
   "source": [
    "import pandas as pd\n",
    "import numpy as np"
   ]
  },
  {
   "cell_type": "code",
   "execution_count": 7,
   "metadata": {},
   "outputs": [],
   "source": [
    "from scipy.stats import spearmanr, pearsonr\n",
    "import seaborn as sns\n",
    "import matplotlib.pyplot as plt"
   ]
  },
  {
   "cell_type": "code",
   "execution_count": 26,
   "metadata": {},
   "outputs": [],
   "source": [
    "from sklearn.metrics import roc_curve, roc_auc_score"
   ]
  },
  {
   "cell_type": "markdown",
   "metadata": {},
   "source": [
    "Prediction of the targets identified by Li et al. 2020 using the similarity between the CRISPR KO-induced gene expression signatures (from LINCS-L1000 screen) and influenza A-induced infection signature in Calu-3 cells (GSE37571)."
   ]
  },
  {
   "cell_type": "markdown",
   "metadata": {},
   "source": [
    "## Read in data"
   ]
  },
  {
   "cell_type": "code",
   "execution_count": 8,
   "metadata": {},
   "outputs": [],
   "source": [
    "gene_info = pd.read_table('../data/revision/crispr_screen/geneinfo_beta.txt')\n",
    "sig_info = pd.read_table('../data/revision/crispr_screen/siginfo_beta.txt', low_memory=False)"
   ]
  },
  {
   "cell_type": "markdown",
   "metadata": {},
   "source": [
    "## Info"
   ]
  },
  {
   "cell_type": "code",
   "execution_count": 9,
   "metadata": {},
   "outputs": [],
   "source": [
    "sig_info = sig_info[sig_info['pert_type']=='trt_xpr']\n",
    "selected_cols = ['sig_id', 'pert_type', 'pert_id',  'cmap_name', 'cell_iname', 'pert_itime']\n",
    "sig_info = sig_info[selected_cols]\n",
    "sig_info = sig_info.set_index('sig_id', drop = True)"
   ]
  },
  {
   "cell_type": "code",
   "execution_count": 10,
   "metadata": {},
   "outputs": [
    {
     "data": {
      "text/html": [
       "<div>\n",
       "<style scoped>\n",
       "    .dataframe tbody tr th:only-of-type {\n",
       "        vertical-align: middle;\n",
       "    }\n",
       "\n",
       "    .dataframe tbody tr th {\n",
       "        vertical-align: top;\n",
       "    }\n",
       "\n",
       "    .dataframe thead th {\n",
       "        text-align: right;\n",
       "    }\n",
       "</style>\n",
       "<table border=\"1\" class=\"dataframe\">\n",
       "  <thead>\n",
       "    <tr style=\"text-align: right;\">\n",
       "      <th></th>\n",
       "      <th>pert_type</th>\n",
       "      <th>pert_id</th>\n",
       "      <th>cmap_name</th>\n",
       "      <th>cell_iname</th>\n",
       "      <th>pert_itime</th>\n",
       "    </tr>\n",
       "    <tr>\n",
       "      <th>sig_id</th>\n",
       "      <th></th>\n",
       "      <th></th>\n",
       "      <th></th>\n",
       "      <th></th>\n",
       "      <th></th>\n",
       "    </tr>\n",
       "  </thead>\n",
       "  <tbody>\n",
       "    <tr>\n",
       "      <th>HAHN001_ES2_96H:G06</th>\n",
       "      <td>trt_xpr</td>\n",
       "      <td>HAHN-000061</td>\n",
       "      <td>AURKB</td>\n",
       "      <td>ES2</td>\n",
       "      <td>96 h</td>\n",
       "    </tr>\n",
       "    <tr>\n",
       "      <th>HAHN001_HCC44_96H:E15</th>\n",
       "      <td>trt_xpr</td>\n",
       "      <td>BRDN0001062183</td>\n",
       "      <td>RAC1</td>\n",
       "      <td>HCC44</td>\n",
       "      <td>96 h</td>\n",
       "    </tr>\n",
       "    <tr>\n",
       "      <th>HAHN001_HCC44_96H:K22</th>\n",
       "      <td>trt_xpr</td>\n",
       "      <td>BRDN0000734411</td>\n",
       "      <td>KIF11</td>\n",
       "      <td>HCC44</td>\n",
       "      <td>96 h</td>\n",
       "    </tr>\n",
       "    <tr>\n",
       "      <th>HAHN001_HCC44_96H:L09</th>\n",
       "      <td>trt_xpr</td>\n",
       "      <td>HAHN-000098</td>\n",
       "      <td>XBP</td>\n",
       "      <td>HCC44</td>\n",
       "      <td>96 h</td>\n",
       "    </tr>\n",
       "    <tr>\n",
       "      <th>HAHN001_HCC44_96H:H08</th>\n",
       "      <td>trt_xpr</td>\n",
       "      <td>HAHN-000086</td>\n",
       "      <td>ORC4</td>\n",
       "      <td>HCC44</td>\n",
       "      <td>96 h</td>\n",
       "    </tr>\n",
       "  </tbody>\n",
       "</table>\n",
       "</div>"
      ],
      "text/plain": [
       "                      pert_type         pert_id cmap_name cell_iname  \\\n",
       "sig_id                                                                 \n",
       "HAHN001_ES2_96H:G06     trt_xpr     HAHN-000061     AURKB        ES2   \n",
       "HAHN001_HCC44_96H:E15   trt_xpr  BRDN0001062183      RAC1      HCC44   \n",
       "HAHN001_HCC44_96H:K22   trt_xpr  BRDN0000734411     KIF11      HCC44   \n",
       "HAHN001_HCC44_96H:L09   trt_xpr     HAHN-000098       XBP      HCC44   \n",
       "HAHN001_HCC44_96H:H08   trt_xpr     HAHN-000086      ORC4      HCC44   \n",
       "\n",
       "                      pert_itime  \n",
       "sig_id                            \n",
       "HAHN001_ES2_96H:G06         96 h  \n",
       "HAHN001_HCC44_96H:E15       96 h  \n",
       "HAHN001_HCC44_96H:K22       96 h  \n",
       "HAHN001_HCC44_96H:L09       96 h  \n",
       "HAHN001_HCC44_96H:H08       96 h  "
      ]
     },
     "execution_count": 10,
     "metadata": {},
     "output_type": "execute_result"
    }
   ],
   "source": [
    "sig_info.head()"
   ]
  },
  {
   "cell_type": "code",
   "execution_count": 11,
   "metadata": {},
   "outputs": [],
   "source": [
    "# select landmark genes\n",
    "fil = gene_info['feature_space']=='landmark'\n",
    "genes_lm = gene_info[fil]\n",
    "genes_lm = genes_lm.set_index('gene_id', drop = True)['gene_symbol']\n",
    "genes_lm.index = genes_lm.index.astype(str)"
   ]
  },
  {
   "cell_type": "markdown",
   "metadata": {},
   "source": [
    "# Consensus signatures"
   ]
  },
  {
   "cell_type": "code",
   "execution_count": 12,
   "metadata": {},
   "outputs": [],
   "source": [
    "def calc_MODZ(data):\n",
    "    \"\"\"calculates MODZ weights based on the original CMAP/L1000 study\n",
    "    use only lm genes for MODZ calculation!\"\"\"\n",
    "    if data.shape[1]==1:\n",
    "        weights = np.array([1.0])\n",
    "    elif data.shape[1]==2:\n",
    "        weights = np.array([[0.5], [0.5]])\n",
    "    else:\n",
    "        CM = spearmanr(data)[0]\n",
    "        fil = CM<0\n",
    "        CM[fil] = 0.01\n",
    "        weights = np.sum(CM, 1)-1\n",
    "        weights = weights / np.sum(weights)\n",
    "        weights = weights.reshape((-1, 1))\n",
    "    return weights"
   ]
  },
  {
   "cell_type": "code",
   "execution_count": null,
   "metadata": {},
   "outputs": [],
   "source": [
    "cmap_names = list(set(sig_info.cmap_name.dropna()))\n",
    "signatures_lm = pd.DataFrame(index=genes_lm.index, columns=cmap_names)\n",
    "lname = '../data/revision/crispr_screen/level5_beta_trt_xpr_n142901x12328.gctx'\n",
    "\n",
    "for i in range(len(cmap_names)):\n",
    "    cname = cmap_names[i]\n",
    "    \n",
    "    if i % 100 == 0:\n",
    "        print(i, end = ',', flush=True)\n",
    "\n",
    "    sample_ids = sig_info[sig_info['cmap_name']==cname].index\n",
    "    gex_lm = parse(lname, cid=sample_ids,rid=genes_lm.index).data_df.loc[genes_lm.index]\n",
    "        \n",
    "    weights = calc_MODZ(gex_lm)\n",
    "    gex_lm = pd.DataFrame(np.dot(gex_lm, weights), index=gex_lm.index, columns=[cname])\n",
    "    \n",
    "    signatures_lm[cname] = gex_lm[cname]\n",
    "signatures_lm.to_csv('../data/revision/crispr_screen/signatures_lm.csv')\n",
    "print('done')"
   ]
  },
  {
   "cell_type": "markdown",
   "metadata": {},
   "source": [
    "## Calculate similarity"
   ]
  },
  {
   "cell_type": "code",
   "execution_count": 45,
   "metadata": {},
   "outputs": [],
   "source": [
    "signatures_lm = pd.read_csv('../data/revision/crispr_screen/signatures_lm.csv', index_col = 0)"
   ]
  },
  {
   "cell_type": "code",
   "execution_count": 46,
   "metadata": {},
   "outputs": [],
   "source": [
    "virus_signatures = pd.read_csv('../results/microarray_and_rnaseq_expression.csv', index_col=0)"
   ]
  },
  {
   "cell_type": "code",
   "execution_count": 47,
   "metadata": {},
   "outputs": [],
   "source": [
    "# map gene names of CRISPR signatures\n",
    "genes_lm.index = genes_lm.index.astype('int')\n",
    "signatures_lm.index = signatures_lm.index.map(genes_lm.to_dict())"
   ]
  },
  {
   "cell_type": "code",
   "execution_count": 48,
   "metadata": {},
   "outputs": [],
   "source": [
    "# filter 802 common genes\n",
    "virus_signatures = virus_signatures[virus_signatures.index.isin(genes_lm)]\n",
    "signatures_lm = signatures_lm[signatures_lm.index.isin(virus_signatures.index)]"
   ]
  },
  {
   "cell_type": "code",
   "execution_count": 49,
   "metadata": {},
   "outputs": [],
   "source": [
    "virus_signatures = virus_signatures.loc[signatures_lm.index]"
   ]
  },
  {
   "cell_type": "code",
   "execution_count": 50,
   "metadata": {},
   "outputs": [],
   "source": [
    "def calculate_similarity(drug_signatures, virus_signatures):\n",
    "    correlation_df = pd.DataFrame(columns=drug_signatures.columns, index=virus_signatures.columns)\n",
    "    genes = set(drug_signatures.index)&set(virus_signatures.index)\n",
    "    drugs = drug_signatures.loc[genes]\n",
    "    samples = virus_signatures.loc[genes]\n",
    "    \n",
    "    for drug in drugs.columns:\n",
    "        for sample in samples.columns:\n",
    "            correlation = spearmanr(drugs.loc[:,drug], samples.loc[:,sample])\n",
    "            correlation_df.loc[sample, drug] = correlation[0]       \n",
    "               \n",
    "    return correlation_df"
   ]
  },
  {
   "cell_type": "code",
   "execution_count": 51,
   "metadata": {},
   "outputs": [],
   "source": [
    "similarities_lm_genes = calculate_similarity(signatures_lm, virus_signatures)"
   ]
  },
  {
   "cell_type": "code",
   "execution_count": 53,
   "metadata": {},
   "outputs": [],
   "source": [
    "similarities_lm_genes.to_csv('../data/revision/crispr_screen/similarities_landmark_genes.csv')"
   ]
  },
  {
   "cell_type": "markdown",
   "metadata": {},
   "source": [
    "# Influenza A CRISPR"
   ]
  },
  {
   "cell_type": "code",
   "execution_count": 54,
   "metadata": {},
   "outputs": [],
   "source": [
    "def get_common_genes(x,y):\n",
    "    \n",
    "    common_genes = set(x.index)&set(y.index)\n",
    "    a = x.loc[common_genes].copy()\n",
    "    b = y.loc[common_genes].copy()\n",
    "    return a,b"
   ]
  },
  {
   "cell_type": "code",
   "execution_count": 73,
   "metadata": {},
   "outputs": [],
   "source": [
    "samples = ['GSE37571_Calu3_Influenza']"
   ]
  },
  {
   "cell_type": "code",
   "execution_count": 74,
   "metadata": {},
   "outputs": [],
   "source": [
    "iav = pd.read_excel('../data/revision/IAV_cripsr/41467_2019_13965_MOESM4_ESM_sd1.xlsx',\n",
    "                    sheet_name='Secondary screen', index_col = 0)\n",
    "iav = iav['screen p'].dropna()"
   ]
  },
  {
   "cell_type": "code",
   "execution_count": 75,
   "metadata": {},
   "outputs": [],
   "source": [
    "similarities_lm_genes = pd.read_csv('../data/revision/crispr_screen/similarities_landmark_genes.csv', index_col = 0)\n",
    "similarities_iav = similarities_lm_genes.T[samples]"
   ]
  },
  {
   "cell_type": "code",
   "execution_count": 76,
   "metadata": {},
   "outputs": [],
   "source": [
    "iav,similarities_iav = get_common_genes(iav, similarities_iav)"
   ]
  },
  {
   "cell_type": "code",
   "execution_count": 77,
   "metadata": {},
   "outputs": [],
   "source": [
    "sign_iav = pd.Series(0, index = iav.index)\n",
    "sign_iav.loc[iav < 0.05] = 1"
   ]
  },
  {
   "cell_type": "code",
   "execution_count": 79,
   "metadata": {},
   "outputs": [
    {
     "data": {
      "image/png": "[encoded data removed]",
      "text/plain": [
       "<Figure size 432x288 with 1 Axes>"
      ]
     },
     "metadata": {
      "needs_background": "light"
     },
     "output_type": "display_data"
    }
   ],
   "source": [
    "fpr, tpr, thresholds = roc_curve(sign_iav, similarities_iav.GSE37571_Calu3_Influenza)\n",
    "auc = roc_auc_score(y_score=similarities_iav.GSE37571_Calu3_Influenza, y_true=sign_iav)\n",
    "\n",
    "plt.plot(fpr, tpr, label = 'ROCAUC ' + str(round(auc, 3)))\n",
    "\n",
    "plt.xlabel('FPR', fontsize=15)\n",
    "plt.ylabel('TPR',  fontsize=15)\n",
    "plt.xlim([0, 1])\n",
    "plt.ylim([0, 1])\n",
    "plt.legend(fontsize = 14)\n",
    "plt.savefig('../figures/revision/IAV_CRISPR_similarity_ROC.pdf')\n",
    "plt.savefig('../figures/revision/IAV_CRISPR_similarity_ROC.png', dpi = 100)\n",
    "\n",
    "plt.show()\n"
   ]
  },
  {
   "cell_type": "code",
   "execution_count": null,
   "metadata": {},
   "outputs": [],
   "source": []
  }
 ],
 "metadata": {
  "kernelspec": {
   "display_name": "Python 3",
   "language": "python",
   "name": "python3"
  },
  "language_info": {
   "codemirror_mode": {
    "name": "ipython",
    "version": 3
   },
   "file_extension": ".py",
   "mimetype": "text/x-python",
   "name": "python",
   "nbconvert_exporter": "python",
   "pygments_lexer": "ipython3",
   "version": "3.7.6"
  }
 },
 "nbformat": 4,
 "nbformat_minor": 4
}
