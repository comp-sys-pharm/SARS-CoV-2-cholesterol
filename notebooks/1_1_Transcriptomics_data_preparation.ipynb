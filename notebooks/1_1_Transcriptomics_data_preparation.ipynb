{
 "cells": [
  {
   "cell_type": "markdown",
   "metadata": {},
   "source": [
    "## Gene Expression (SARS, MERS, SARS2)"
   ]
  },
  {
   "cell_type": "markdown",
   "metadata": {},
   "source": [
    "Download RAW data and series matrix from GEO\n",
    "- Microarray \n",
    " * [GSE28166](https://www.ncbi.nlm.nih.gov/geo/query/acc.cgi?acc=GSE28166), [raw data](https://www.ncbi.nlm.nih.gov/geo/download/?acc=GSE28166&format=file), [series matrix](https://ftp.ncbi.nlm.nih.gov/geo/series/GSE28nnn/GSE28166/matrix/GSE28166_series_matrix.txt.gz)\n",
    " * [GSE33267](https://www.ncbi.nlm.nih.gov/geo/query/acc.cgi?acc=GSE33267), [raw data](https://www.ncbi.nlm.nih.gov/geo/download/?acc=GSE33267&format=file), [series matrix](https://ftp.ncbi.nlm.nih.gov/geo/series/GSE33nnn/GSE33267/matrix/GSE33267_series_matrix.txt.gz)\n",
    " * [GSE37571](https://www.ncbi.nlm.nih.gov/geo/query/acc.cgi?acc=GSE37571), [raw data](https://www.ncbi.nlm.nih.gov/geo/download/?acc=GSE37571&format=file), [series matrix](https://ftp.ncbi.nlm.nih.gov/geo/series/GSE37nnn/GSE37571/matrix/GSE37571_series_matrix.txt.gz)\n",
    " * [GSE45042](https://www.ncbi.nlm.nih.gov/geo/query/acc.cgi?acc=GSE45042), [raw data](https://www.ncbi.nlm.nih.gov/geo/download/?acc=GSE45042&format=file), [series matrix](https://ftp.ncbi.nlm.nih.gov/geo/series/GSE45nnn/GSE45042/matrix/GSE45042_series_matrix.txt.gz)\n",
    " * [GSE56677](https://www.ncbi.nlm.nih.gov/geo/query/acc.cgi?acc=GSE56677), [raw data](https://www.ncbi.nlm.nih.gov/geo/download/?acc=GSE56677&format=file), [series matrix](https://ftp.ncbi.nlm.nih.gov/geo/series/GSE56nnn/GSE56677/matrix/GSE56677_series_matrix.txt.gz)\n",
    "- RNASeq\n",
    " * [GSE147507](https://www.ncbi.nlm.nih.gov/geo/query/acc.cgi?acc=GSE147507) (Human), [raw data](https://www.ncbi.nlm.nih.gov/geo/download/?acc=GSE147507&format=file&file=GSE147507%5FRawReadCounts%5FHuman%2Etsv%2Egz), [GSE147507-GPL18573_series_matrix](https://ftp.ncbi.nlm.nih.gov/geo/series/GSE147nnn/GSE147507/matrix/GSE147507-GPL18573_series_matrix.txt.gz)\n",
    " * [GSE148729](https://www.ncbi.nlm.nih.gov/geo/query/acc.cgi?acc=GSE148729) (totalRNA), [raw data](https://www.ncbi.nlm.nih.gov/geo/download/?acc=GSE148729&format=file&file=GSE148729%5FCalu3%5FtotalRNA%5Freadcounts%2Etsv%2Egz), [GSE148729-GPL20301_series_matrix](https://ftp.ncbi.nlm.nih.gov/geo/series/GSE148nnn/GSE148729/matrix/GSE148729-GPL20301_series_matrix.txt.gz)"
   ]
  },
  {
   "cell_type": "code",
   "execution_count": 1,
   "metadata": {},
   "outputs": [],
   "source": [
    "import numpy as np\n",
    "import pandas as pd\n",
    "from sklearn.decomposition import PCA"
   ]
  },
  {
   "cell_type": "code",
   "execution_count": 2,
   "metadata": {},
   "outputs": [],
   "source": [
    "from matplotlib import pyplot as plt\n",
    "import seaborn as sns\n",
    "sns.set_style(\"whitegrid\")\n",
    "%matplotlib inline"
   ]
  },
  {
   "cell_type": "code",
   "execution_count": 3,
   "metadata": {},
   "outputs": [],
   "source": [
    "import subprocess as sp"
   ]
  },
  {
   "cell_type": "markdown",
   "metadata": {},
   "source": [
    "## Microarray"
   ]
  },
  {
   "cell_type": "markdown",
   "metadata": {},
   "source": [
    "#### Metadata"
   ]
  },
  {
   "cell_type": "code",
   "execution_count": 4,
   "metadata": {},
   "outputs": [],
   "source": [
    "def add_properties_to_metadata(data, sep='_', properties={} ):\n",
    "    for prop,position in properties.items():\n",
    "        data[prop] = data['ID'].apply(lambda x: x.split(sep)[position])\n",
    "    if 'Time' in properties:\n",
    "        data['Time']=data['Time'].str.upper().apply(lambda x: x[:-1] if x[-1]=='R' else x)\n",
    "    \n",
    "    return data"
   ]
  },
  {
   "cell_type": "code",
   "execution_count": 5,
   "metadata": {},
   "outputs": [],
   "source": [
    "def create_metadata_structure(data):\n",
    "    data=pd.DataFrame(data.loc['!Sample_geo_accession'])\n",
    "    data['ID']=data.index\n",
    "    data.index=data['!Sample_geo_accession']\n",
    "    del data['!Sample_geo_accession']\n",
    "    \n",
    "    return data"
   ]
  },
  {
   "cell_type": "code",
   "execution_count": 6,
   "metadata": {},
   "outputs": [],
   "source": [
    "def save_metadata_microarray(accession, firstrow, virus='not_mock', sep='_', properties = {'Virus':1, 'Time':2, 'Replicate':3}):\n",
    "    \"\"\"\n",
    "    Save Microarray metadata to csv (accession_meta.csv)\n",
    "    :param accession: geo accession lowercase\n",
    "    :param firstrow: read_csv skip first x row\n",
    "    :param virus: if virus is not mock set virus name (eg. WT)\n",
    "    :param sep: split ID by this separator \n",
    "    :param properties: dictionary: set position of properties (eg. Time) in ID\n",
    "    \"\"\"\n",
    "    data=pd.read_csv(f'../data/{accession.lower()}/{accession.upper()}_series_matrix.txt',\n",
    "                     sep='\\t',skiprows=firstrow,low_memory=False,index_col=0)\n",
    "    data = create_metadata_structure(data)\n",
    "    data = add_properties_to_metadata(data, sep, properties)\n",
    "    \n",
    "    data['Virus'].replace('mock','Mock',inplace=True)\n",
    "    if virus == 'not_mock': \n",
    "        not_mock = data['Virus']!='Mock'\n",
    "    else: \n",
    "        not_mock = data['Virus']==virus\n",
    "    \n",
    "    data.loc[data.index[not_mock],'Virus']=f'{accession.upper()}_Virus'\n",
    "    data.to_csv(f'../data/{accession.lower()}/{accession.lower()}_meta.csv',sep=',')"
   ]
  },
  {
   "cell_type": "code",
   "execution_count": 7,
   "metadata": {},
   "outputs": [],
   "source": [
    "save_metadata_microarray('gse28166', 37, properties = {'Virus':0, 'Time':1, 'Replicate':2})\n",
    "save_metadata_microarray('gse33267', 35, sep=' ', virus='WT')\n",
    "save_metadata_microarray('gse37571', 31)\n",
    "save_metadata_microarray('gse45042', 39)\n",
    "save_metadata_microarray('gse56677', 35)"
   ]
  },
  {
   "cell_type": "markdown",
   "metadata": {},
   "source": [
    "#### Gene expression"
   ]
  },
  {
   "cell_type": "markdown",
   "metadata": {},
   "source": [
    "##### Normalizing raw data"
   ]
  },
  {
   "cell_type": "code",
   "execution_count": 8,
   "metadata": {},
   "outputs": [],
   "source": [
    "def runR(script, output = True):\n",
    "    result = sp.run(['/usr/local/bin/Rscript', '--verbose', script], capture_output=True)\n",
    "    print(result)\n",
    "    if result.stderr:\n",
    "        print(\"Error: \")\n",
    "        print(result.stderr)\n",
    "    \n",
    "    if output: \n",
    "        print(\"Result: \")\n",
    "        print(result.stdout)\n",
    "        \n",
    "    return"
   ]
  },
  {
   "cell_type": "code",
   "execution_count": 13,
   "metadata": {
    "collapsed": true
   },
   "outputs": [
    {
     "name": "stdout",
     "output_type": "stream",
     "text": [
      "CompletedProcess(args=['/usr/local/bin/Rscript', '--verbose', '../code/preprocess_microarray.R'], returncode=0, stdout=b'Read ../data/gse28166/GSE28166_RAW//GSM697564.txt.gz \\nRead ../data/gse28166/GSE28166_RAW//GSM697565.txt.gz \\nRead ../data/gse28166/GSE28166_RAW//GSM697566.txt.gz \\nRead ../data/gse28166/GSE28166_RAW//GSM697567.txt.gz \\nRead ../data/gse28166/GSE28166_RAW//GSM697568.txt.gz \\nRead ../data/gse28166/GSE28166_RAW//GSM697569.txt.gz \\nRead ../data/gse28166/GSE28166_RAW//GSM697570.txt.gz \\nRead ../data/gse28166/GSE28166_RAW//GSM697571.txt.gz \\nRead ../data/gse28166/GSE28166_RAW//GSM697572.txt.gz \\nRead ../data/gse28166/GSE28166_RAW//GSM697573.txt.gz \\nRead ../data/gse28166/GSE28166_RAW//GSM697574.txt.gz \\nRead ../data/gse28166/GSE28166_RAW//GSM697575.txt.gz \\nRead ../data/gse28166/GSE28166_RAW//GSM697576.txt.gz \\nRead ../data/gse28166/GSE28166_RAW//GSM697577.txt.gz \\nRead ../data/gse28166/GSE28166_RAW//GSM697578.txt.gz \\nRead ../data/gse28166/GSE28166_RAW//GSM697579.txt.gz \\nRead ../data/gse28166/GSE28166_RAW//GSM697580.txt.gz \\nRead ../data/gse28166/GSE28166_RAW//GSM697581.txt.gz \\nRead ../data/gse28166/GSE28166_RAW//GSM697582.txt.gz \\nRead ../data/gse28166/GSE28166_RAW//GSM697583.txt.gz \\nRead ../data/gse28166/GSE28166_RAW//GSM697584.txt.gz \\nRead ../data/gse28166/GSE28166_RAW//GSM697585.txt.gz \\nRead ../data/gse28166/GSE28166_RAW//GSM697586.txt.gz \\nRead ../data/gse28166/GSE28166_RAW//GSM697587.txt.gz \\nRead ../data/gse28166/GSE28166_RAW//GSM697588.txt.gz \\nRead ../data/gse28166/GSE28166_RAW//GSM697589.txt.gz \\nRead ../data/gse28166/GSE28166_RAW//GSM697590.txt.gz \\nRead ../data/gse28166/GSE28166_RAW//GSM697591.txt.gz \\nRead ../data/gse28166/GSE28166_RAW//GSM697592.txt.gz \\nRead ../data/gse28166/GSE28166_RAW//GSM697593.txt.gz \\nRead ../data/gse28166/GSE28166_RAW//GSM697594.txt.gz \\nRead ../data/gse28166/GSE28166_RAW//GSM697595.txt.gz \\nRead ../data/gse28166/GSE28166_RAW//GSM697596.txt.gz \\nRead ../data/gse28166/GSE28166_RAW//GSM697597.txt.gz \\nRead ../data/gse28166/GSE28166_RAW//GSM697598.txt.gz \\nRead ../data/gse28166/GSE28166_RAW//GSM697599.txt.gz \\nArray 1 corrected\\nArray 2 corrected\\nArray 3 corrected\\nArray 4 corrected\\nArray 5 corrected\\nArray 6 corrected\\nArray 7 corrected\\nArray 8 corrected\\nArray 9 corrected\\nArray 10 corrected\\nArray 11 corrected\\nArray 12 corrected\\nArray 13 corrected\\nArray 14 corrected\\nArray 15 corrected\\nArray 16 corrected\\nArray 17 corrected\\nArray 18 corrected\\nArray 19 corrected\\nArray 20 corrected\\nArray 21 corrected\\nArray 22 corrected\\nArray 23 corrected\\nArray 24 corrected\\nArray 25 corrected\\nArray 26 corrected\\nArray 27 corrected\\nArray 28 corrected\\nArray 29 corrected\\nArray 30 corrected\\nArray 31 corrected\\nArray 32 corrected\\nArray 33 corrected\\nArray 34 corrected\\nArray 35 corrected\\nArray 36 corrected\\nRead ../data/gse33267/GSE33267_RAW//GSM823177_US93503719_251485059370_S01_GE1-v5_95_Feb07_1_1.txt.gz \\nRead ../data/gse33267/GSE33267_RAW//GSM823178_US93503719_251485059419_S01_GE1-v5_95_Feb07_1_1.txt.gz \\nRead ../data/gse33267/GSE33267_RAW//GSM823179_US93503719_251485059994_S01_GE1-v5_95_Feb07_1_4.txt.gz \\nRead ../data/gse33267/GSE33267_RAW//GSM823180_US93503719_251485060011_S01_GE1-v5_95_Feb07_1_1.txt.gz \\nRead ../data/gse33267/GSE33267_RAW//GSM823181_US93503719_251485060018_S01_GE1-v5_95_Feb07_1_2.txt.gz \\nRead ../data/gse33267/GSE33267_RAW//GSM823182_US93503719_251485060021_S01_GE1-v5_95_Feb07_1_4.txt.gz \\nRead ../data/gse33267/GSE33267_RAW//GSM823183_US93503719_251485060500_S01_GE1-v5_95_Feb07_1_2.txt.gz \\nRead ../data/gse33267/GSE33267_RAW//GSM823184_US93503719_251485060013_S01_GE1-v5_95_Feb07_1_4.txt.gz \\nRead ../data/gse33267/GSE33267_RAW//GSM823185_US93503719_251485060019_S01_GE1-v5_95_Feb07_1_1.txt.gz \\nRead ../data/gse33267/GSE33267_RAW//GSM823186_US93503719_251485059375_S01_GE1-v5_95_Feb07_1_1.txt.gz \\nRead ../data/gse33267/GSE33267_RAW//GSM823187_US93503719_251485060015_S01_GE1-v5_95_Feb07_1_4.txt.gz \\nRead ../data/gse33267/GSE33267_RAW//GSM823188_US93503719_251485060500_S01_GE1-v5_95_Feb07_1_3.txt.gz \\nRead ../data/gse33267/GSE33267_RAW//GSM823189_US93503719_251485060012_S01_GE1-v5_95_Feb07_1_3.txt.gz \\nRead ../data/gse33267/GSE33267_RAW//GSM823190_US93503719_251485060020_S01_GE1-v5_95_Feb07_1_4.txt.gz \\nRead ../data/gse33267/GSE33267_RAW//GSM823191_US93503719_251485059417_S01_GE1-v5_95_Feb07_1_3.txt.gz \\nRead ../data/gse33267/GSE33267_RAW//GSM823192_US93503719_251485059420_S01_GE1-v5_95_Feb07_1_4.txt.gz \\nRead ../data/gse33267/GSE33267_RAW//GSM823193_US93503719_251485060014_S01_GE1-v5_95_Feb07_1_4.txt.gz \\nRead ../data/gse33267/GSE33267_RAW//GSM823194_US93503719_251485059994_S01_GE1-v5_95_Feb07_1_3.txt.gz \\nRead ../data/gse33267/GSE33267_RAW//GSM823195_US93503719_251485059420_S01_GE1-v5_95_Feb07_1_3.txt.gz \\nRead ../data/gse33267/GSE33267_RAW//GSM823196_US93503719_251485059995_S01_GE1-v5_95_Feb07_1_3.txt.gz \\nRead ../data/gse33267/GSE33267_RAW//GSM823197_US93503719_251485059371_S01_GE1-v5_95_Feb07_1_2.txt.gz \\nRead ../data/gse33267/GSE33267_RAW//GSM823198_US93503719_251485060021_S01_GE1-v5_95_Feb07_1_1.txt.gz \\nRead ../data/gse33267/GSE33267_RAW//GSM823199_US93503719_251485059376_S01_GE1-v5_95_Feb07_1_3.txt.gz \\nRead ../data/gse33267/GSE33267_RAW//GSM823200_US93503719_251485059372_S01_GE1-v5_95_Feb07_1_4.txt.gz \\nRead ../data/gse33267/GSE33267_RAW//GSM823201_US93503719_251485059371_S01_GE1-v5_95_Feb07_1_1.txt.gz \\nRead ../data/gse33267/GSE33267_RAW//GSM823202_US93503719_251485060015_S01_GE1-v5_95_Feb07_1_3.txt.gz \\nRead ../data/gse33267/GSE33267_RAW//GSM823203_US93503719_251485059369_S01_GE1-v5_95_Feb07_1_3.txt.gz \\nRead ../data/gse33267/GSE33267_RAW//GSM823204_US93503719_251485059372_S01_GE1-v5_95_Feb07_1_3.txt.gz \\nRead ../data/gse33267/GSE33267_RAW//GSM823205_US93503719_251485059995_S01_GE1-v5_95_Feb07_1_4.txt.gz \\nRead ../data/gse33267/GSE33267_RAW//GSM823206_US93503719_251485060019_S01_GE1-v5_95_Feb07_1_2.txt.gz \\nRead ../data/gse33267/GSE33267_RAW//GSM823207_US93503719_251485059368_S01_GE1-v5_95_Feb07_1_1.txt.gz \\nRead ../data/gse33267/GSE33267_RAW//GSM823208_US93503719_251485060014_S01_GE1-v5_95_Feb07_1_2.txt.gz \\nRead ../data/gse33267/GSE33267_RAW//GSM823209_US93503719_251485059419_S01_GE1-v5_95_Feb07_1_2.txt.gz \\nRead ../data/gse33267/GSE33267_RAW//GSM823210_US93503719_251485060012_S01_GE1-v5_95_Feb07_1_4.txt.gz \\nRead ../data/gse33267/GSE33267_RAW//GSM823211_US93503719_251485060014_S01_GE1-v5_95_Feb07_1_1.txt.gz \\nRead ../data/gse33267/GSE33267_RAW//GSM823212_US93503719_251485059371_S01_GE1-v5_95_Feb07_1_3.txt.gz \\nRead ../data/gse33267/GSE33267_RAW//GSM823213_US93503719_251485060019_S01_GE1-v5_95_Feb07_1_3.txt.gz \\nRead ../data/gse33267/GSE33267_RAW//GSM823214_US93503719_251485060022_S01_GE1-v5_95_Feb07_1_3.txt.gz \\nRead ../data/gse33267/GSE33267_RAW//GSM823215_US93503719_251485059418_S01_GE1-v5_95_Feb07_1_4.txt.gz \\nRead ../data/gse33267/GSE33267_RAW//GSM823216_US93503719_251485059417_S01_GE1-v5_95_Feb07_1_2.txt.gz \\nRead ../data/gse33267/GSE33267_RAW//GSM823217_US93503719_251485060015_S01_GE1-v5_95_Feb07_1_2.txt.gz \\nRead ../data/gse33267/GSE33267_RAW//GSM823218_US93503719_251485060011_S01_GE1-v5_95_Feb07_1_2.txt.gz \\nRead ../data/gse33267/GSE33267_RAW//GSM823219_US93503719_251485060020_S01_GE1-v5_95_Feb07_1_3.txt.gz \\nRead ../data/gse33267/GSE33267_RAW//GSM823220_US93503719_251485060014_S01_GE1-v5_95_Feb07_1_3.txt.gz \\nRead ../data/gse33267/GSE33267_RAW//GSM823221_US93503719_251485060022_S01_GE1-v5_95_Feb07_1_1.txt.gz \\nRead ../data/gse33267/GSE33267_RAW//GSM823222_US93503719_251485059369_S01_GE1-v5_95_Feb07_1_2.txt.gz \\nRead ../data/gse33267/GSE33267_RAW//GSM823223_US93503719_251485059371_S01_GE1-v5_95_Feb07_1_4.txt.gz \\nRead ../data/gse33267/GSE33267_RAW//GSM823224_US93503719_251485059366_S01_GE1-v5_95_Feb07_1_4.txt.gz \\nRead ../data/gse33267/GSE33267_RAW//GSM823225_US93503719_251485060015_S01_GE1-v5_95_Feb07_1_1.txt.gz \\nRead ../data/gse33267/GSE33267_RAW//GSM823226_US93503719_251485060011_S01_GE1-v5_95_Feb07_1_4.txt.gz \\nRead ../data/gse33267/GSE33267_RAW//GSM823227_US93503719_251485060019_S01_GE1-v5_95_Feb07_1_4.txt.gz \\nRead ../data/gse33267/GSE33267_RAW//GSM823228_US93503719_251485060500_S01_GE1-v5_95_Feb07_1_4.txt.gz \\nRead ../data/gse33267/GSE33267_RAW//GSM823229_US93503719_251485059367_S01_GE1-v5_95_Feb07_1_2.txt.gz \\nRead ../data/gse33267/GSE33267_RAW//GSM823230_US93503719_251485059419_S01_GE1-v5_95_Feb07_1_3.txt.gz \\nRead ../data/gse33267/GSE33267_RAW//GSM823231_US93503719_251485060018_S01_GE1-v5_95_Feb07_1_4.txt.gz \\nRead ../data/gse33267/GSE33267_RAW//GSM823232_US93503719_251485059373_S01_GE1-v5_95_Feb07_1_3.txt.gz \\nRead ../data/gse33267/GSE33267_RAW//GSM823233_US93503719_251485059370_S01_GE1-v5_95_Feb07_1_3.txt.gz \\nRead ../data/gse33267/GSE33267_RAW//GSM823234_US93503719_251485059375_S01_GE1-v5_95_Feb07_1_2.txt.gz \\nRead ../data/gse33267/GSE33267_RAW//GSM823235_US93503719_251485060013_S01_GE1-v5_95_Feb07_1_2.txt.gz \\nRead ../data/gse33267/GSE33267_RAW//GSM823236_US93503719_251485060018_S01_GE1-v5_95_Feb07_1_3.txt.gz \\nRead ../data/gse33267/GSE33267_RAW//GSM823237_US93503719_251485059373_S01_GE1-v5_95_Feb07_1_4.txt.gz \\nRead ../data/gse33267/GSE33267_RAW//GSM823238_US93503719_251485059419_S01_GE1-v5_95_Feb07_1_4.txt.gz \\nRead ../data/gse33267/GSE33267_RAW//GSM823239_US93503719_251485060018_S01_GE1-v5_95_Feb07_1_1.txt.gz \\nRead ../data/gse33267/GSE33267_RAW//GSM823240_US93503719_251485059376_S01_GE1-v5_95_Feb07_1_1.txt.gz \\nRead ../data/gse33267/GSE33267_RAW//GSM823241_US93503719_251485060021_S01_GE1-v5_95_Feb07_1_2.txt.gz \\nRead ../data/gse33267/GSE33267_RAW//GSM823242_US93503719_251485059995_S01_GE1-v5_95_Feb07_1_2.txt.gz \\nRead ../data/gse33267/GSE33267_RAW//GSM823243_US93503719_251485059373_S01_GE1-v5_95_Feb07_1_1.txt.gz \\nRead ../data/gse33267/GSE33267_RAW//GSM823244_US93503719_251485059420_S01_GE1-v5_95_Feb07_1_2.txt.gz \\nRead ../data/gse33267/GSE33267_RAW//GSM823245_US93503719_251485059417_S01_GE1-v5_95_Feb07_1_4.txt.gz \\nRead ../data/gse33267/GSE33267_RAW//GSM823246_US93503719_251485059995_S01_GE1-v5_95_Feb07_1_1.txt.gz \\nRead ../data/gse33267/GSE33267_RAW//GSM823247_US93503719_251485059372_S01_GE1-v5_95_Feb07_1_2.txt.gz \\nRead ../data/gse33267/GSE33267_RAW//GSM823248_US93503719_251485059368_S01_GE1-v5_95_Feb07_1_4.txt.gz \\nRead ../data/gse33267/GSE33267_RAW//GSM823249_US93503719_251485060012_S01_GE1-v5_95_Feb07_1_1.txt.gz \\nRead ../data/gse33267/GSE33267_RAW//GSM823250_US93503719_251485059366_S01_GE1-v5_95_Feb07_1_3.txt.gz \\nRead ../data/gse33267/GSE33267_RAW//GSM823251_US93503719_251485060020_S01_GE1-v5_95_Feb07_1_1.txt.gz \\nRead ../data/gse33267/GSE33267_RAW//GSM823252_US93503719_251485059420_S01_GE1-v5_95_Feb07_1_1.txt.gz \\nRead ../data/gse33267/GSE33267_RAW//GSM823253_US93503719_251485059418_S01_GE1-v5_95_Feb07_1_1.txt.gz \\nRead ../data/gse33267/GSE33267_RAW//GSM823254_US93503719_251485059376_S01_GE1-v5_95_Feb07_1_4.txt.gz \\nRead ../data/gse33267/GSE33267_RAW//GSM823255_US93503719_251485059372_S01_GE1-v5_95_Feb07_1_1.txt.gz \\nRead ../data/gse33267/GSE33267_RAW//GSM823256_US93503719_251485059373_S01_GE1-v5_95_Feb07_1_2.txt.gz \\nRead ../data/gse33267/GSE33267_RAW//GSM823257_US93503719_251485059994_S01_GE1-v5_95_Feb07_1_1.txt.gz \\nRead ../data/gse33267/GSE33267_RAW//GSM823258_US93503719_251485059368_S01_GE1-v5_95_Feb07_1_2.txt.gz \\nRead ../data/gse33267/GSE33267_RAW//GSM823259_US93503719_251485059366_S01_GE1-v5_95_Feb07_1_1.txt.gz \\nRead ../data/gse33267/GSE33267_RAW//GSM823260_US93503719_251485060021_S01_GE1-v5_95_Feb07_1_3.txt.gz \\nRead ../data/gse33267/GSE33267_RAW//GSM823261_US93503719_251485060011_S01_GE1-v5_95_Feb07_1_3.txt.gz \\nRead ../data/gse33267/GSE33267_RAW//GSM823262_US93503719_251485060013_S01_GE1-v5_95_Feb07_1_1.txt.gz \\nRead ../data/gse33267/GSE33267_RAW//GSM823263_US93503719_251485059368_S01_GE1-v5_95_Feb07_1_3.txt.gz \\nRead ../data/gse33267/GSE33267_RAW//GSM823264_US93503719_251485059369_S01_GE1-v5_95_Feb07_1_4.txt.gz \\nRead ../data/gse33267/GSE33267_RAW//GSM823265_US93503719_251485059367_S01_GE1-v5_95_Feb07_1_3.txt.gz \\nRead ../data/gse33267/GSE33267_RAW//GSM823266_US93503719_251485059366_S01_GE1-v5_95_Feb07_1_2.txt.gz \\nRead ../data/gse33267/GSE33267_RAW//GSM823267_US93503719_251485060022_S01_GE1-v5_95_Feb07_1_2.txt.gz \\nRead ../data/gse33267/GSE33267_RAW//GSM823268_US93503719_251485059418_S01_GE1-v5_95_Feb07_1_2.txt.gz \\nRead ../data/gse33267/GSE33267_RAW//GSM823269_US93503719_251485059376_S01_GE1-v5_95_Feb07_1_2.txt.gz \\nRead ../data/gse33267/GSE33267_RAW//GSM823270_US93503719_251485059375_S01_GE1-v5_95_Feb07_1_4.txt.gz \\nRead ../data/gse33267/GSE33267_RAW//GSM823271_US93503719_251485059367_S01_GE1-v5_95_Feb07_1_4.txt.gz \\nRead ../data/gse33267/GSE33267_RAW//GSM823272_US93503719_251485059370_S01_GE1-v5_95_Feb07_1_4.txt.gz \\nRead ../data/gse33267/GSE33267_RAW//GSM823273_US93503719_251485059369_S01_GE1-v5_95_Feb07_1_1.txt.gz \\nRead ../data/gse33267/GSE33267_RAW//GSM823274_US93503719_251485060013_S01_GE1-v5_95_Feb07_1_3.txt.gz \\nRead ../data/gse33267/GSE33267_RAW//GSM823275_US93503719_251485059418_S01_GE1-v5_95_Feb07_1_3.txt.gz \\nArray 1 corrected\\nArray 2 corrected\\nArray 3 corrected\\nArray 4 corrected\\nArray 5 corrected\\nArray 6 corrected\\nArray 7 corrected\\nArray 8 corrected\\nArray 9 corrected\\nArray 10 corrected\\nArray 11 corrected\\nArray 12 corrected\\nArray 13 corrected\\nArray 14 corrected\\nArray 15 corrected\\nArray 16 corrected\\nArray 17 corrected\\nArray 18 corrected\\nArray 19 corrected\\nArray 20 corrected\\nArray 21 corrected\\nArray 22 corrected\\nArray 23 corrected\\nArray 24 corrected\\nArray 25 corrected\\nArray 26 corrected\\nArray 27 corrected\\nArray 28 corrected\\nArray 29 corrected\\nArray 30 corrected\\nArray 31 corrected\\nArray 32 corrected\\nArray 33 corrected\\nArray 34 corrected\\nArray 35 corrected\\nArray 36 corrected\\nArray 37 corrected\\nArray 38 corrected\\nArray 39 corrected\\nArray 40 corrected\\nArray 41 corrected\\nArray 42 corrected\\nArray 43 corrected\\nArray 44 corrected\\nArray 45 corrected\\nArray 46 corrected\\nArray 47 corrected\\nArray 48 corrected\\nArray 49 corrected\\nArray 50 corrected\\nArray 51 corrected\\nArray 52 corrected\\nArray 53 corrected\\nArray 54 corrected\\nArray 55 corrected\\nArray 56 corrected\\nArray 57 corrected\\nArray 58 corrected\\nArray 59 corrected\\nArray 60 corrected\\nArray 61 corrected\\nArray 62 corrected\\nArray 63 corrected\\nArray 64 corrected\\nArray 65 corrected\\nArray 66 corrected\\nArray 67 corrected\\nArray 68 corrected\\nArray 69 corrected\\nArray 70 corrected\\nArray 71 corrected\\nArray 72 corrected\\nArray 73 corrected\\nArray 74 corrected\\nArray 75 corrected\\nArray 76 corrected\\nArray 77 corrected\\nArray 78 corrected\\nArray 79 corrected\\nArray 80 corrected\\nArray 81 corrected\\nArray 82 corrected\\nArray 83 corrected\\nArray 84 corrected\\nArray 85 corrected\\nArray 86 corrected\\nArray 87 corrected\\nArray 88 corrected\\nArray 89 corrected\\nArray 90 corrected\\nArray 91 corrected\\nArray 92 corrected\\nArray 93 corrected\\nArray 94 corrected\\nArray 95 corrected\\nArray 96 corrected\\nArray 97 corrected\\nArray 98 corrected\\nArray 99 corrected\\nRead ../data/gse37571/GSE37571_RAW//GSM921892_US93503719_251485060197_S01_GE1_107_Sep09_1_1.txt.gz \\nRead ../data/gse37571/GSE37571_RAW//GSM921893_US93503719_251485060073_S01_GE1-v5_95_Feb07_1_3.txt.gz \\nRead ../data/gse37571/GSE37571_RAW//GSM921894_US93503719_251485060033_S01_GE1-v5_95_Feb07_1_3.txt.gz \\nRead ../data/gse37571/GSE37571_RAW//GSM921895_US93503719_251485060176_S01_GE1-v5_95_Feb07_1_1.txt.gz \\nRead ../data/gse37571/GSE37571_RAW//GSM921896_US93503719_251485060034_S01_GE1-v5_95_Feb07_1_1.txt.gz \\nRead ../data/gse37571/GSE37571_RAW//GSM921897_US93503719_251485060195_S01_GE1-v5_95_Feb07_1_1.txt.gz \\nRead ../data/gse37571/GSE37571_RAW//GSM921898_US93503719_251485060196_S01_GE1-v5_95_Feb07_1_2.txt.gz \\nRead ../data/gse37571/GSE37571_RAW//GSM921899_US93503719_251485060032_S01_GE1-v5_95_Feb07_1_3.txt.gz \\nRead ../data/gse37571/GSE37571_RAW//GSM921900_US93503719_251485060034_S01_GE1-v5_95_Feb07_1_4.txt.gz \\nRead ../data/gse37571/GSE37571_RAW//GSM921901_US93503719_251485060075_S01_GE1-v5_95_Feb07_1_4.txt.gz \\nRead ../data/gse37571/GSE37571_RAW//GSM921902_US93503719_251485060035_S01_GE1-v5_95_Feb07_1_3.txt.gz \\nRead ../data/gse37571/GSE37571_RAW//GSM921903_US93503719_251485060076_S01_GE1-v5_95_Feb07_1_3.txt.gz \\nRead ../data/gse37571/GSE37571_RAW//GSM921904_US93503719_251485060035_S01_GE1-v5_95_Feb07_1_2.txt.gz \\nRead ../data/gse37571/GSE37571_RAW//GSM921905_US93503719_251485060196_S01_GE1-v5_95_Feb07_1_4.txt.gz \\nRead ../data/gse37571/GSE37571_RAW//GSM921906_US93503719_251485060025_S01_GE1-v5_95_Feb07_1_4.txt.gz \\nRead ../data/gse37571/GSE37571_RAW//GSM921907_US93503719_251485060073_S01_GE1-v5_95_Feb07_1_1.txt.gz \\nRead ../data/gse37571/GSE37571_RAW//GSM921908_US93503719_251485060034_S01_GE1-v5_95_Feb07_1_2.txt.gz \\nRead ../data/gse37571/GSE37571_RAW//GSM921909_US93503719_251485060033_S01_GE1-v5_95_Feb07_1_4.txt.gz \\nRead ../data/gse37571/GSE37571_RAW//GSM921910_US93503719_251485060035_S01_GE1-v5_95_Feb07_1_1.txt.gz \\nRead ../data/gse37571/GSE37571_RAW//GSM921911_US93503719_251485060076_S01_GE1-v5_95_Feb07_1_1.txt.gz \\nRead ../data/gse37571/GSE37571_RAW//GSM921912_US93503719_251485060073_S01_GE1-v5_95_Feb07_1_2.txt.gz \\nRead ../data/gse37571/GSE37571_RAW//GSM921913_US93503719_251485060033_S01_GE1-v5_95_Feb07_1_2.txt.gz \\nRead ../data/gse37571/GSE37571_RAW//GSM921914_US93503719_251485060073_S01_GE1-v5_95_Feb07_1_4.txt.gz \\nRead ../data/gse37571/GSE37571_RAW//GSM921915_US93503719_251485060074_S01_GE1-v5_95_Feb07_1_1.txt.gz \\nRead ../data/gse37571/GSE37571_RAW//GSM921916_US93503719_251485060025_S01_GE1-v5_95_Feb07_1_2.txt.gz \\nRead ../data/gse37571/GSE37571_RAW//GSM921917_US93503719_251485060031_S01_GE1-v5_95_Feb07_1_4.txt.gz \\nRead ../data/gse37571/GSE37571_RAW//GSM921918_US93503719_251485060196_S01_GE1-v5_95_Feb07_1_3.txt.gz \\nRead ../data/gse37571/GSE37571_RAW//GSM921919_US93503719_251485060032_S01_GE1-v5_95_Feb07_1_2.txt.gz \\nRead ../data/gse37571/GSE37571_RAW//GSM921920_US93503719_251485060074_S01_GE1-v5_95_Feb07_1_4.txt.gz \\nRead ../data/gse37571/GSE37571_RAW//GSM921921_US93503719_251485060072_S01_GE1-v5_95_Feb07_1_1.txt.gz \\nRead ../data/gse37571/GSE37571_RAW//GSM921922_US93503719_251485060031_S01_GE1-v5_95_Feb07_1_1.txt.gz \\nRead ../data/gse37571/GSE37571_RAW//GSM921923_US93503719_251485060197_S01_GE1-v5_95_Feb07_1_2.txt.gz \\nRead ../data/gse37571/GSE37571_RAW//GSM921924_US93503719_251485060196_S01_GE1-v5_95_Feb07_1_1.txt.gz \\nRead ../data/gse37571/GSE37571_RAW//GSM921925_US93503719_251485060197_S01_GE1-v5_95_Feb07_1_3.txt.gz \\nRead ../data/gse37571/GSE37571_RAW//GSM921926_US93503719_251485060025_S01_GE1-v5_95_Feb07_1_1.txt.gz \\nRead ../data/gse37571/GSE37571_RAW//GSM921927_US93503719_251485060075_S01_GE1-v5_95_Feb07_1_3.txt.gz \\nRead ../data/gse37571/GSE37571_RAW//GSM921928_US93503719_251485060031_S01_GE1-v5_95_Feb07_1_3.txt.gz \\nRead ../data/gse37571/GSE37571_RAW//GSM921929_US93503719_251485060034_S01_GE1-v5_95_Feb07_1_3.txt.gz \\nRead ../data/gse37571/GSE37571_RAW//GSM921930_US93503719_251485060195_S01_GE1-v5_95_Feb07_1_4.txt.gz \\nRead ../data/gse37571/GSE37571_RAW//GSM921931_US93503719_251485060032_S01_GE1-v5_95_Feb07_1_1.txt.gz \\nRead ../data/gse37571/GSE37571_RAW//GSM921932_US93503719_251485060195_S01_GE1-v5_95_Feb07_1_2.txt.gz \\nRead ../data/gse37571/GSE37571_RAW//GSM921933_US93503719_251485060176_S01_GE1-v5_95_Feb07_1_4.txt.gz \\nRead ../data/gse37571/GSE37571_RAW//GSM921934_US93503719_251485060072_S01_GE1-v5_95_Feb07_1_2.txt.gz \\nRead ../data/gse37571/GSE37571_RAW//GSM921935_US93503719_251485060076_S01_GE1-v5_95_Feb07_1_2.txt.gz \\nRead ../data/gse37571/GSE37571_RAW//GSM921936_US93503719_251485060074_S01_GE1-v5_95_Feb07_1_3.txt.gz \\nRead ../data/gse37571/GSE37571_RAW//GSM921937_US93503719_251485060072_S01_GE1-v5_95_Feb07_1_4.txt.gz \\nRead ../data/gse37571/GSE37571_RAW//GSM921938_US93503719_251485060031_S01_GE1-v5_95_Feb07_1_2.txt.gz \\nRead ../data/gse37571/GSE37571_RAW//GSM921939_US93503719_251485060075_S01_GE1-v5_95_Feb07_1_2.txt.gz \\nRead ../data/gse37571/GSE37571_RAW//GSM921940_US93503719_251485060076_S01_GE1-v5_95_Feb07_1_4.txt.gz \\nRead ../data/gse37571/GSE37571_RAW//GSM921941_US93503719_251485060032_S01_GE1-v5_95_Feb07_1_4.txt.gz \\nRead ../data/gse37571/GSE37571_RAW//GSM921942_US93503719_251485060195_S01_GE1-v5_95_Feb07_1_3.txt.gz \\nRead ../data/gse37571/GSE37571_RAW//GSM921943_US93503719_251485060176_S01_GE1-v5_95_Feb07_1_2.txt.gz \\nRead ../data/gse37571/GSE37571_RAW//GSM921944_US93503719_251485060072_S01_GE1-v5_95_Feb07_1_3.txt.gz \\nRead ../data/gse37571/GSE37571_RAW//GSM921945_US93503719_251485060074_S01_GE1-v5_95_Feb07_1_2.txt.gz \\nArray 1 corrected\\nArray 2 corrected\\nArray 3 corrected\\nArray 4 corrected\\nArray 5 corrected\\nArray 6 corrected\\nArray 7 corrected\\nArray 8 corrected\\nArray 9 corrected\\nArray 10 corrected\\nArray 11 corrected\\nArray 12 corrected\\nArray 13 corrected\\nArray 14 corrected\\nArray 15 corrected\\nArray 16 corrected\\nArray 17 corrected\\nArray 18 corrected\\nArray 19 corrected\\nArray 20 corrected\\nArray 21 corrected\\nArray 22 corrected\\nArray 23 corrected\\nArray 24 corrected\\nArray 25 corrected\\nArray 26 corrected\\nArray 27 corrected\\nArray 28 corrected\\nArray 29 corrected\\nArray 30 corrected\\nArray 31 corrected\\nArray 32 corrected\\nArray 33 corrected\\nArray 34 corrected\\nArray 35 corrected\\nArray 36 corrected\\nArray 37 corrected\\nArray 38 corrected\\nArray 39 corrected\\nArray 40 corrected\\nArray 41 corrected\\nArray 42 corrected\\nArray 43 corrected\\nArray 44 corrected\\nArray 45 corrected\\nArray 46 corrected\\nArray 47 corrected\\nArray 48 corrected\\nArray 49 corrected\\nArray 50 corrected\\nArray 51 corrected\\nArray 52 corrected\\nArray 53 corrected\\nArray 54 corrected\\nRead ../data/gse45042/GSE45042_RAW//GSM1096511_US93503719_251485073364_S01_GE1_107_Sep09_1_1.txt.gz \\nRead ../data/gse45042/GSE45042_RAW//GSM1096512_US93503719_251485073364_S01_GE1_107_Sep09_1_2.txt.gz \\nRead ../data/gse45042/GSE45042_RAW//GSM1096513_US93503719_251485073364_S01_GE1_107_Sep09_1_4.txt.gz \\nRead ../data/gse45042/GSE45042_RAW//GSM1096514_US93503719_251485073365_S01_GE1_107_Sep09_1_1.txt.gz \\nRead ../data/gse45042/GSE45042_RAW//GSM1096515_US93503719_251485073365_S01_GE1_107_Sep09_1_2.txt.gz \\nRead ../data/gse45042/GSE45042_RAW//GSM1096516_US93503719_251485073365_S01_GE1_107_Sep09_1_3.txt.gz \\nRead ../data/gse45042/GSE45042_RAW//GSM1096517_US93503719_251485073365_S01_GE1_107_Sep09_1_4.txt.gz \\nRead ../data/gse45042/GSE45042_RAW//GSM1096518_US93503719_251485073366_S01_GE1_107_Sep09_1_2.txt.gz \\nRead ../data/gse45042/GSE45042_RAW//GSM1096519_US93503719_251485073366_S01_GE1_107_Sep09_1_3.txt.gz \\nRead ../data/gse45042/GSE45042_RAW//GSM1096520_US93503719_251485073366_S01_GE1_107_Sep09_1_4.txt.gz \\nRead ../data/gse45042/GSE45042_RAW//GSM1096521_US93503719_251485073367_S01_GE1_107_Sep09_1_1.txt.gz \\nRead ../data/gse45042/GSE45042_RAW//GSM1096522_US93503719_251485073367_S01_GE1_107_Sep09_1_2.txt.gz \\nRead ../data/gse45042/GSE45042_RAW//GSM1096523_US93503719_251485073367_S01_GE1_107_Sep09_1_3.txt.gz \\nRead ../data/gse45042/GSE45042_RAW//GSM1096524_US93503719_251485073367_S01_GE1_107_Sep09_1_4.txt.gz \\nRead ../data/gse45042/GSE45042_RAW//GSM1096525_US93503719_251485073368_S01_GE1_107_Sep09_1_1.txt.gz \\nRead ../data/gse45042/GSE45042_RAW//GSM1096526_US93503719_251485073368_S01_GE1_107_Sep09_1_2.txt.gz \\nRead ../data/gse45042/GSE45042_RAW//GSM1096527_US93503719_251485073368_S01_GE1_107_Sep09_1_3.txt.gz \\nRead ../data/gse45042/GSE45042_RAW//GSM1096528_US93503719_251485073369_S01_GE1_107_Sep09_1_1.txt.gz \\nRead ../data/gse45042/GSE45042_RAW//GSM1096529_US93503719_251485073369_S01_GE1_107_Sep09_1_2.txt.gz \\nRead ../data/gse45042/GSE45042_RAW//GSM1096530_US93503719_251485073369_S01_GE1_107_Sep09_1_3.txt.gz \\nRead ../data/gse45042/GSE45042_RAW//GSM1096531_US93503719_251485073370_S01_GE1_107_Sep09_1_2.txt.gz \\nRead ../data/gse45042/GSE45042_RAW//GSM1096532_US93503719_251485073370_S01_GE1_107_Sep09_1_3.txt.gz \\nRead ../data/gse45042/GSE45042_RAW//GSM1096533_US93503719_251485073370_S01_GE1_107_Sep09_1_4.txt.gz \\nRead ../data/gse45042/GSE45042_RAW//GSM1096534_US93503719_251485073371_S01_GE1_107_Sep09_1_1.txt.gz \\nRead ../data/gse45042/GSE45042_RAW//GSM1096535_US93503719_251485073371_S01_GE1_107_Sep09_1_2.txt.gz \\nRead ../data/gse45042/GSE45042_RAW//GSM1096536_US93503719_251485073371_S01_GE1_107_Sep09_1_3.txt.gz \\nRead ../data/gse45042/GSE45042_RAW//GSM1096537_US93503719_251485073371_S01_GE1_107_Sep09_1_4.txt.gz \\nRead ../data/gse45042/GSE45042_RAW//GSM1096538_US93503719_251485073372_S01_GE1_107_Sep09_1_2.txt.gz \\nRead ../data/gse45042/GSE45042_RAW//GSM1096539_US93503719_251485073372_S01_GE1_107_Sep09_1_3.txt.gz \\nRead ../data/gse45042/GSE45042_RAW//GSM1096540_US93503719_251485073373_S01_GE1_107_Sep09_1_1.txt.gz \\nRead ../data/gse45042/GSE45042_RAW//GSM1096541_US93503719_251485073373_S01_GE1_107_Sep09_1_2.txt.gz \\nRead ../data/gse45042/GSE45042_RAW//GSM1096542_US93503719_251485073373_S01_GE1_107_Sep09_1_3.txt.gz \\nArray 1 corrected\\nArray 2 corrected\\nArray 3 corrected\\nArray 4 corrected\\nArray 5 corrected\\nArray 6 corrected\\nArray 7 corrected\\nArray 8 corrected\\nArray 9 corrected\\nArray 10 corrected\\nArray 11 corrected\\nArray 12 corrected\\nArray 13 corrected\\nArray 14 corrected\\nArray 15 corrected\\nArray 16 corrected\\nArray 17 corrected\\nArray 18 corrected\\nArray 19 corrected\\nArray 20 corrected\\nArray 21 corrected\\nArray 22 corrected\\nArray 23 corrected\\nArray 24 corrected\\nArray 25 corrected\\nArray 26 corrected\\nArray 27 corrected\\nArray 28 corrected\\nArray 29 corrected\\nArray 30 corrected\\nArray 31 corrected\\nArray 32 corrected\\nRead ../data/gse56677/GSE56677_RAW//GSM1366711_US93503719_253949416157_S01_GE1_107_Sep09_1_1.txt.gz \\nRead ../data/gse56677/GSE56677_RAW//GSM1366712_US93503719_253949416157_S01_GE1_107_Sep09_1_2.txt.gz \\nRead ../data/gse56677/GSE56677_RAW//GSM1366713_US93503719_253949416157_S01_GE1_107_Sep09_1_3.txt.gz \\nRead ../data/gse56677/GSE56677_RAW//GSM1366714_US93503719_253949416157_S01_GE1_107_Sep09_2_3.txt.gz \\nRead ../data/gse56677/GSE56677_RAW//GSM1366715_US93503719_253949416157_S01_GE1_107_Sep09_2_4.txt.gz \\nRead ../data/gse56677/GSE56677_RAW//GSM1366716_US93503719_253949416160_S01_GE1_107_Sep09_1_1.txt.gz \\nRead ../data/gse56677/GSE56677_RAW//GSM1366717_US93503719_253949416160_S01_GE1_107_Sep09_1_3.txt.gz \\nRead ../data/gse56677/GSE56677_RAW//GSM1366718_US93503719_253949416160_S01_GE1_107_Sep09_2_1.txt.gz \\nRead ../data/gse56677/GSE56677_RAW//GSM1366719_US93503719_253949416160_S01_GE1_107_Sep09_2_2.txt.gz \\nRead ../data/gse56677/GSE56677_RAW//GSM1366720_US93503719_253949416160_S01_GE1_107_Sep09_2_4.txt.gz \\nRead ../data/gse56677/GSE56677_RAW//GSM1366721_US93503719_253949416180_S01_GE1_107_Sep09_1_3.txt.gz \\nRead ../data/gse56677/GSE56677_RAW//GSM1366722_US93503719_253949416180_S01_GE1_107_Sep09_1_4.txt.gz \\nRead ../data/gse56677/GSE56677_RAW//GSM1366723_US93503719_253949416180_S01_GE1_107_Sep09_2_1.txt.gz \\nRead ../data/gse56677/GSE56677_RAW//GSM1366724_US93503719_253949416181_S01_GE1_107_Sep09_1_3.txt.gz \\nRead ../data/gse56677/GSE56677_RAW//GSM1366725_US93503719_253949416181_S01_GE1_107_Sep09_1_4.txt.gz \\nRead ../data/gse56677/GSE56677_RAW//GSM1366726_US93503719_253949416181_S01_GE1_107_Sep09_2_2.txt.gz \\nRead ../data/gse56677/GSE56677_RAW//GSM1366727_US93503719_253949416181_S01_GE1_107_Sep09_2_3.txt.gz \\nRead ../data/gse56677/GSE56677_RAW//GSM1366728_US93503719_253949416181_S01_GE1_107_Sep09_2_4.txt.gz \\nRead ../data/gse56677/GSE56677_RAW//GSM1366729_US93503719_253949416195_S01_GE1_107_Sep09_1_1.txt.gz \\nRead ../data/gse56677/GSE56677_RAW//GSM1366730_US93503719_253949416195_S01_GE1_107_Sep09_1_2.txt.gz \\nRead ../data/gse56677/GSE56677_RAW//GSM1366731_US93503719_253949416195_S01_GE1_107_Sep09_1_4.txt.gz \\nRead ../data/gse56677/GSE56677_RAW//GSM1366732_US93503719_253949416195_S01_GE1_107_Sep09_2_1.txt.gz \\nRead ../data/gse56677/GSE56677_RAW//GSM1366733_US93503719_253949416195_S01_GE1_107_Sep09_2_2.txt.gz \\nRead ../data/gse56677/GSE56677_RAW//GSM1366734_US93503719_253949416195_S01_GE1_107_Sep09_2_3.txt.gz \\nRead ../data/gse56677/GSE56677_RAW//GSM1366735_US93503719_253949416196_S01_GE1_107_Sep09_1_1.txt.gz \\nRead ../data/gse56677/GSE56677_RAW//GSM1366736_US93503719_253949416196_S01_GE1_107_Sep09_1_2.txt.gz \\nRead ../data/gse56677/GSE56677_RAW//GSM1366737_US93503719_253949416196_S01_GE1_107_Sep09_1_4.txt.gz \\nRead ../data/gse56677/GSE56677_RAW//GSM1366738_US93503719_253949416196_S01_GE1_107_Sep09_2_1.txt.gz \\nRead ../data/gse56677/GSE56677_RAW//GSM1366739_US93503719_253949416196_S01_GE1_107_Sep09_2_4.txt.gz \\nRead ../data/gse56677/GSE56677_RAW//GSM1366740_US93503719_253949416197_S01_GE1_107_Sep09_1_1.txt.gz \\nRead ../data/gse56677/GSE56677_RAW//GSM1366741_US93503719_253949416197_S01_GE1_107_Sep09_1_3.txt.gz \\nRead ../data/gse56677/GSE56677_RAW//GSM1366742_US93503719_253949416197_S01_GE1_107_Sep09_2_2.txt.gz \\nRead ../data/gse56677/GSE56677_RAW//GSM1366743_US93503719_253949416197_S01_GE1_107_Sep09_2_3.txt.gz \\nArray 1 corrected\\nArray 2 corrected\\nArray 3 corrected\\nArray 4 corrected\\nArray 5 corrected\\nArray 6 corrected\\nArray 7 corrected\\nArray 8 corrected\\nArray 9 corrected\\nArray 10 corrected\\nArray 11 corrected\\nArray 12 corrected\\nArray 13 corrected\\nArray 14 corrected\\nArray 15 corrected\\nArray 16 corrected\\nArray 17 corrected\\nArray 18 corrected\\nArray 19 corrected\\nArray 20 corrected\\nArray 21 corrected\\nArray 22 corrected\\nArray 23 corrected\\nArray 24 corrected\\nArray 25 corrected\\nArray 26 corrected\\nArray 27 corrected\\nArray 28 corrected\\nArray 29 corrected\\nArray 30 corrected\\nArray 31 corrected\\nArray 32 corrected\\nArray 33 corrected\\n[1] \"SUCCESS\"\\n', stderr=b'running\\n  \\'/Library/Frameworks/R.framework/Versions/4.0/Resources/bin/R --no-echo --no-restore --file=../code/preprocess_microarray.R\\'\\n\\nLoading required package: AnnotationDbi\\nLoading required package: stats4\\nLoading required package: BiocGenerics\\nLoading required package: parallel\\n\\nAttaching package: \\xe2\\x80\\x98BiocGenerics\\xe2\\x80\\x99\\n\\nThe following objects are masked from \\xe2\\x80\\x98package:parallel\\xe2\\x80\\x99:\\n\\n    clusterApply, clusterApplyLB, clusterCall, clusterEvalQ,\\n    clusterExport, clusterMap, parApply, parCapply, parLapply,\\n    parLapplyLB, parRapply, parSapply, parSapplyLB\\n\\nThe following object is masked from \\xe2\\x80\\x98package:limma\\xe2\\x80\\x99:\\n\\n    plotMA\\n\\nThe following objects are masked from \\xe2\\x80\\x98package:stats\\xe2\\x80\\x99:\\n\\n    IQR, mad, sd, var, xtabs\\n\\nThe following objects are masked from \\xe2\\x80\\x98package:base\\xe2\\x80\\x99:\\n\\n    Filter, Find, Map, Position, Reduce, anyDuplicated, append,\\n    as.data.frame, basename, cbind, colnames, dirname, do.call,\\n    duplicated, eval, evalq, get, grep, grepl, intersect, is.unsorted,\\n    lapply, mapply, match, mget, order, paste, pmax, pmax.int, pmin,\\n    pmin.int, rank, rbind, rownames, sapply, setdiff, sort, table,\\n    tapply, union, unique, unsplit, which, which.max, which.min\\n\\nLoading required package: Biobase\\nWelcome to Bioconductor\\n\\n    Vignettes contain introductory material; view with\\n    \\'browseVignettes()\\'. To cite Bioconductor, see\\n    \\'citation(\"Biobase\")\\', and for packages \\'citation(\"pkgname\")\\'.\\n\\nLoading required package: IRanges\\nLoading required package: S4Vectors\\n\\nAttaching package: \\xe2\\x80\\x98S4Vectors\\xe2\\x80\\x99\\n\\nThe following object is masked from \\xe2\\x80\\x98package:base\\xe2\\x80\\x99:\\n\\n    expand.grid\\n\\nLoading required package: org.Hs.eg.db\\n\\n\\n\\'select()\\' returned 1:1 mapping between keys and columns\\n\\'select()\\' returned 1:1 mapping between keys and columns\\n\\'select()\\' returned 1:1 mapping between keys and columns\\n\\'select()\\' returned 1:1 mapping between keys and columns\\n\\'select()\\' returned 1:1 mapping between keys and columns\\n')\n",
      "Error: \n",
      "b'running\\n  \\'/Library/Frameworks/R.framework/Versions/4.0/Resources/bin/R --no-echo --no-restore --file=../code/preprocess_microarray.R\\'\\n\\nLoading required package: AnnotationDbi\\nLoading required package: stats4\\nLoading required package: BiocGenerics\\nLoading required package: parallel\\n\\nAttaching package: \\xe2\\x80\\x98BiocGenerics\\xe2\\x80\\x99\\n\\nThe following objects are masked from \\xe2\\x80\\x98package:parallel\\xe2\\x80\\x99:\\n\\n    clusterApply, clusterApplyLB, clusterCall, clusterEvalQ,\\n    clusterExport, clusterMap, parApply, parCapply, parLapply,\\n    parLapplyLB, parRapply, parSapply, parSapplyLB\\n\\nThe following object is masked from \\xe2\\x80\\x98package:limma\\xe2\\x80\\x99:\\n\\n    plotMA\\n\\nThe following objects are masked from \\xe2\\x80\\x98package:stats\\xe2\\x80\\x99:\\n\\n    IQR, mad, sd, var, xtabs\\n\\nThe following objects are masked from \\xe2\\x80\\x98package:base\\xe2\\x80\\x99:\\n\\n    Filter, Find, Map, Position, Reduce, anyDuplicated, append,\\n    as.data.frame, basename, cbind, colnames, dirname, do.call,\\n    duplicated, eval, evalq, get, grep, grepl, intersect, is.unsorted,\\n    lapply, mapply, match, mget, order, paste, pmax, pmax.int, pmin,\\n    pmin.int, rank, rbind, rownames, sapply, setdiff, sort, table,\\n    tapply, union, unique, unsplit, which, which.max, which.min\\n\\nLoading required package: Biobase\\nWelcome to Bioconductor\\n\\n    Vignettes contain introductory material; view with\\n    \\'browseVignettes()\\'. To cite Bioconductor, see\\n    \\'citation(\"Biobase\")\\', and for packages \\'citation(\"pkgname\")\\'.\\n\\nLoading required package: IRanges\\nLoading required package: S4Vectors\\n\\nAttaching package: \\xe2\\x80\\x98S4Vectors\\xe2\\x80\\x99\\n\\nThe following object is masked from \\xe2\\x80\\x98package:base\\xe2\\x80\\x99:\\n\\n    expand.grid\\n\\nLoading required package: org.Hs.eg.db\\n\\n\\n\\'select()\\' returned 1:1 mapping between keys and columns\\n\\'select()\\' returned 1:1 mapping between keys and columns\\n\\'select()\\' returned 1:1 mapping between keys and columns\\n\\'select()\\' returned 1:1 mapping between keys and columns\\n\\'select()\\' returned 1:1 mapping between keys and columns\\n'\n",
      "Result: \n",
      "b'Read ../data/gse28166/GSE28166_RAW//GSM697564.txt.gz \\nRead ../data/gse28166/GSE28166_RAW//GSM697565.txt.gz \\nRead ../data/gse28166/GSE28166_RAW//GSM697566.txt.gz \\nRead ../data/gse28166/GSE28166_RAW//GSM697567.txt.gz \\nRead ../data/gse28166/GSE28166_RAW//GSM697568.txt.gz \\nRead ../data/gse28166/GSE28166_RAW//GSM697569.txt.gz \\nRead ../data/gse28166/GSE28166_RAW//GSM697570.txt.gz \\nRead ../data/gse28166/GSE28166_RAW//GSM697571.txt.gz \\nRead ../data/gse28166/GSE28166_RAW//GSM697572.txt.gz \\nRead ../data/gse28166/GSE28166_RAW//GSM697573.txt.gz \\nRead ../data/gse28166/GSE28166_RAW//GSM697574.txt.gz \\nRead ../data/gse28166/GSE28166_RAW//GSM697575.txt.gz \\nRead ../data/gse28166/GSE28166_RAW//GSM697576.txt.gz \\nRead ../data/gse28166/GSE28166_RAW//GSM697577.txt.gz \\nRead ../data/gse28166/GSE28166_RAW//GSM697578.txt.gz \\nRead ../data/gse28166/GSE28166_RAW//GSM697579.txt.gz \\nRead ../data/gse28166/GSE28166_RAW//GSM697580.txt.gz \\nRead ../data/gse28166/GSE28166_RAW//GSM697581.txt.gz \\nRead ../data/gse28166/GSE28166_RAW//GSM697582.txt.gz \\nRead ../data/gse28166/GSE28166_RAW//GSM697583.txt.gz \\nRead ../data/gse28166/GSE28166_RAW//GSM697584.txt.gz \\nRead ../data/gse28166/GSE28166_RAW//GSM697585.txt.gz \\nRead ../data/gse28166/GSE28166_RAW//GSM697586.txt.gz \\nRead ../data/gse28166/GSE28166_RAW//GSM697587.txt.gz \\nRead ../data/gse28166/GSE28166_RAW//GSM697588.txt.gz \\nRead ../data/gse28166/GSE28166_RAW//GSM697589.txt.gz \\nRead ../data/gse28166/GSE28166_RAW//GSM697590.txt.gz \\nRead ../data/gse28166/GSE28166_RAW//GSM697591.txt.gz \\nRead ../data/gse28166/GSE28166_RAW//GSM697592.txt.gz \\nRead ../data/gse28166/GSE28166_RAW//GSM697593.txt.gz \\nRead ../data/gse28166/GSE28166_RAW//GSM697594.txt.gz \\nRead ../data/gse28166/GSE28166_RAW//GSM697595.txt.gz \\nRead ../data/gse28166/GSE28166_RAW//GSM697596.txt.gz \\nRead ../data/gse28166/GSE28166_RAW//GSM697597.txt.gz \\nRead ../data/gse28166/GSE28166_RAW//GSM697598.txt.gz \\nRead ../data/gse28166/GSE28166_RAW//GSM697599.txt.gz \\nArray 1 corrected\\nArray 2 corrected\\nArray 3 corrected\\nArray 4 corrected\\nArray 5 corrected\\nArray 6 corrected\\nArray 7 corrected\\nArray 8 corrected\\nArray 9 corrected\\nArray 10 corrected\\nArray 11 corrected\\nArray 12 corrected\\nArray 13 corrected\\nArray 14 corrected\\nArray 15 corrected\\nArray 16 corrected\\nArray 17 corrected\\nArray 18 corrected\\nArray 19 corrected\\nArray 20 corrected\\nArray 21 corrected\\nArray 22 corrected\\nArray 23 corrected\\nArray 24 corrected\\nArray 25 corrected\\nArray 26 corrected\\nArray 27 corrected\\nArray 28 corrected\\nArray 29 corrected\\nArray 30 corrected\\nArray 31 corrected\\nArray 32 corrected\\nArray 33 corrected\\nArray 34 corrected\\nArray 35 corrected\\nArray 36 corrected\\nRead ../data/gse33267/GSE33267_RAW//GSM823177_US93503719_251485059370_S01_GE1-v5_95_Feb07_1_1.txt.gz \\nRead ../data/gse33267/GSE33267_RAW//GSM823178_US93503719_251485059419_S01_GE1-v5_95_Feb07_1_1.txt.gz \\nRead ../data/gse33267/GSE33267_RAW//GSM823179_US93503719_251485059994_S01_GE1-v5_95_Feb07_1_4.txt.gz \\nRead ../data/gse33267/GSE33267_RAW//GSM823180_US93503719_251485060011_S01_GE1-v5_95_Feb07_1_1.txt.gz \\nRead ../data/gse33267/GSE33267_RAW//GSM823181_US93503719_251485060018_S01_GE1-v5_95_Feb07_1_2.txt.gz \\nRead ../data/gse33267/GSE33267_RAW//GSM823182_US93503719_251485060021_S01_GE1-v5_95_Feb07_1_4.txt.gz \\nRead ../data/gse33267/GSE33267_RAW//GSM823183_US93503719_251485060500_S01_GE1-v5_95_Feb07_1_2.txt.gz \\nRead ../data/gse33267/GSE33267_RAW//GSM823184_US93503719_251485060013_S01_GE1-v5_95_Feb07_1_4.txt.gz \\nRead ../data/gse33267/GSE33267_RAW//GSM823185_US93503719_251485060019_S01_GE1-v5_95_Feb07_1_1.txt.gz \\nRead ../data/gse33267/GSE33267_RAW//GSM823186_US93503719_251485059375_S01_GE1-v5_95_Feb07_1_1.txt.gz \\nRead ../data/gse33267/GSE33267_RAW//GSM823187_US93503719_251485060015_S01_GE1-v5_95_Feb07_1_4.txt.gz \\nRead ../data/gse33267/GSE33267_RAW//GSM823188_US93503719_251485060500_S01_GE1-v5_95_Feb07_1_3.txt.gz \\nRead ../data/gse33267/GSE33267_RAW//GSM823189_US93503719_251485060012_S01_GE1-v5_95_Feb07_1_3.txt.gz \\nRead ../data/gse33267/GSE33267_RAW//GSM823190_US93503719_251485060020_S01_GE1-v5_95_Feb07_1_4.txt.gz \\nRead ../data/gse33267/GSE33267_RAW//GSM823191_US93503719_251485059417_S01_GE1-v5_95_Feb07_1_3.txt.gz \\nRead ../data/gse33267/GSE33267_RAW//GSM823192_US93503719_251485059420_S01_GE1-v5_95_Feb07_1_4.txt.gz \\nRead ../data/gse33267/GSE33267_RAW//GSM823193_US93503719_251485060014_S01_GE1-v5_95_Feb07_1_4.txt.gz \\nRead ../data/gse33267/GSE33267_RAW//GSM823194_US93503719_251485059994_S01_GE1-v5_95_Feb07_1_3.txt.gz \\nRead ../data/gse33267/GSE33267_RAW//GSM823195_US93503719_251485059420_S01_GE1-v5_95_Feb07_1_3.txt.gz \\nRead ../data/gse33267/GSE33267_RAW//GSM823196_US93503719_251485059995_S01_GE1-v5_95_Feb07_1_3.txt.gz \\nRead ../data/gse33267/GSE33267_RAW//GSM823197_US93503719_251485059371_S01_GE1-v5_95_Feb07_1_2.txt.gz \\nRead ../data/gse33267/GSE33267_RAW//GSM823198_US93503719_251485060021_S01_GE1-v5_95_Feb07_1_1.txt.gz \\nRead ../data/gse33267/GSE33267_RAW//GSM823199_US93503719_251485059376_S01_GE1-v5_95_Feb07_1_3.txt.gz \\nRead ../data/gse33267/GSE33267_RAW//GSM823200_US93503719_251485059372_S01_GE1-v5_95_Feb07_1_4.txt.gz \\nRead ../data/gse33267/GSE33267_RAW//GSM823201_US93503719_251485059371_S01_GE1-v5_95_Feb07_1_1.txt.gz \\nRead ../data/gse33267/GSE33267_RAW//GSM823202_US93503719_251485060015_S01_GE1-v5_95_Feb07_1_3.txt.gz \\nRead ../data/gse33267/GSE33267_RAW//GSM823203_US93503719_251485059369_S01_GE1-v5_95_Feb07_1_3.txt.gz \\nRead ../data/gse33267/GSE33267_RAW//GSM823204_US93503719_251485059372_S01_GE1-v5_95_Feb07_1_3.txt.gz \\nRead ../data/gse33267/GSE33267_RAW//GSM823205_US93503719_251485059995_S01_GE1-v5_95_Feb07_1_4.txt.gz \\nRead ../data/gse33267/GSE33267_RAW//GSM823206_US93503719_251485060019_S01_GE1-v5_95_Feb07_1_2.txt.gz \\nRead ../data/gse33267/GSE33267_RAW//GSM823207_US93503719_251485059368_S01_GE1-v5_95_Feb07_1_1.txt.gz \\nRead ../data/gse33267/GSE33267_RAW//GSM823208_US93503719_251485060014_S01_GE1-v5_95_Feb07_1_2.txt.gz \\nRead ../data/gse33267/GSE33267_RAW//GSM823209_US93503719_251485059419_S01_GE1-v5_95_Feb07_1_2.txt.gz \\nRead ../data/gse33267/GSE33267_RAW//GSM823210_US93503719_251485060012_S01_GE1-v5_95_Feb07_1_4.txt.gz \\nRead ../data/gse33267/GSE33267_RAW//GSM823211_US93503719_251485060014_S01_GE1-v5_95_Feb07_1_1.txt.gz \\nRead ../data/gse33267/GSE33267_RAW//GSM823212_US93503719_251485059371_S01_GE1-v5_95_Feb07_1_3.txt.gz \\nRead ../data/gse33267/GSE33267_RAW//GSM823213_US93503719_251485060019_S01_GE1-v5_95_Feb07_1_3.txt.gz \\nRead ../data/gse33267/GSE33267_RAW//GSM823214_US93503719_251485060022_S01_GE1-v5_95_Feb07_1_3.txt.gz \\nRead ../data/gse33267/GSE33267_RAW//GSM823215_US93503719_251485059418_S01_GE1-v5_95_Feb07_1_4.txt.gz \\nRead ../data/gse33267/GSE33267_RAW//GSM823216_US93503719_251485059417_S01_GE1-v5_95_Feb07_1_2.txt.gz \\nRead ../data/gse33267/GSE33267_RAW//GSM823217_US93503719_251485060015_S01_GE1-v5_95_Feb07_1_2.txt.gz \\nRead ../data/gse33267/GSE33267_RAW//GSM823218_US93503719_251485060011_S01_GE1-v5_95_Feb07_1_2.txt.gz \\nRead ../data/gse33267/GSE33267_RAW//GSM823219_US93503719_251485060020_S01_GE1-v5_95_Feb07_1_3.txt.gz \\nRead ../data/gse33267/GSE33267_RAW//GSM823220_US93503719_251485060014_S01_GE1-v5_95_Feb07_1_3.txt.gz \\nRead ../data/gse33267/GSE33267_RAW//GSM823221_US93503719_251485060022_S01_GE1-v5_95_Feb07_1_1.txt.gz \\nRead ../data/gse33267/GSE33267_RAW//GSM823222_US93503719_251485059369_S01_GE1-v5_95_Feb07_1_2.txt.gz \\nRead ../data/gse33267/GSE33267_RAW//GSM823223_US93503719_251485059371_S01_GE1-v5_95_Feb07_1_4.txt.gz \\nRead ../data/gse33267/GSE33267_RAW//GSM823224_US93503719_251485059366_S01_GE1-v5_95_Feb07_1_4.txt.gz \\nRead ../data/gse33267/GSE33267_RAW//GSM823225_US93503719_251485060015_S01_GE1-v5_95_Feb07_1_1.txt.gz \\nRead ../data/gse33267/GSE33267_RAW//GSM823226_US93503719_251485060011_S01_GE1-v5_95_Feb07_1_4.txt.gz \\nRead ../data/gse33267/GSE33267_RAW//GSM823227_US93503719_251485060019_S01_GE1-v5_95_Feb07_1_4.txt.gz \\nRead ../data/gse33267/GSE33267_RAW//GSM823228_US93503719_251485060500_S01_GE1-v5_95_Feb07_1_4.txt.gz \\nRead ../data/gse33267/GSE33267_RAW//GSM823229_US93503719_251485059367_S01_GE1-v5_95_Feb07_1_2.txt.gz \\nRead ../data/gse33267/GSE33267_RAW//GSM823230_US93503719_251485059419_S01_GE1-v5_95_Feb07_1_3.txt.gz \\nRead ../data/gse33267/GSE33267_RAW//GSM823231_US93503719_251485060018_S01_GE1-v5_95_Feb07_1_4.txt.gz \\nRead ../data/gse33267/GSE33267_RAW//GSM823232_US93503719_251485059373_S01_GE1-v5_95_Feb07_1_3.txt.gz \\nRead ../data/gse33267/GSE33267_RAW//GSM823233_US93503719_251485059370_S01_GE1-v5_95_Feb07_1_3.txt.gz \\nRead ../data/gse33267/GSE33267_RAW//GSM823234_US93503719_251485059375_S01_GE1-v5_95_Feb07_1_2.txt.gz \\nRead ../data/gse33267/GSE33267_RAW//GSM823235_US93503719_251485060013_S01_GE1-v5_95_Feb07_1_2.txt.gz \\nRead ../data/gse33267/GSE33267_RAW//GSM823236_US93503719_251485060018_S01_GE1-v5_95_Feb07_1_3.txt.gz \\nRead ../data/gse33267/GSE33267_RAW//GSM823237_US93503719_251485059373_S01_GE1-v5_95_Feb07_1_4.txt.gz \\nRead ../data/gse33267/GSE33267_RAW//GSM823238_US93503719_251485059419_S01_GE1-v5_95_Feb07_1_4.txt.gz \\nRead ../data/gse33267/GSE33267_RAW//GSM823239_US93503719_251485060018_S01_GE1-v5_95_Feb07_1_1.txt.gz \\nRead ../data/gse33267/GSE33267_RAW//GSM823240_US93503719_251485059376_S01_GE1-v5_95_Feb07_1_1.txt.gz \\nRead ../data/gse33267/GSE33267_RAW//GSM823241_US93503719_251485060021_S01_GE1-v5_95_Feb07_1_2.txt.gz \\nRead ../data/gse33267/GSE33267_RAW//GSM823242_US93503719_251485059995_S01_GE1-v5_95_Feb07_1_2.txt.gz \\nRead ../data/gse33267/GSE33267_RAW//GSM823243_US93503719_251485059373_S01_GE1-v5_95_Feb07_1_1.txt.gz \\nRead ../data/gse33267/GSE33267_RAW//GSM823244_US93503719_251485059420_S01_GE1-v5_95_Feb07_1_2.txt.gz \\nRead ../data/gse33267/GSE33267_RAW//GSM823245_US93503719_251485059417_S01_GE1-v5_95_Feb07_1_4.txt.gz \\nRead ../data/gse33267/GSE33267_RAW//GSM823246_US93503719_251485059995_S01_GE1-v5_95_Feb07_1_1.txt.gz \\nRead ../data/gse33267/GSE33267_RAW//GSM823247_US93503719_251485059372_S01_GE1-v5_95_Feb07_1_2.txt.gz \\nRead ../data/gse33267/GSE33267_RAW//GSM823248_US93503719_251485059368_S01_GE1-v5_95_Feb07_1_4.txt.gz \\nRead ../data/gse33267/GSE33267_RAW//GSM823249_US93503719_251485060012_S01_GE1-v5_95_Feb07_1_1.txt.gz \\nRead ../data/gse33267/GSE33267_RAW//GSM823250_US93503719_251485059366_S01_GE1-v5_95_Feb07_1_3.txt.gz \\nRead ../data/gse33267/GSE33267_RAW//GSM823251_US93503719_251485060020_S01_GE1-v5_95_Feb07_1_1.txt.gz \\nRead ../data/gse33267/GSE33267_RAW//GSM823252_US93503719_251485059420_S01_GE1-v5_95_Feb07_1_1.txt.gz \\nRead ../data/gse33267/GSE33267_RAW//GSM823253_US93503719_251485059418_S01_GE1-v5_95_Feb07_1_1.txt.gz \\nRead ../data/gse33267/GSE33267_RAW//GSM823254_US93503719_251485059376_S01_GE1-v5_95_Feb07_1_4.txt.gz \\nRead ../data/gse33267/GSE33267_RAW//GSM823255_US93503719_251485059372_S01_GE1-v5_95_Feb07_1_1.txt.gz \\nRead ../data/gse33267/GSE33267_RAW//GSM823256_US93503719_251485059373_S01_GE1-v5_95_Feb07_1_2.txt.gz \\nRead ../data/gse33267/GSE33267_RAW//GSM823257_US93503719_251485059994_S01_GE1-v5_95_Feb07_1_1.txt.gz \\nRead ../data/gse33267/GSE33267_RAW//GSM823258_US93503719_251485059368_S01_GE1-v5_95_Feb07_1_2.txt.gz \\nRead ../data/gse33267/GSE33267_RAW//GSM823259_US93503719_251485059366_S01_GE1-v5_95_Feb07_1_1.txt.gz \\nRead ../data/gse33267/GSE33267_RAW//GSM823260_US93503719_251485060021_S01_GE1-v5_95_Feb07_1_3.txt.gz \\nRead ../data/gse33267/GSE33267_RAW//GSM823261_US93503719_251485060011_S01_GE1-v5_95_Feb07_1_3.txt.gz \\nRead ../data/gse33267/GSE33267_RAW//GSM823262_US93503719_251485060013_S01_GE1-v5_95_Feb07_1_1.txt.gz \\nRead ../data/gse33267/GSE33267_RAW//GSM823263_US93503719_251485059368_S01_GE1-v5_95_Feb07_1_3.txt.gz \\nRead ../data/gse33267/GSE33267_RAW//GSM823264_US93503719_251485059369_S01_GE1-v5_95_Feb07_1_4.txt.gz \\nRead ../data/gse33267/GSE33267_RAW//GSM823265_US93503719_251485059367_S01_GE1-v5_95_Feb07_1_3.txt.gz \\nRead ../data/gse33267/GSE33267_RAW//GSM823266_US93503719_251485059366_S01_GE1-v5_95_Feb07_1_2.txt.gz \\nRead ../data/gse33267/GSE33267_RAW//GSM823267_US93503719_251485060022_S01_GE1-v5_95_Feb07_1_2.txt.gz \\nRead ../data/gse33267/GSE33267_RAW//GSM823268_US93503719_251485059418_S01_GE1-v5_95_Feb07_1_2.txt.gz \\nRead ../data/gse33267/GSE33267_RAW//GSM823269_US93503719_251485059376_S01_GE1-v5_95_Feb07_1_2.txt.gz \\nRead ../data/gse33267/GSE33267_RAW//GSM823270_US93503719_251485059375_S01_GE1-v5_95_Feb07_1_4.txt.gz \\nRead ../data/gse33267/GSE33267_RAW//GSM823271_US93503719_251485059367_S01_GE1-v5_95_Feb07_1_4.txt.gz \\nRead ../data/gse33267/GSE33267_RAW//GSM823272_US93503719_251485059370_S01_GE1-v5_95_Feb07_1_4.txt.gz \\nRead ../data/gse33267/GSE33267_RAW//GSM823273_US93503719_251485059369_S01_GE1-v5_95_Feb07_1_1.txt.gz \\nRead ../data/gse33267/GSE33267_RAW//GSM823274_US93503719_251485060013_S01_GE1-v5_95_Feb07_1_3.txt.gz \\nRead ../data/gse33267/GSE33267_RAW//GSM823275_US93503719_251485059418_S01_GE1-v5_95_Feb07_1_3.txt.gz \\nArray 1 corrected\\nArray 2 corrected\\nArray 3 corrected\\nArray 4 corrected\\nArray 5 corrected\\nArray 6 corrected\\nArray 7 corrected\\nArray 8 corrected\\nArray 9 corrected\\nArray 10 corrected\\nArray 11 corrected\\nArray 12 corrected\\nArray 13 corrected\\nArray 14 corrected\\nArray 15 corrected\\nArray 16 corrected\\nArray 17 corrected\\nArray 18 corrected\\nArray 19 corrected\\nArray 20 corrected\\nArray 21 corrected\\nArray 22 corrected\\nArray 23 corrected\\nArray 24 corrected\\nArray 25 corrected\\nArray 26 corrected\\nArray 27 corrected\\nArray 28 corrected\\nArray 29 corrected\\nArray 30 corrected\\nArray 31 corrected\\nArray 32 corrected\\nArray 33 corrected\\nArray 34 corrected\\nArray 35 corrected\\nArray 36 corrected\\nArray 37 corrected\\nArray 38 corrected\\nArray 39 corrected\\nArray 40 corrected\\nArray 41 corrected\\nArray 42 corrected\\nArray 43 corrected\\nArray 44 corrected\\nArray 45 corrected\\nArray 46 corrected\\nArray 47 corrected\\nArray 48 corrected\\nArray 49 corrected\\nArray 50 corrected\\nArray 51 corrected\\nArray 52 corrected\\nArray 53 corrected\\nArray 54 corrected\\nArray 55 corrected\\nArray 56 corrected\\nArray 57 corrected\\nArray 58 corrected\\nArray 59 corrected\\nArray 60 corrected\\nArray 61 corrected\\nArray 62 corrected\\nArray 63 corrected\\nArray 64 corrected\\nArray 65 corrected\\nArray 66 corrected\\nArray 67 corrected\\nArray 68 corrected\\nArray 69 corrected\\nArray 70 corrected\\nArray 71 corrected\\nArray 72 corrected\\nArray 73 corrected\\nArray 74 corrected\\nArray 75 corrected\\nArray 76 corrected\\nArray 77 corrected\\nArray 78 corrected\\nArray 79 corrected\\nArray 80 corrected\\nArray 81 corrected\\nArray 82 corrected\\nArray 83 corrected\\nArray 84 corrected\\nArray 85 corrected\\nArray 86 corrected\\nArray 87 corrected\\nArray 88 corrected\\nArray 89 corrected\\nArray 90 corrected\\nArray 91 corrected\\nArray 92 corrected\\nArray 93 corrected\\nArray 94 corrected\\nArray 95 corrected\\nArray 96 corrected\\nArray 97 corrected\\nArray 98 corrected\\nArray 99 corrected\\nRead ../data/gse37571/GSE37571_RAW//GSM921892_US93503719_251485060197_S01_GE1_107_Sep09_1_1.txt.gz \\nRead ../data/gse37571/GSE37571_RAW//GSM921893_US93503719_251485060073_S01_GE1-v5_95_Feb07_1_3.txt.gz \\nRead ../data/gse37571/GSE37571_RAW//GSM921894_US93503719_251485060033_S01_GE1-v5_95_Feb07_1_3.txt.gz \\nRead ../data/gse37571/GSE37571_RAW//GSM921895_US93503719_251485060176_S01_GE1-v5_95_Feb07_1_1.txt.gz \\nRead ../data/gse37571/GSE37571_RAW//GSM921896_US93503719_251485060034_S01_GE1-v5_95_Feb07_1_1.txt.gz \\nRead ../data/gse37571/GSE37571_RAW//GSM921897_US93503719_251485060195_S01_GE1-v5_95_Feb07_1_1.txt.gz \\nRead ../data/gse37571/GSE37571_RAW//GSM921898_US93503719_251485060196_S01_GE1-v5_95_Feb07_1_2.txt.gz \\nRead ../data/gse37571/GSE37571_RAW//GSM921899_US93503719_251485060032_S01_GE1-v5_95_Feb07_1_3.txt.gz \\nRead ../data/gse37571/GSE37571_RAW//GSM921900_US93503719_251485060034_S01_GE1-v5_95_Feb07_1_4.txt.gz \\nRead ../data/gse37571/GSE37571_RAW//GSM921901_US93503719_251485060075_S01_GE1-v5_95_Feb07_1_4.txt.gz \\nRead ../data/gse37571/GSE37571_RAW//GSM921902_US93503719_251485060035_S01_GE1-v5_95_Feb07_1_3.txt.gz \\nRead ../data/gse37571/GSE37571_RAW//GSM921903_US93503719_251485060076_S01_GE1-v5_95_Feb07_1_3.txt.gz \\nRead ../data/gse37571/GSE37571_RAW//GSM921904_US93503719_251485060035_S01_GE1-v5_95_Feb07_1_2.txt.gz \\nRead ../data/gse37571/GSE37571_RAW//GSM921905_US93503719_251485060196_S01_GE1-v5_95_Feb07_1_4.txt.gz \\nRead ../data/gse37571/GSE37571_RAW//GSM921906_US93503719_251485060025_S01_GE1-v5_95_Feb07_1_4.txt.gz \\nRead ../data/gse37571/GSE37571_RAW//GSM921907_US93503719_251485060073_S01_GE1-v5_95_Feb07_1_1.txt.gz \\nRead ../data/gse37571/GSE37571_RAW//GSM921908_US93503719_251485060034_S01_GE1-v5_95_Feb07_1_2.txt.gz \\nRead ../data/gse37571/GSE37571_RAW//GSM921909_US93503719_251485060033_S01_GE1-v5_95_Feb07_1_4.txt.gz \\nRead ../data/gse37571/GSE37571_RAW//GSM921910_US93503719_251485060035_S01_GE1-v5_95_Feb07_1_1.txt.gz \\nRead ../data/gse37571/GSE37571_RAW//GSM921911_US93503719_251485060076_S01_GE1-v5_95_Feb07_1_1.txt.gz \\nRead ../data/gse37571/GSE37571_RAW//GSM921912_US93503719_251485060073_S01_GE1-v5_95_Feb07_1_2.txt.gz \\nRead ../data/gse37571/GSE37571_RAW//GSM921913_US93503719_251485060033_S01_GE1-v5_95_Feb07_1_2.txt.gz \\nRead ../data/gse37571/GSE37571_RAW//GSM921914_US93503719_251485060073_S01_GE1-v5_95_Feb07_1_4.txt.gz \\nRead ../data/gse37571/GSE37571_RAW//GSM921915_US93503719_251485060074_S01_GE1-v5_95_Feb07_1_1.txt.gz \\nRead ../data/gse37571/GSE37571_RAW//GSM921916_US93503719_251485060025_S01_GE1-v5_95_Feb07_1_2.txt.gz \\nRead ../data/gse37571/GSE37571_RAW//GSM921917_US93503719_251485060031_S01_GE1-v5_95_Feb07_1_4.txt.gz \\nRead ../data/gse37571/GSE37571_RAW//GSM921918_US93503719_251485060196_S01_GE1-v5_95_Feb07_1_3.txt.gz \\nRead ../data/gse37571/GSE37571_RAW//GSM921919_US93503719_251485060032_S01_GE1-v5_95_Feb07_1_2.txt.gz \\nRead ../data/gse37571/GSE37571_RAW//GSM921920_US93503719_251485060074_S01_GE1-v5_95_Feb07_1_4.txt.gz \\nRead ../data/gse37571/GSE37571_RAW//GSM921921_US93503719_251485060072_S01_GE1-v5_95_Feb07_1_1.txt.gz \\nRead ../data/gse37571/GSE37571_RAW//GSM921922_US93503719_251485060031_S01_GE1-v5_95_Feb07_1_1.txt.gz \\nRead ../data/gse37571/GSE37571_RAW//GSM921923_US93503719_251485060197_S01_GE1-v5_95_Feb07_1_2.txt.gz \\nRead ../data/gse37571/GSE37571_RAW//GSM921924_US93503719_251485060196_S01_GE1-v5_95_Feb07_1_1.txt.gz \\nRead ../data/gse37571/GSE37571_RAW//GSM921925_US93503719_251485060197_S01_GE1-v5_95_Feb07_1_3.txt.gz \\nRead ../data/gse37571/GSE37571_RAW//GSM921926_US93503719_251485060025_S01_GE1-v5_95_Feb07_1_1.txt.gz \\nRead ../data/gse37571/GSE37571_RAW//GSM921927_US93503719_251485060075_S01_GE1-v5_95_Feb07_1_3.txt.gz \\nRead ../data/gse37571/GSE37571_RAW//GSM921928_US93503719_251485060031_S01_GE1-v5_95_Feb07_1_3.txt.gz \\nRead ../data/gse37571/GSE37571_RAW//GSM921929_US93503719_251485060034_S01_GE1-v5_95_Feb07_1_3.txt.gz \\nRead ../data/gse37571/GSE37571_RAW//GSM921930_US93503719_251485060195_S01_GE1-v5_95_Feb07_1_4.txt.gz \\nRead ../data/gse37571/GSE37571_RAW//GSM921931_US93503719_251485060032_S01_GE1-v5_95_Feb07_1_1.txt.gz \\nRead ../data/gse37571/GSE37571_RAW//GSM921932_US93503719_251485060195_S01_GE1-v5_95_Feb07_1_2.txt.gz \\nRead ../data/gse37571/GSE37571_RAW//GSM921933_US93503719_251485060176_S01_GE1-v5_95_Feb07_1_4.txt.gz \\nRead ../data/gse37571/GSE37571_RAW//GSM921934_US93503719_251485060072_S01_GE1-v5_95_Feb07_1_2.txt.gz \\nRead ../data/gse37571/GSE37571_RAW//GSM921935_US93503719_251485060076_S01_GE1-v5_95_Feb07_1_2.txt.gz \\nRead ../data/gse37571/GSE37571_RAW//GSM921936_US93503719_251485060074_S01_GE1-v5_95_Feb07_1_3.txt.gz \\nRead ../data/gse37571/GSE37571_RAW//GSM921937_US93503719_251485060072_S01_GE1-v5_95_Feb07_1_4.txt.gz \\nRead ../data/gse37571/GSE37571_RAW//GSM921938_US93503719_251485060031_S01_GE1-v5_95_Feb07_1_2.txt.gz \\nRead ../data/gse37571/GSE37571_RAW//GSM921939_US93503719_251485060075_S01_GE1-v5_95_Feb07_1_2.txt.gz \\nRead ../data/gse37571/GSE37571_RAW//GSM921940_US93503719_251485060076_S01_GE1-v5_95_Feb07_1_4.txt.gz \\nRead ../data/gse37571/GSE37571_RAW//GSM921941_US93503719_251485060032_S01_GE1-v5_95_Feb07_1_4.txt.gz \\nRead ../data/gse37571/GSE37571_RAW//GSM921942_US93503719_251485060195_S01_GE1-v5_95_Feb07_1_3.txt.gz \\nRead ../data/gse37571/GSE37571_RAW//GSM921943_US93503719_251485060176_S01_GE1-v5_95_Feb07_1_2.txt.gz \\nRead ../data/gse37571/GSE37571_RAW//GSM921944_US93503719_251485060072_S01_GE1-v5_95_Feb07_1_3.txt.gz \\nRead ../data/gse37571/GSE37571_RAW//GSM921945_US93503719_251485060074_S01_GE1-v5_95_Feb07_1_2.txt.gz \\nArray 1 corrected\\nArray 2 corrected\\nArray 3 corrected\\nArray 4 corrected\\nArray 5 corrected\\nArray 6 corrected\\nArray 7 corrected\\nArray 8 corrected\\nArray 9 corrected\\nArray 10 corrected\\nArray 11 corrected\\nArray 12 corrected\\nArray 13 corrected\\nArray 14 corrected\\nArray 15 corrected\\nArray 16 corrected\\nArray 17 corrected\\nArray 18 corrected\\nArray 19 corrected\\nArray 20 corrected\\nArray 21 corrected\\nArray 22 corrected\\nArray 23 corrected\\nArray 24 corrected\\nArray 25 corrected\\nArray 26 corrected\\nArray 27 corrected\\nArray 28 corrected\\nArray 29 corrected\\nArray 30 corrected\\nArray 31 corrected\\nArray 32 corrected\\nArray 33 corrected\\nArray 34 corrected\\nArray 35 corrected\\nArray 36 corrected\\nArray 37 corrected\\nArray 38 corrected\\nArray 39 corrected\\nArray 40 corrected\\nArray 41 corrected\\nArray 42 corrected\\nArray 43 corrected\\nArray 44 corrected\\nArray 45 corrected\\nArray 46 corrected\\nArray 47 corrected\\nArray 48 corrected\\nArray 49 corrected\\nArray 50 corrected\\nArray 51 corrected\\nArray 52 corrected\\nArray 53 corrected\\nArray 54 corrected\\nRead ../data/gse45042/GSE45042_RAW//GSM1096511_US93503719_251485073364_S01_GE1_107_Sep09_1_1.txt.gz \\nRead ../data/gse45042/GSE45042_RAW//GSM1096512_US93503719_251485073364_S01_GE1_107_Sep09_1_2.txt.gz \\nRead ../data/gse45042/GSE45042_RAW//GSM1096513_US93503719_251485073364_S01_GE1_107_Sep09_1_4.txt.gz \\nRead ../data/gse45042/GSE45042_RAW//GSM1096514_US93503719_251485073365_S01_GE1_107_Sep09_1_1.txt.gz \\nRead ../data/gse45042/GSE45042_RAW//GSM1096515_US93503719_251485073365_S01_GE1_107_Sep09_1_2.txt.gz \\nRead ../data/gse45042/GSE45042_RAW//GSM1096516_US93503719_251485073365_S01_GE1_107_Sep09_1_3.txt.gz \\nRead ../data/gse45042/GSE45042_RAW//GSM1096517_US93503719_251485073365_S01_GE1_107_Sep09_1_4.txt.gz \\nRead ../data/gse45042/GSE45042_RAW//GSM1096518_US93503719_251485073366_S01_GE1_107_Sep09_1_2.txt.gz \\nRead ../data/gse45042/GSE45042_RAW//GSM1096519_US93503719_251485073366_S01_GE1_107_Sep09_1_3.txt.gz \\nRead ../data/gse45042/GSE45042_RAW//GSM1096520_US93503719_251485073366_S01_GE1_107_Sep09_1_4.txt.gz \\nRead ../data/gse45042/GSE45042_RAW//GSM1096521_US93503719_251485073367_S01_GE1_107_Sep09_1_1.txt.gz \\nRead ../data/gse45042/GSE45042_RAW//GSM1096522_US93503719_251485073367_S01_GE1_107_Sep09_1_2.txt.gz \\nRead ../data/gse45042/GSE45042_RAW//GSM1096523_US93503719_251485073367_S01_GE1_107_Sep09_1_3.txt.gz \\nRead ../data/gse45042/GSE45042_RAW//GSM1096524_US93503719_251485073367_S01_GE1_107_Sep09_1_4.txt.gz \\nRead ../data/gse45042/GSE45042_RAW//GSM1096525_US93503719_251485073368_S01_GE1_107_Sep09_1_1.txt.gz \\nRead ../data/gse45042/GSE45042_RAW//GSM1096526_US93503719_251485073368_S01_GE1_107_Sep09_1_2.txt.gz \\nRead ../data/gse45042/GSE45042_RAW//GSM1096527_US93503719_251485073368_S01_GE1_107_Sep09_1_3.txt.gz \\nRead ../data/gse45042/GSE45042_RAW//GSM1096528_US93503719_251485073369_S01_GE1_107_Sep09_1_1.txt.gz \\nRead ../data/gse45042/GSE45042_RAW//GSM1096529_US93503719_251485073369_S01_GE1_107_Sep09_1_2.txt.gz \\nRead ../data/gse45042/GSE45042_RAW//GSM1096530_US93503719_251485073369_S01_GE1_107_Sep09_1_3.txt.gz \\nRead ../data/gse45042/GSE45042_RAW//GSM1096531_US93503719_251485073370_S01_GE1_107_Sep09_1_2.txt.gz \\nRead ../data/gse45042/GSE45042_RAW//GSM1096532_US93503719_251485073370_S01_GE1_107_Sep09_1_3.txt.gz \\nRead ../data/gse45042/GSE45042_RAW//GSM1096533_US93503719_251485073370_S01_GE1_107_Sep09_1_4.txt.gz \\nRead ../data/gse45042/GSE45042_RAW//GSM1096534_US93503719_251485073371_S01_GE1_107_Sep09_1_1.txt.gz \\nRead ../data/gse45042/GSE45042_RAW//GSM1096535_US93503719_251485073371_S01_GE1_107_Sep09_1_2.txt.gz \\nRead ../data/gse45042/GSE45042_RAW//GSM1096536_US93503719_251485073371_S01_GE1_107_Sep09_1_3.txt.gz \\nRead ../data/gse45042/GSE45042_RAW//GSM1096537_US93503719_251485073371_S01_GE1_107_Sep09_1_4.txt.gz \\nRead ../data/gse45042/GSE45042_RAW//GSM1096538_US93503719_251485073372_S01_GE1_107_Sep09_1_2.txt.gz \\nRead ../data/gse45042/GSE45042_RAW//GSM1096539_US93503719_251485073372_S01_GE1_107_Sep09_1_3.txt.gz \\nRead ../data/gse45042/GSE45042_RAW//GSM1096540_US93503719_251485073373_S01_GE1_107_Sep09_1_1.txt.gz \\nRead ../data/gse45042/GSE45042_RAW//GSM1096541_US93503719_251485073373_S01_GE1_107_Sep09_1_2.txt.gz \\nRead ../data/gse45042/GSE45042_RAW//GSM1096542_US93503719_251485073373_S01_GE1_107_Sep09_1_3.txt.gz \\nArray 1 corrected\\nArray 2 corrected\\nArray 3 corrected\\nArray 4 corrected\\nArray 5 corrected\\nArray 6 corrected\\nArray 7 corrected\\nArray 8 corrected\\nArray 9 corrected\\nArray 10 corrected\\nArray 11 corrected\\nArray 12 corrected\\nArray 13 corrected\\nArray 14 corrected\\nArray 15 corrected\\nArray 16 corrected\\nArray 17 corrected\\nArray 18 corrected\\nArray 19 corrected\\nArray 20 corrected\\nArray 21 corrected\\nArray 22 corrected\\nArray 23 corrected\\nArray 24 corrected\\nArray 25 corrected\\nArray 26 corrected\\nArray 27 corrected\\nArray 28 corrected\\nArray 29 corrected\\nArray 30 corrected\\nArray 31 corrected\\nArray 32 corrected\\nRead ../data/gse56677/GSE56677_RAW//GSM1366711_US93503719_253949416157_S01_GE1_107_Sep09_1_1.txt.gz \\nRead ../data/gse56677/GSE56677_RAW//GSM1366712_US93503719_253949416157_S01_GE1_107_Sep09_1_2.txt.gz \\nRead ../data/gse56677/GSE56677_RAW//GSM1366713_US93503719_253949416157_S01_GE1_107_Sep09_1_3.txt.gz \\nRead ../data/gse56677/GSE56677_RAW//GSM1366714_US93503719_253949416157_S01_GE1_107_Sep09_2_3.txt.gz \\nRead ../data/gse56677/GSE56677_RAW//GSM1366715_US93503719_253949416157_S01_GE1_107_Sep09_2_4.txt.gz \\nRead ../data/gse56677/GSE56677_RAW//GSM1366716_US93503719_253949416160_S01_GE1_107_Sep09_1_1.txt.gz \\nRead ../data/gse56677/GSE56677_RAW//GSM1366717_US93503719_253949416160_S01_GE1_107_Sep09_1_3.txt.gz \\nRead ../data/gse56677/GSE56677_RAW//GSM1366718_US93503719_253949416160_S01_GE1_107_Sep09_2_1.txt.gz \\nRead ../data/gse56677/GSE56677_RAW//GSM1366719_US93503719_253949416160_S01_GE1_107_Sep09_2_2.txt.gz \\nRead ../data/gse56677/GSE56677_RAW//GSM1366720_US93503719_253949416160_S01_GE1_107_Sep09_2_4.txt.gz \\nRead ../data/gse56677/GSE56677_RAW//GSM1366721_US93503719_253949416180_S01_GE1_107_Sep09_1_3.txt.gz \\nRead ../data/gse56677/GSE56677_RAW//GSM1366722_US93503719_253949416180_S01_GE1_107_Sep09_1_4.txt.gz \\nRead ../data/gse56677/GSE56677_RAW//GSM1366723_US93503719_253949416180_S01_GE1_107_Sep09_2_1.txt.gz \\nRead ../data/gse56677/GSE56677_RAW//GSM1366724_US93503719_253949416181_S01_GE1_107_Sep09_1_3.txt.gz \\nRead ../data/gse56677/GSE56677_RAW//GSM1366725_US93503719_253949416181_S01_GE1_107_Sep09_1_4.txt.gz \\nRead ../data/gse56677/GSE56677_RAW//GSM1366726_US93503719_253949416181_S01_GE1_107_Sep09_2_2.txt.gz \\nRead ../data/gse56677/GSE56677_RAW//GSM1366727_US93503719_253949416181_S01_GE1_107_Sep09_2_3.txt.gz \\nRead ../data/gse56677/GSE56677_RAW//GSM1366728_US93503719_253949416181_S01_GE1_107_Sep09_2_4.txt.gz \\nRead ../data/gse56677/GSE56677_RAW//GSM1366729_US93503719_253949416195_S01_GE1_107_Sep09_1_1.txt.gz \\nRead ../data/gse56677/GSE56677_RAW//GSM1366730_US93503719_253949416195_S01_GE1_107_Sep09_1_2.txt.gz \\nRead ../data/gse56677/GSE56677_RAW//GSM1366731_US93503719_253949416195_S01_GE1_107_Sep09_1_4.txt.gz \\nRead ../data/gse56677/GSE56677_RAW//GSM1366732_US93503719_253949416195_S01_GE1_107_Sep09_2_1.txt.gz \\nRead ../data/gse56677/GSE56677_RAW//GSM1366733_US93503719_253949416195_S01_GE1_107_Sep09_2_2.txt.gz \\nRead ../data/gse56677/GSE56677_RAW//GSM1366734_US93503719_253949416195_S01_GE1_107_Sep09_2_3.txt.gz \\nRead ../data/gse56677/GSE56677_RAW//GSM1366735_US93503719_253949416196_S01_GE1_107_Sep09_1_1.txt.gz \\nRead ../data/gse56677/GSE56677_RAW//GSM1366736_US93503719_253949416196_S01_GE1_107_Sep09_1_2.txt.gz \\nRead ../data/gse56677/GSE56677_RAW//GSM1366737_US93503719_253949416196_S01_GE1_107_Sep09_1_4.txt.gz \\nRead ../data/gse56677/GSE56677_RAW//GSM1366738_US93503719_253949416196_S01_GE1_107_Sep09_2_1.txt.gz \\nRead ../data/gse56677/GSE56677_RAW//GSM1366739_US93503719_253949416196_S01_GE1_107_Sep09_2_4.txt.gz \\nRead ../data/gse56677/GSE56677_RAW//GSM1366740_US93503719_253949416197_S01_GE1_107_Sep09_1_1.txt.gz \\nRead ../data/gse56677/GSE56677_RAW//GSM1366741_US93503719_253949416197_S01_GE1_107_Sep09_1_3.txt.gz \\nRead ../data/gse56677/GSE56677_RAW//GSM1366742_US93503719_253949416197_S01_GE1_107_Sep09_2_2.txt.gz \\nRead ../data/gse56677/GSE56677_RAW//GSM1366743_US93503719_253949416197_S01_GE1_107_Sep09_2_3.txt.gz \\nArray 1 corrected\\nArray 2 corrected\\nArray 3 corrected\\nArray 4 corrected\\nArray 5 corrected\\nArray 6 corrected\\nArray 7 corrected\\nArray 8 corrected\\nArray 9 corrected\\nArray 10 corrected\\nArray 11 corrected\\nArray 12 corrected\\nArray 13 corrected\\nArray 14 corrected\\nArray 15 corrected\\nArray 16 corrected\\nArray 17 corrected\\nArray 18 corrected\\nArray 19 corrected\\nArray 20 corrected\\nArray 21 corrected\\nArray 22 corrected\\nArray 23 corrected\\nArray 24 corrected\\nArray 25 corrected\\nArray 26 corrected\\nArray 27 corrected\\nArray 28 corrected\\nArray 29 corrected\\nArray 30 corrected\\nArray 31 corrected\\nArray 32 corrected\\nArray 33 corrected\\n[1] \"SUCCESS\"\\n'\n"
     ]
    }
   ],
   "source": [
    "runR(\"../code/preprocess_microarray.R\")"
   ]
  },
  {
   "cell_type": "markdown",
   "metadata": {},
   "source": [
    "##### Save normalized data"
   ]
  },
  {
   "cell_type": "code",
   "execution_count": 14,
   "metadata": {},
   "outputs": [],
   "source": [
    "def save_gene_expression_microarray(accession, split_by='_'):\n",
    "    \"\"\"\n",
    "    Save normalized microarray gene expression data to csv (accession_gex.csv)\n",
    "    :param accession: GEO accession (lowercase)\n",
    "    :param split_by: split data columns by this character\n",
    "    \"\"\"\n",
    "    accession = accession.lower()\n",
    "    data=pd.read_csv(f'../data/{accession}/{accession}_norm_mean.csv',sep=',',header=0,index_col=0)\n",
    "    meta=pd.read_csv(f'../data/{accession}/{accession}_meta.csv',sep=',',header=0,index_col=0)\n",
    "    data.columns=pd.Series(data.columns).apply(lambda x:x.split(split_by)[0])\n",
    "    #assert len(set(data.columns)-set(meta.index))==0\n",
    "    data=data[meta.index]\n",
    "    data.to_csv(f'../data/{accession}/{accession}_gex.csv')"
   ]
  },
  {
   "cell_type": "code",
   "execution_count": 15,
   "metadata": {},
   "outputs": [],
   "source": [
    "save_gene_expression_microarray('gse28166', split_by='.')\n",
    "save_gene_expression_microarray('gse33267')\n",
    "save_gene_expression_microarray('gse37571')\n",
    "save_gene_expression_microarray('gse45042')\n",
    "save_gene_expression_microarray('gse56677')"
   ]
  },
  {
   "cell_type": "markdown",
   "metadata": {},
   "source": [
    "##### Differential expression analysis"
   ]
  },
  {
   "cell_type": "code",
   "execution_count": null,
   "metadata": {},
   "outputs": [],
   "source": [
    "# runR(\"../code/microarray_DE.R\") - missing?"
   ]
  },
  {
   "cell_type": "markdown",
   "metadata": {},
   "source": [
    "## RNA Seq"
   ]
  },
  {
   "cell_type": "markdown",
   "metadata": {},
   "source": [
    "### GSE147507"
   ]
  },
  {
   "cell_type": "markdown",
   "metadata": {},
   "source": [
    "#### Metadata"
   ]
  },
  {
   "cell_type": "code",
   "execution_count": 128,
   "metadata": {},
   "outputs": [],
   "source": [
    "series_matrix=pd.read_csv('../data/gse147507/GSE147507-GPL18573_series_matrix.txt'\n",
    "                          ,sep='\\t',header=0,index_col=0,skiprows=33)\n",
    "metadata = create_metadata_structure(series_matrix)"
   ]
  },
  {
   "cell_type": "code",
   "execution_count": 132,
   "metadata": {},
   "outputs": [],
   "source": [
    "metadata = add_properties_to_metadata(metadata, properties = {'Series':0, 'Cell':1, 'Treatment':2})\n",
    "metadata.loc[['GSM4462413', 'GSM4462414', 'GSM4462415', 'GSM4462416'], ['Cell', 'Treatment']] = [['Lung','Healthy'],['Lung','Healthy'],['Lung','COVID19'],['Lung','COVID19']]\n",
    "metadata['Virus']=1\n",
    "metadata.loc[metadata['Treatment'].str.contains('Mock|Healthy', regex=True), 'Virus'] = 0\n",
    "metadata.to_csv('../data/gse147507/meta.csv')"
   ]
  },
  {
   "cell_type": "markdown",
   "metadata": {},
   "source": [
    "#### Gene expression"
   ]
  },
  {
   "cell_type": "code",
   "execution_count": 29,
   "metadata": {},
   "outputs": [],
   "source": [
    "data=pd.read_csv('../data/gse147507/GSE147507_RawReadCounts_Human.tsv',sep='\\t',header=0,index_col=0)"
   ]
  },
  {
   "cell_type": "code",
   "execution_count": 30,
   "metadata": {},
   "outputs": [],
   "source": [
    "data=data[metadata['ID'].values]\n",
    "data.columns=metadata.index"
   ]
  },
  {
   "cell_type": "code",
   "execution_count": 31,
   "metadata": {},
   "outputs": [],
   "source": [
    "data.to_csv('../data/gse147507/GSE147507_raw.csv',sep=',')"
   ]
  },
  {
   "cell_type": "markdown",
   "metadata": {},
   "source": [
    "##### Differential expression analysis"
   ]
  },
  {
   "cell_type": "code",
   "execution_count": 33,
   "metadata": {
    "collapsed": true
   },
   "outputs": [
    {
     "name": "stdout",
     "output_type": "stream",
     "text": [
      "CompletedProcess(args=['/usr/local/bin/Rscript', '--verbose', '../code/gse147507_DE.R'], returncode=1, stdout=b'', stderr=b'running\\n  \\'/Library/Frameworks/R.framework/Versions/4.0/Resources/bin/R --no-echo --no-restore --file=../code/gse147507_DE.R\\'\\n\\nLoading required package: S4Vectors\\nLoading required package: stats4\\nLoading required package: BiocGenerics\\nLoading required package: parallel\\n\\nAttaching package: \\xe2\\x80\\x98BiocGenerics\\xe2\\x80\\x99\\n\\nThe following objects are masked from \\xe2\\x80\\x98package:parallel\\xe2\\x80\\x99:\\n\\n    clusterApply, clusterApplyLB, clusterCall, clusterEvalQ,\\n    clusterExport, clusterMap, parApply, parCapply, parLapply,\\n    parLapplyLB, parRapply, parSapply, parSapplyLB\\n\\nThe following objects are masked from \\xe2\\x80\\x98package:stats\\xe2\\x80\\x99:\\n\\n    IQR, mad, sd, var, xtabs\\n\\nThe following objects are masked from \\xe2\\x80\\x98package:base\\xe2\\x80\\x99:\\n\\n    Filter, Find, Map, Position, Reduce, anyDuplicated, append,\\n    as.data.frame, basename, cbind, colnames, dirname, do.call,\\n    duplicated, eval, evalq, get, grep, grepl, intersect, is.unsorted,\\n    lapply, mapply, match, mget, order, paste, pmax, pmax.int, pmin,\\n    pmin.int, rank, rbind, rownames, sapply, setdiff, sort, table,\\n    tapply, union, unique, unsplit, which, which.max, which.min\\n\\n\\nAttaching package: \\xe2\\x80\\x98S4Vectors\\xe2\\x80\\x99\\n\\nThe following object is masked from \\xe2\\x80\\x98package:base\\xe2\\x80\\x99:\\n\\n    expand.grid\\n\\nLoading required package: IRanges\\nLoading required package: GenomicRanges\\nLoading required package: GenomeInfoDb\\nLoading required package: SummarizedExperiment\\nLoading required package: Biobase\\nWelcome to Bioconductor\\n\\n    Vignettes contain introductory material; view with\\n    \\'browseVignettes()\\'. To cite Bioconductor, see\\n    \\'citation(\"Biobase\")\\', and for packages \\'citation(\"pkgname\")\\'.\\n\\nLoading required package: DelayedArray\\nLoading required package: matrixStats\\n\\nAttaching package: \\xe2\\x80\\x98matrixStats\\xe2\\x80\\x99\\n\\nThe following objects are masked from \\xe2\\x80\\x98package:Biobase\\xe2\\x80\\x99:\\n\\n    anyMissing, rowMedians\\n\\n\\nAttaching package: \\xe2\\x80\\x98DelayedArray\\xe2\\x80\\x99\\n\\nThe following objects are masked from \\xe2\\x80\\x98package:matrixStats\\xe2\\x80\\x99:\\n\\n    colMaxs, colMins, colRanges, rowMaxs, rowMins, rowRanges\\n\\nThe following objects are masked from \\xe2\\x80\\x98package:base\\xe2\\x80\\x99:\\n\\n    aperm, apply, rowsum\\n\\n\\xe2\\x94\\x80\\xe2\\x94\\x80 Attaching packages \\xe2\\x94\\x80\\xe2\\x94\\x80\\xe2\\x94\\x80\\xe2\\x94\\x80\\xe2\\x94\\x80\\xe2\\x94\\x80\\xe2\\x94\\x80\\xe2\\x94\\x80\\xe2\\x94\\x80\\xe2\\x94\\x80\\xe2\\x94\\x80\\xe2\\x94\\x80\\xe2\\x94\\x80\\xe2\\x94\\x80\\xe2\\x94\\x80\\xe2\\x94\\x80\\xe2\\x94\\x80\\xe2\\x94\\x80\\xe2\\x94\\x80\\xe2\\x94\\x80\\xe2\\x94\\x80\\xe2\\x94\\x80\\xe2\\x94\\x80\\xe2\\x94\\x80\\xe2\\x94\\x80\\xe2\\x94\\x80\\xe2\\x94\\x80\\xe2\\x94\\x80\\xe2\\x94\\x80\\xe2\\x94\\x80\\xe2\\x94\\x80\\xe2\\x94\\x80\\xe2\\x94\\x80\\xe2\\x94\\x80\\xe2\\x94\\x80\\xe2\\x94\\x80\\xe2\\x94\\x80\\xe2\\x94\\x80\\xe2\\x94\\x80 tidyverse 1.3.0 \\xe2\\x94\\x80\\xe2\\x94\\x80\\n\\xe2\\x9c\\x94 ggplot2 3.3.2     \\xe2\\x9c\\x94 purrr   0.3.4\\n\\xe2\\x9c\\x94 tibble  3.0.4     \\xe2\\x9c\\x94 dplyr   1.0.2\\n\\xe2\\x9c\\x94 tidyr   1.1.2     \\xe2\\x9c\\x94 stringr 1.4.0\\n\\xe2\\x9c\\x94 readr   1.4.0     \\xe2\\x9c\\x94 forcats 0.5.0\\n\\xe2\\x94\\x80\\xe2\\x94\\x80 Conflicts \\xe2\\x94\\x80\\xe2\\x94\\x80\\xe2\\x94\\x80\\xe2\\x94\\x80\\xe2\\x94\\x80\\xe2\\x94\\x80\\xe2\\x94\\x80\\xe2\\x94\\x80\\xe2\\x94\\x80\\xe2\\x94\\x80\\xe2\\x94\\x80\\xe2\\x94\\x80\\xe2\\x94\\x80\\xe2\\x94\\x80\\xe2\\x94\\x80\\xe2\\x94\\x80\\xe2\\x94\\x80\\xe2\\x94\\x80\\xe2\\x94\\x80\\xe2\\x94\\x80\\xe2\\x94\\x80\\xe2\\x94\\x80\\xe2\\x94\\x80\\xe2\\x94\\x80\\xe2\\x94\\x80\\xe2\\x94\\x80\\xe2\\x94\\x80\\xe2\\x94\\x80\\xe2\\x94\\x80\\xe2\\x94\\x80\\xe2\\x94\\x80\\xe2\\x94\\x80\\xe2\\x94\\x80\\xe2\\x94\\x80\\xe2\\x94\\x80\\xe2\\x94\\x80\\xe2\\x94\\x80\\xe2\\x94\\x80\\xe2\\x94\\x80\\xe2\\x94\\x80\\xe2\\x94\\x80\\xe2\\x94\\x80 tidyverse_conflicts() \\xe2\\x94\\x80\\xe2\\x94\\x80\\n\\xe2\\x9c\\x96 ggplot2::Position() masks BiocGenerics::Position(), base::Position()\\n\\xe2\\x9c\\x96 dplyr::collapse()   masks IRanges::collapse()\\n\\xe2\\x9c\\x96 dplyr::combine()    masks Biobase::combine(), BiocGenerics::combine()\\n\\xe2\\x9c\\x96 dplyr::count()      masks matrixStats::count()\\n\\xe2\\x9c\\x96 dplyr::desc()       masks IRanges::desc()\\n\\xe2\\x9c\\x96 tidyr::expand()     masks S4Vectors::expand()\\n\\xe2\\x9c\\x96 dplyr::filter()     masks stats::filter()\\n\\xe2\\x9c\\x96 dplyr::first()      masks S4Vectors::first()\\n\\xe2\\x9c\\x96 dplyr::lag()        masks stats::lag()\\n\\xe2\\x9c\\x96 purrr::reduce()     masks GenomicRanges::reduce(), IRanges::reduce()\\n\\xe2\\x9c\\x96 dplyr::rename()     masks S4Vectors::rename()\\n\\xe2\\x9c\\x96 purrr::simplify()   masks DelayedArray::simplify()\\n\\xe2\\x9c\\x96 dplyr::slice()      masks IRanges::slice()\\n  Note: levels of factors in the design contain characters other than\\n  letters, numbers, \\'_\\' and \\'.\\'. It is recommended (but not required) to use\\n  only letters, numbers, and delimiters \\'_\\' or \\'.\\', as these are safe characters\\n  for column names in R. [This is a message, not a warning or an error]\\nestimating size factors\\n  Note: levels of factors in the design contain characters other than\\n  letters, numbers, \\'_\\' and \\'.\\'. It is recommended (but not required) to use\\n  only letters, numbers, and delimiters \\'_\\' or \\'.\\', as these are safe characters\\n  for column names in R. [This is a message, not a warning or an error]\\nestimating dispersions\\ngene-wise dispersion estimates: 10 workers\\n  Note: levels of factors in the design contain characters other than\\n  letters, numbers, \\'_\\' and \\'.\\'. It is recommended (but not required) to use\\n  only letters, numbers, and delimiters \\'_\\' or \\'.\\', as these are safe characters\\n  for column names in R. [This is a message, not a warning or an error]\\nmean-dispersion relationship\\n  Note: levels of factors in the design contain characters other than\\n  letters, numbers, \\'_\\' and \\'.\\'. It is recommended (but not required) to use\\n  only letters, numbers, and delimiters \\'_\\' or \\'.\\', as these are safe characters\\n  for column names in R. [This is a message, not a warning or an error]\\nfinal dispersion estimates, fitting model and testing: 10 workers\\n  Note: levels of factors in the design contain characters other than\\n  letters, numbers, \\'_\\' and \\'.\\'. It is recommended (but not required) to use\\n  only letters, numbers, and delimiters \\'_\\' or \\'.\\', as these are safe characters\\n  for column names in R. [This is a message, not a warning or an error]\\n  Note: levels of factors in the design contain characters other than\\n  letters, numbers, \\'_\\' and \\'.\\'. It is recommended (but not required) to use\\n  only letters, numbers, and delimiters \\'_\\' or \\'.\\', as these are safe characters\\n  for column names in R. [This is a message, not a warning or an error]\\n  Note: levels of factors in the design contain characters other than\\n  letters, numbers, \\'_\\' and \\'.\\'. It is recommended (but not required) to use\\n  only letters, numbers, and delimiters \\'_\\' or \\'.\\', as these are safe characters\\n  for column names in R. [This is a message, not a warning or an error]\\n  Note: levels of factors in the design contain characters other than\\n  letters, numbers, \\'_\\' and \\'.\\'. It is recommended (but not required) to use\\n  only letters, numbers, and delimiters \\'_\\' or \\'.\\', as these are safe characters\\n  for column names in R. [This is a message, not a warning or an error]\\n  Note: levels of factors in the design contain characters other than\\n  letters, numbers, \\'_\\' and \\'.\\'. It is recommended (but not required) to use\\n  only letters, numbers, and delimiters \\'_\\' or \\'.\\', as these are safe characters\\n  for column names in R. [This is a message, not a warning or an error]\\n  Note: levels of factors in the design contain characters other than\\n  letters, numbers, \\'_\\' and \\'.\\'. It is recommended (but not required) to use\\n  only letters, numbers, and delimiters \\'_\\' or \\'.\\', as these are safe characters\\n  for column names in R. [This is a message, not a warning or an error]\\n  Note: levels of factors in the design contain characters other than\\n  letters, numbers, \\'_\\' and \\'.\\'. It is recommended (but not required) to use\\n  only letters, numbers, and delimiters \\'_\\' or \\'.\\', as these are safe characters\\n  for column names in R. [This is a message, not a warning or an error]\\n  Note: levels of factors in the design contain characters other than\\n  letters, numbers, \\'_\\' and \\'.\\'. It is recommended (but not required) to use\\n  only letters, numbers, and delimiters \\'_\\' or \\'.\\', as these are safe characters\\n  for column names in R. [This is a message, not a warning or an error]\\n  Note: levels of factors in the design contain characters other than\\n  letters, numbers, \\'_\\' and \\'.\\'. It is recommended (but not required) to use\\n  only letters, numbers, and delimiters \\'_\\' or \\'.\\', as these are safe characters\\n  for column names in R. [This is a message, not a warning or an error]\\n  Note: levels of factors in the design contain characters other than\\n  letters, numbers, \\'_\\' and \\'.\\'. It is recommended (but not required) to use\\n  only letters, numbers, and delimiters \\'_\\' or \\'.\\', as these are safe characters\\n  for column names in R. [This is a message, not a warning or an error]\\n  Note: levels of factors in the design contain characters other than\\n  letters, numbers, \\'_\\' and \\'.\\'. It is recommended (but not required) to use\\n  only letters, numbers, and delimiters \\'_\\' or \\'.\\', as these are safe characters\\n  for column names in R. [This is a message, not a warning or an error]\\n  Note: levels of factors in the design contain characters other than\\n  letters, numbers, \\'_\\' and \\'.\\'. It is recommended (but not required) to use\\n  only letters, numbers, and delimiters \\'_\\' or \\'.\\', as these are safe characters\\n  for column names in R. [This is a message, not a warning or an error]\\n-- replacing outliers and refitting for 763 genes\\n-- DESeq argument \\'minReplicatesForReplace\\' = 7 \\n-- original counts are preserved in counts(dds)\\nestimating dispersions\\n  Note: levels of factors in the design contain characters other than\\n  letters, numbers, \\'_\\' and \\'.\\'. It is recommended (but not required) to use\\n  only letters, numbers, and delimiters \\'_\\' or \\'.\\', as these are safe characters\\n  for column names in R. [This is a message, not a warning or an error]\\nfitting model and testing\\n  Note: levels of factors in the design contain characters other than\\n  letters, numbers, \\'_\\' and \\'.\\'. It is recommended (but not required) to use\\n  only letters, numbers, and delimiters \\'_\\' or \\'.\\', as these are safe characters\\n  for column names in R. [This is a message, not a warning or an error]\\nError in file(file, ifelse(append, \"a\", \"w\")) : \\n  cannot open the connection\\nCalls: write.csv -> eval.parent -> eval -> eval -> write.table -> file\\nIn addition: Warning message:\\nIn file(file, ifelse(append, \"a\", \"w\")) :\\n  cannot open file \\'../results/gse147507/gse147507_vst.csv\\': No such file or directory\\nExecution halted\\n')\n",
      "Error: \n",
      "b'running\\n  \\'/Library/Frameworks/R.framework/Versions/4.0/Resources/bin/R --no-echo --no-restore --file=../code/gse147507_DE.R\\'\\n\\nLoading required package: S4Vectors\\nLoading required package: stats4\\nLoading required package: BiocGenerics\\nLoading required package: parallel\\n\\nAttaching package: \\xe2\\x80\\x98BiocGenerics\\xe2\\x80\\x99\\n\\nThe following objects are masked from \\xe2\\x80\\x98package:parallel\\xe2\\x80\\x99:\\n\\n    clusterApply, clusterApplyLB, clusterCall, clusterEvalQ,\\n    clusterExport, clusterMap, parApply, parCapply, parLapply,\\n    parLapplyLB, parRapply, parSapply, parSapplyLB\\n\\nThe following objects are masked from \\xe2\\x80\\x98package:stats\\xe2\\x80\\x99:\\n\\n    IQR, mad, sd, var, xtabs\\n\\nThe following objects are masked from \\xe2\\x80\\x98package:base\\xe2\\x80\\x99:\\n\\n    Filter, Find, Map, Position, Reduce, anyDuplicated, append,\\n    as.data.frame, basename, cbind, colnames, dirname, do.call,\\n    duplicated, eval, evalq, get, grep, grepl, intersect, is.unsorted,\\n    lapply, mapply, match, mget, order, paste, pmax, pmax.int, pmin,\\n    pmin.int, rank, rbind, rownames, sapply, setdiff, sort, table,\\n    tapply, union, unique, unsplit, which, which.max, which.min\\n\\n\\nAttaching package: \\xe2\\x80\\x98S4Vectors\\xe2\\x80\\x99\\n\\nThe following object is masked from \\xe2\\x80\\x98package:base\\xe2\\x80\\x99:\\n\\n    expand.grid\\n\\nLoading required package: IRanges\\nLoading required package: GenomicRanges\\nLoading required package: GenomeInfoDb\\nLoading required package: SummarizedExperiment\\nLoading required package: Biobase\\nWelcome to Bioconductor\\n\\n    Vignettes contain introductory material; view with\\n    \\'browseVignettes()\\'. To cite Bioconductor, see\\n    \\'citation(\"Biobase\")\\', and for packages \\'citation(\"pkgname\")\\'.\\n\\nLoading required package: DelayedArray\\nLoading required package: matrixStats\\n\\nAttaching package: \\xe2\\x80\\x98matrixStats\\xe2\\x80\\x99\\n\\nThe following objects are masked from \\xe2\\x80\\x98package:Biobase\\xe2\\x80\\x99:\\n\\n    anyMissing, rowMedians\\n\\n\\nAttaching package: \\xe2\\x80\\x98DelayedArray\\xe2\\x80\\x99\\n\\nThe following objects are masked from \\xe2\\x80\\x98package:matrixStats\\xe2\\x80\\x99:\\n\\n    colMaxs, colMins, colRanges, rowMaxs, rowMins, rowRanges\\n\\nThe following objects are masked from \\xe2\\x80\\x98package:base\\xe2\\x80\\x99:\\n\\n    aperm, apply, rowsum\\n\\n\\xe2\\x94\\x80\\xe2\\x94\\x80 Attaching packages \\xe2\\x94\\x80\\xe2\\x94\\x80\\xe2\\x94\\x80\\xe2\\x94\\x80\\xe2\\x94\\x80\\xe2\\x94\\x80\\xe2\\x94\\x80\\xe2\\x94\\x80\\xe2\\x94\\x80\\xe2\\x94\\x80\\xe2\\x94\\x80\\xe2\\x94\\x80\\xe2\\x94\\x80\\xe2\\x94\\x80\\xe2\\x94\\x80\\xe2\\x94\\x80\\xe2\\x94\\x80\\xe2\\x94\\x80\\xe2\\x94\\x80\\xe2\\x94\\x80\\xe2\\x94\\x80\\xe2\\x94\\x80\\xe2\\x94\\x80\\xe2\\x94\\x80\\xe2\\x94\\x80\\xe2\\x94\\x80\\xe2\\x94\\x80\\xe2\\x94\\x80\\xe2\\x94\\x80\\xe2\\x94\\x80\\xe2\\x94\\x80\\xe2\\x94\\x80\\xe2\\x94\\x80\\xe2\\x94\\x80\\xe2\\x94\\x80\\xe2\\x94\\x80\\xe2\\x94\\x80\\xe2\\x94\\x80\\xe2\\x94\\x80 tidyverse 1.3.0 \\xe2\\x94\\x80\\xe2\\x94\\x80\\n\\xe2\\x9c\\x94 ggplot2 3.3.2     \\xe2\\x9c\\x94 purrr   0.3.4\\n\\xe2\\x9c\\x94 tibble  3.0.4     \\xe2\\x9c\\x94 dplyr   1.0.2\\n\\xe2\\x9c\\x94 tidyr   1.1.2     \\xe2\\x9c\\x94 stringr 1.4.0\\n\\xe2\\x9c\\x94 readr   1.4.0     \\xe2\\x9c\\x94 forcats 0.5.0\\n\\xe2\\x94\\x80\\xe2\\x94\\x80 Conflicts \\xe2\\x94\\x80\\xe2\\x94\\x80\\xe2\\x94\\x80\\xe2\\x94\\x80\\xe2\\x94\\x80\\xe2\\x94\\x80\\xe2\\x94\\x80\\xe2\\x94\\x80\\xe2\\x94\\x80\\xe2\\x94\\x80\\xe2\\x94\\x80\\xe2\\x94\\x80\\xe2\\x94\\x80\\xe2\\x94\\x80\\xe2\\x94\\x80\\xe2\\x94\\x80\\xe2\\x94\\x80\\xe2\\x94\\x80\\xe2\\x94\\x80\\xe2\\x94\\x80\\xe2\\x94\\x80\\xe2\\x94\\x80\\xe2\\x94\\x80\\xe2\\x94\\x80\\xe2\\x94\\x80\\xe2\\x94\\x80\\xe2\\x94\\x80\\xe2\\x94\\x80\\xe2\\x94\\x80\\xe2\\x94\\x80\\xe2\\x94\\x80\\xe2\\x94\\x80\\xe2\\x94\\x80\\xe2\\x94\\x80\\xe2\\x94\\x80\\xe2\\x94\\x80\\xe2\\x94\\x80\\xe2\\x94\\x80\\xe2\\x94\\x80\\xe2\\x94\\x80\\xe2\\x94\\x80\\xe2\\x94\\x80 tidyverse_conflicts() \\xe2\\x94\\x80\\xe2\\x94\\x80\\n\\xe2\\x9c\\x96 ggplot2::Position() masks BiocGenerics::Position(), base::Position()\\n\\xe2\\x9c\\x96 dplyr::collapse()   masks IRanges::collapse()\\n\\xe2\\x9c\\x96 dplyr::combine()    masks Biobase::combine(), BiocGenerics::combine()\\n\\xe2\\x9c\\x96 dplyr::count()      masks matrixStats::count()\\n\\xe2\\x9c\\x96 dplyr::desc()       masks IRanges::desc()\\n\\xe2\\x9c\\x96 tidyr::expand()     masks S4Vectors::expand()\\n\\xe2\\x9c\\x96 dplyr::filter()     masks stats::filter()\\n\\xe2\\x9c\\x96 dplyr::first()      masks S4Vectors::first()\\n\\xe2\\x9c\\x96 dplyr::lag()        masks stats::lag()\\n\\xe2\\x9c\\x96 purrr::reduce()     masks GenomicRanges::reduce(), IRanges::reduce()\\n\\xe2\\x9c\\x96 dplyr::rename()     masks S4Vectors::rename()\\n\\xe2\\x9c\\x96 purrr::simplify()   masks DelayedArray::simplify()\\n\\xe2\\x9c\\x96 dplyr::slice()      masks IRanges::slice()\\n  Note: levels of factors in the design contain characters other than\\n  letters, numbers, \\'_\\' and \\'.\\'. It is recommended (but not required) to use\\n  only letters, numbers, and delimiters \\'_\\' or \\'.\\', as these are safe characters\\n  for column names in R. [This is a message, not a warning or an error]\\nestimating size factors\\n  Note: levels of factors in the design contain characters other than\\n  letters, numbers, \\'_\\' and \\'.\\'. It is recommended (but not required) to use\\n  only letters, numbers, and delimiters \\'_\\' or \\'.\\', as these are safe characters\\n  for column names in R. [This is a message, not a warning or an error]\\nestimating dispersions\\ngene-wise dispersion estimates: 10 workers\\n  Note: levels of factors in the design contain characters other than\\n  letters, numbers, \\'_\\' and \\'.\\'. It is recommended (but not required) to use\\n  only letters, numbers, and delimiters \\'_\\' or \\'.\\', as these are safe characters\\n  for column names in R. [This is a message, not a warning or an error]\\nmean-dispersion relationship\\n  Note: levels of factors in the design contain characters other than\\n  letters, numbers, \\'_\\' and \\'.\\'. It is recommended (but not required) to use\\n  only letters, numbers, and delimiters \\'_\\' or \\'.\\', as these are safe characters\\n  for column names in R. [This is a message, not a warning or an error]\\nfinal dispersion estimates, fitting model and testing: 10 workers\\n  Note: levels of factors in the design contain characters other than\\n  letters, numbers, \\'_\\' and \\'.\\'. It is recommended (but not required) to use\\n  only letters, numbers, and delimiters \\'_\\' or \\'.\\', as these are safe characters\\n  for column names in R. [This is a message, not a warning or an error]\\n  Note: levels of factors in the design contain characters other than\\n  letters, numbers, \\'_\\' and \\'.\\'. It is recommended (but not required) to use\\n  only letters, numbers, and delimiters \\'_\\' or \\'.\\', as these are safe characters\\n  for column names in R. [This is a message, not a warning or an error]\\n  Note: levels of factors in the design contain characters other than\\n  letters, numbers, \\'_\\' and \\'.\\'. It is recommended (but not required) to use\\n  only letters, numbers, and delimiters \\'_\\' or \\'.\\', as these are safe characters\\n  for column names in R. [This is a message, not a warning or an error]\\n  Note: levels of factors in the design contain characters other than\\n  letters, numbers, \\'_\\' and \\'.\\'. It is recommended (but not required) to use\\n  only letters, numbers, and delimiters \\'_\\' or \\'.\\', as these are safe characters\\n  for column names in R. [This is a message, not a warning or an error]\\n  Note: levels of factors in the design contain characters other than\\n  letters, numbers, \\'_\\' and \\'.\\'. It is recommended (but not required) to use\\n  only letters, numbers, and delimiters \\'_\\' or \\'.\\', as these are safe characters\\n  for column names in R. [This is a message, not a warning or an error]\\n  Note: levels of factors in the design contain characters other than\\n  letters, numbers, \\'_\\' and \\'.\\'. It is recommended (but not required) to use\\n  only letters, numbers, and delimiters \\'_\\' or \\'.\\', as these are safe characters\\n  for column names in R. [This is a message, not a warning or an error]\\n  Note: levels of factors in the design contain characters other than\\n  letters, numbers, \\'_\\' and \\'.\\'. It is recommended (but not required) to use\\n  only letters, numbers, and delimiters \\'_\\' or \\'.\\', as these are safe characters\\n  for column names in R. [This is a message, not a warning or an error]\\n  Note: levels of factors in the design contain characters other than\\n  letters, numbers, \\'_\\' and \\'.\\'. It is recommended (but not required) to use\\n  only letters, numbers, and delimiters \\'_\\' or \\'.\\', as these are safe characters\\n  for column names in R. [This is a message, not a warning or an error]\\n  Note: levels of factors in the design contain characters other than\\n  letters, numbers, \\'_\\' and \\'.\\'. It is recommended (but not required) to use\\n  only letters, numbers, and delimiters \\'_\\' or \\'.\\', as these are safe characters\\n  for column names in R. [This is a message, not a warning or an error]\\n  Note: levels of factors in the design contain characters other than\\n  letters, numbers, \\'_\\' and \\'.\\'. It is recommended (but not required) to use\\n  only letters, numbers, and delimiters \\'_\\' or \\'.\\', as these are safe characters\\n  for column names in R. [This is a message, not a warning or an error]\\n  Note: levels of factors in the design contain characters other than\\n  letters, numbers, \\'_\\' and \\'.\\'. It is recommended (but not required) to use\\n  only letters, numbers, and delimiters \\'_\\' or \\'.\\', as these are safe characters\\n  for column names in R. [This is a message, not a warning or an error]\\n  Note: levels of factors in the design contain characters other than\\n  letters, numbers, \\'_\\' and \\'.\\'. It is recommended (but not required) to use\\n  only letters, numbers, and delimiters \\'_\\' or \\'.\\', as these are safe characters\\n  for column names in R. [This is a message, not a warning or an error]\\n-- replacing outliers and refitting for 763 genes\\n-- DESeq argument \\'minReplicatesForReplace\\' = 7 \\n-- original counts are preserved in counts(dds)\\nestimating dispersions\\n  Note: levels of factors in the design contain characters other than\\n  letters, numbers, \\'_\\' and \\'.\\'. It is recommended (but not required) to use\\n  only letters, numbers, and delimiters \\'_\\' or \\'.\\', as these are safe characters\\n  for column names in R. [This is a message, not a warning or an error]\\nfitting model and testing\\n  Note: levels of factors in the design contain characters other than\\n  letters, numbers, \\'_\\' and \\'.\\'. It is recommended (but not required) to use\\n  only letters, numbers, and delimiters \\'_\\' or \\'.\\', as these are safe characters\\n  for column names in R. [This is a message, not a warning or an error]\\nError in file(file, ifelse(append, \"a\", \"w\")) : \\n  cannot open the connection\\nCalls: write.csv -> eval.parent -> eval -> eval -> write.table -> file\\nIn addition: Warning message:\\nIn file(file, ifelse(append, \"a\", \"w\")) :\\n  cannot open file \\'../results/gse147507/gse147507_vst.csv\\': No such file or directory\\nExecution halted\\n'\n",
      "Result: \n",
      "b''\n"
     ]
    }
   ],
   "source": [
    "runR(\"../code/gse147507_DE.R\")"
   ]
  },
  {
   "cell_type": "markdown",
   "metadata": {},
   "source": [
    "##### PC anaysis"
   ]
  },
  {
   "cell_type": "code",
   "execution_count": 34,
   "metadata": {},
   "outputs": [],
   "source": [
    "model=PCA(2)\n",
    "data_pca=pd.DataFrame(model.fit_transform(data.T),index=data.columns,columns=['PC1','PC2'])"
   ]
  },
  {
   "cell_type": "code",
   "execution_count": 36,
   "metadata": {},
   "outputs": [
    {
     "data": {
      "image/png": "[encoded data removed]",
      "text/plain": [
       "<Figure size 432x288 with 1 Axes>"
      ]
     },
     "metadata": {
      "needs_background": "light"
     },
     "output_type": "display_data"
    }
   ],
   "source": [
    "sns.scatterplot(data_pca['PC1'],data_pca['PC2'],hue=data.sum())\n",
    "plt.show()"
   ]
  },
  {
   "cell_type": "markdown",
   "metadata": {},
   "source": [
    "### GSE148729"
   ]
  },
  {
   "cell_type": "markdown",
   "metadata": {},
   "source": [
    "##### Gene name conversion from ENSEMBL ID to HGNC symbol"
   ]
  },
  {
   "cell_type": "code",
   "execution_count": 58,
   "metadata": {},
   "outputs": [],
   "source": [
    "data=pd.read_csv('../data/gse148729/GSE148729_Calu3_totalRNA_readcounts.tsv',low_memory=False,index_col=0, sep = '\\t')"
   ]
  },
  {
   "cell_type": "code",
   "execution_count": 54,
   "metadata": {
    "collapsed": true
   },
   "outputs": [
    {
     "name": "stdout",
     "output_type": "stream",
     "text": [
      "CompletedProcess(args=['/usr/local/bin/Rscript', '--verbose', '../code/gse148729_gene_name_conversion.R'], returncode=0, stdout=b'', stderr=b\"running\\n  '/Library/Frameworks/R.framework/Versions/4.0/Resources/bin/R --no-echo --no-restore --file=../code/gse148729_gene_name_conversion.R'\\n\\n\")\n",
      "Error: \n",
      "b\"running\\n  '/Library/Frameworks/R.framework/Versions/4.0/Resources/bin/R --no-echo --no-restore --file=../code/gse148729_gene_name_conversion.R'\\n\\n\"\n",
      "Result: \n",
      "b''\n"
     ]
    }
   ],
   "source": [
    "runR(\"../code/gse148729_gene_name_conversion.R\")"
   ]
  },
  {
   "cell_type": "code",
   "execution_count": 59,
   "metadata": {},
   "outputs": [],
   "source": [
    "name_conversion = pd.read_csv('../data/gse148729/gse148729_name_conversion.csv', sep=',', index_col=0)"
   ]
  },
  {
   "cell_type": "code",
   "execution_count": 60,
   "metadata": {},
   "outputs": [],
   "source": [
    "name_conversion = name_conversion[name_conversion.hgnc_symbol.notna()].drop_duplicates('hgnc_symbol')"
   ]
  },
  {
   "cell_type": "code",
   "execution_count": 61,
   "metadata": {},
   "outputs": [],
   "source": [
    "data = data.reset_index()\n",
    "data['ensembl_gene_id']= data.gene_id.str.split('.',expand=True)[0]\n",
    "data = data.merge(name_conversion, \n",
    "                  left_on='ensembl_gene_id', \n",
    "                  right_on='ensembl_gene_id').set_index('hgnc_symbol').drop(columns=['gene_id', 'ensembl_gene_id'])"
   ]
  },
  {
   "cell_type": "markdown",
   "metadata": {},
   "source": [
    "##### Metadata and gene expression"
   ]
  },
  {
   "cell_type": "code",
   "execution_count": 97,
   "metadata": {},
   "outputs": [],
   "source": [
    "series_matrix=pd.read_csv('../data/gse148729/GSE148729-GPL20301_series_matrix.txt',sep='\\t',skiprows=66,low_memory=False,index_col=0)"
   ]
  },
  {
   "cell_type": "code",
   "execution_count": 71,
   "metadata": {},
   "outputs": [],
   "source": [
    "metadata = create_metadata_structure(series_matrix)\n",
    "metadata = add_properties_to_metadata(metadata, sep='-', properties={'Treatment':1, 'Time':2, 'Replicate':3} )"
   ]
  },
  {
   "cell_type": "code",
   "execution_count": 72,
   "metadata": {},
   "outputs": [],
   "source": [
    "# change sample ID to Sample_geo_accession\n",
    "d = dict(map(reversed, metadata['ID'].to_dict().items()))\n",
    "data.columns = data.columns.to_series().map(d)"
   ]
  },
  {
   "cell_type": "code",
   "execution_count": 73,
   "metadata": {},
   "outputs": [],
   "source": [
    "metadata.to_csv('../data/gse148729/meta.csv')\n",
    "data.to_csv('../data/gse148729/GSE148729_raw.csv')"
   ]
  },
  {
   "cell_type": "markdown",
   "metadata": {},
   "source": [
    "###### Differencial expression analysis"
   ]
  },
  {
   "cell_type": "code",
   "execution_count": 78,
   "metadata": {
    "collapsed": true
   },
   "outputs": [
    {
     "name": "stdout",
     "output_type": "stream",
     "text": [
      "CompletedProcess(args=['/usr/local/bin/Rscript', '--verbose', '../code/gse148729_DE.R'], returncode=0, stdout=b'[1] \"vst done\"\\n                                  ID Treatment Time Replicate\\nGSM4477956   Calu3_totalRNA-S1-24h-A        S1  24H         A\\nGSM4477957   Calu3_totalRNA-S1-24h-B        S1  24H         B\\nGSM4477950 Calu3_totalRNA-mock-24h-A      mock  24H         A\\nGSM4477951 Calu3_totalRNA-mock-24h-B      mock  24H         B\\n                                  ID Treatment Time Replicate\\nGSM4477962   Calu3_totalRNA-S2-24h-A        S2  24H         A\\nGSM4477963   Calu3_totalRNA-S2-24h-B        S2  24H         B\\nGSM4477950 Calu3_totalRNA-mock-24h-A      mock  24H         A\\nGSM4477951 Calu3_totalRNA-mock-24h-B      mock  24H         B\\n                                 ID Treatment Time Replicate\\nGSM4477958   Calu3_totalRNA-S1-4h-A        S1   4H         A\\nGSM4477959   Calu3_totalRNA-S1-4h-B        S1   4H         B\\nGSM4477952 Calu3_totalRNA-mock-4h-A      mock   4H         A\\nGSM4477953 Calu3_totalRNA-mock-4h-B      mock   4H         B\\n                                 ID Treatment Time Replicate\\nGSM4477964   Calu3_totalRNA-S2-4h-A        S2   4H         A\\nGSM4477965   Calu3_totalRNA-S2-4h-B        S2   4H         B\\nGSM4477952 Calu3_totalRNA-mock-4h-A      mock   4H         A\\nGSM4477953 Calu3_totalRNA-mock-4h-B      mock   4H         B\\n[1] \"de done\"\\n', stderr=b'running\\n  \\'/Library/Frameworks/R.framework/Versions/4.0/Resources/bin/R --no-echo --no-restore --file=../code/gse148729_DE.R\\'\\n\\nLoading required package: S4Vectors\\nLoading required package: stats4\\nLoading required package: BiocGenerics\\nLoading required package: parallel\\n\\nAttaching package: \\xe2\\x80\\x98BiocGenerics\\xe2\\x80\\x99\\n\\nThe following objects are masked from \\xe2\\x80\\x98package:parallel\\xe2\\x80\\x99:\\n\\n    clusterApply, clusterApplyLB, clusterCall, clusterEvalQ,\\n    clusterExport, clusterMap, parApply, parCapply, parLapply,\\n    parLapplyLB, parRapply, parSapply, parSapplyLB\\n\\nThe following objects are masked from \\xe2\\x80\\x98package:stats\\xe2\\x80\\x99:\\n\\n    IQR, mad, sd, var, xtabs\\n\\nThe following objects are masked from \\xe2\\x80\\x98package:base\\xe2\\x80\\x99:\\n\\n    Filter, Find, Map, Position, Reduce, anyDuplicated, append,\\n    as.data.frame, basename, cbind, colnames, dirname, do.call,\\n    duplicated, eval, evalq, get, grep, grepl, intersect, is.unsorted,\\n    lapply, mapply, match, mget, order, paste, pmax, pmax.int, pmin,\\n    pmin.int, rank, rbind, rownames, sapply, setdiff, sort, table,\\n    tapply, union, unique, unsplit, which, which.max, which.min\\n\\n\\nAttaching package: \\xe2\\x80\\x98S4Vectors\\xe2\\x80\\x99\\n\\nThe following object is masked from \\xe2\\x80\\x98package:base\\xe2\\x80\\x99:\\n\\n    expand.grid\\n\\nLoading required package: IRanges\\nLoading required package: GenomicRanges\\nLoading required package: GenomeInfoDb\\nLoading required package: SummarizedExperiment\\nLoading required package: Biobase\\nWelcome to Bioconductor\\n\\n    Vignettes contain introductory material; view with\\n    \\'browseVignettes()\\'. To cite Bioconductor, see\\n    \\'citation(\"Biobase\")\\', and for packages \\'citation(\"pkgname\")\\'.\\n\\nLoading required package: DelayedArray\\nLoading required package: matrixStats\\n\\nAttaching package: \\xe2\\x80\\x98matrixStats\\xe2\\x80\\x99\\n\\nThe following objects are masked from \\xe2\\x80\\x98package:Biobase\\xe2\\x80\\x99:\\n\\n    anyMissing, rowMedians\\n\\n\\nAttaching package: \\xe2\\x80\\x98DelayedArray\\xe2\\x80\\x99\\n\\nThe following objects are masked from \\xe2\\x80\\x98package:matrixStats\\xe2\\x80\\x99:\\n\\n    colMaxs, colMins, colRanges, rowMaxs, rowMins, rowRanges\\n\\nThe following objects are masked from \\xe2\\x80\\x98package:base\\xe2\\x80\\x99:\\n\\n    aperm, apply, rowsum\\n\\n\\xe2\\x94\\x80\\xe2\\x94\\x80 Attaching packages \\xe2\\x94\\x80\\xe2\\x94\\x80\\xe2\\x94\\x80\\xe2\\x94\\x80\\xe2\\x94\\x80\\xe2\\x94\\x80\\xe2\\x94\\x80\\xe2\\x94\\x80\\xe2\\x94\\x80\\xe2\\x94\\x80\\xe2\\x94\\x80\\xe2\\x94\\x80\\xe2\\x94\\x80\\xe2\\x94\\x80\\xe2\\x94\\x80\\xe2\\x94\\x80\\xe2\\x94\\x80\\xe2\\x94\\x80\\xe2\\x94\\x80\\xe2\\x94\\x80\\xe2\\x94\\x80\\xe2\\x94\\x80\\xe2\\x94\\x80\\xe2\\x94\\x80\\xe2\\x94\\x80\\xe2\\x94\\x80\\xe2\\x94\\x80\\xe2\\x94\\x80\\xe2\\x94\\x80\\xe2\\x94\\x80\\xe2\\x94\\x80\\xe2\\x94\\x80\\xe2\\x94\\x80\\xe2\\x94\\x80\\xe2\\x94\\x80\\xe2\\x94\\x80\\xe2\\x94\\x80\\xe2\\x94\\x80\\xe2\\x94\\x80 tidyverse 1.3.0 \\xe2\\x94\\x80\\xe2\\x94\\x80\\n\\xe2\\x9c\\x94 ggplot2 3.3.2     \\xe2\\x9c\\x94 purrr   0.3.4\\n\\xe2\\x9c\\x94 tibble  3.0.4     \\xe2\\x9c\\x94 dplyr   1.0.2\\n\\xe2\\x9c\\x94 tidyr   1.1.2     \\xe2\\x9c\\x94 stringr 1.4.0\\n\\xe2\\x9c\\x94 readr   1.4.0     \\xe2\\x9c\\x94 forcats 0.5.0\\n\\xe2\\x94\\x80\\xe2\\x94\\x80 Conflicts \\xe2\\x94\\x80\\xe2\\x94\\x80\\xe2\\x94\\x80\\xe2\\x94\\x80\\xe2\\x94\\x80\\xe2\\x94\\x80\\xe2\\x94\\x80\\xe2\\x94\\x80\\xe2\\x94\\x80\\xe2\\x94\\x80\\xe2\\x94\\x80\\xe2\\x94\\x80\\xe2\\x94\\x80\\xe2\\x94\\x80\\xe2\\x94\\x80\\xe2\\x94\\x80\\xe2\\x94\\x80\\xe2\\x94\\x80\\xe2\\x94\\x80\\xe2\\x94\\x80\\xe2\\x94\\x80\\xe2\\x94\\x80\\xe2\\x94\\x80\\xe2\\x94\\x80\\xe2\\x94\\x80\\xe2\\x94\\x80\\xe2\\x94\\x80\\xe2\\x94\\x80\\xe2\\x94\\x80\\xe2\\x94\\x80\\xe2\\x94\\x80\\xe2\\x94\\x80\\xe2\\x94\\x80\\xe2\\x94\\x80\\xe2\\x94\\x80\\xe2\\x94\\x80\\xe2\\x94\\x80\\xe2\\x94\\x80\\xe2\\x94\\x80\\xe2\\x94\\x80\\xe2\\x94\\x80\\xe2\\x94\\x80 tidyverse_conflicts() \\xe2\\x94\\x80\\xe2\\x94\\x80\\n\\xe2\\x9c\\x96 ggplot2::Position() masks BiocGenerics::Position(), base::Position()\\n\\xe2\\x9c\\x96 dplyr::collapse()   masks IRanges::collapse()\\n\\xe2\\x9c\\x96 dplyr::combine()    masks Biobase::combine(), BiocGenerics::combine()\\n\\xe2\\x9c\\x96 dplyr::count()      masks matrixStats::count()\\n\\xe2\\x9c\\x96 dplyr::desc()       masks IRanges::desc()\\n\\xe2\\x9c\\x96 tidyr::expand()     masks S4Vectors::expand()\\n\\xe2\\x9c\\x96 dplyr::filter()     masks stats::filter()\\n\\xe2\\x9c\\x96 dplyr::first()      masks S4Vectors::first()\\n\\xe2\\x9c\\x96 dplyr::lag()        masks stats::lag()\\n\\xe2\\x9c\\x96 purrr::reduce()     masks GenomicRanges::reduce(), IRanges::reduce()\\n\\xe2\\x9c\\x96 dplyr::rename()     masks S4Vectors::rename()\\n\\xe2\\x9c\\x96 purrr::simplify()   masks DelayedArray::simplify()\\n\\xe2\\x9c\\x96 dplyr::slice()      masks IRanges::slice()\\nestimating size factors\\nestimating dispersions\\ngene-wise dispersion estimates: 10 workers\\nmean-dispersion relationship\\nfinal dispersion estimates, fitting model and testing: 10 workers\\nestimating size factors\\nestimating dispersions\\ngene-wise dispersion estimates: 10 workers\\nmean-dispersion relationship\\nfinal dispersion estimates, fitting model and testing: 10 workers\\nestimating size factors\\nestimating dispersions\\ngene-wise dispersion estimates: 10 workers\\nmean-dispersion relationship\\nfinal dispersion estimates, fitting model and testing: 10 workers\\nestimating size factors\\nestimating dispersions\\ngene-wise dispersion estimates: 10 workers\\nmean-dispersion relationship\\nfinal dispersion estimates, fitting model and testing: 10 workers\\nestimating size factors\\nestimating dispersions\\ngene-wise dispersion estimates: 10 workers\\nmean-dispersion relationship\\nfinal dispersion estimates, fitting model and testing: 10 workers\\n')\n",
      "Error: \n",
      "b'running\\n  \\'/Library/Frameworks/R.framework/Versions/4.0/Resources/bin/R --no-echo --no-restore --file=../code/gse148729_DE.R\\'\\n\\nLoading required package: S4Vectors\\nLoading required package: stats4\\nLoading required package: BiocGenerics\\nLoading required package: parallel\\n\\nAttaching package: \\xe2\\x80\\x98BiocGenerics\\xe2\\x80\\x99\\n\\nThe following objects are masked from \\xe2\\x80\\x98package:parallel\\xe2\\x80\\x99:\\n\\n    clusterApply, clusterApplyLB, clusterCall, clusterEvalQ,\\n    clusterExport, clusterMap, parApply, parCapply, parLapply,\\n    parLapplyLB, parRapply, parSapply, parSapplyLB\\n\\nThe following objects are masked from \\xe2\\x80\\x98package:stats\\xe2\\x80\\x99:\\n\\n    IQR, mad, sd, var, xtabs\\n\\nThe following objects are masked from \\xe2\\x80\\x98package:base\\xe2\\x80\\x99:\\n\\n    Filter, Find, Map, Position, Reduce, anyDuplicated, append,\\n    as.data.frame, basename, cbind, colnames, dirname, do.call,\\n    duplicated, eval, evalq, get, grep, grepl, intersect, is.unsorted,\\n    lapply, mapply, match, mget, order, paste, pmax, pmax.int, pmin,\\n    pmin.int, rank, rbind, rownames, sapply, setdiff, sort, table,\\n    tapply, union, unique, unsplit, which, which.max, which.min\\n\\n\\nAttaching package: \\xe2\\x80\\x98S4Vectors\\xe2\\x80\\x99\\n\\nThe following object is masked from \\xe2\\x80\\x98package:base\\xe2\\x80\\x99:\\n\\n    expand.grid\\n\\nLoading required package: IRanges\\nLoading required package: GenomicRanges\\nLoading required package: GenomeInfoDb\\nLoading required package: SummarizedExperiment\\nLoading required package: Biobase\\nWelcome to Bioconductor\\n\\n    Vignettes contain introductory material; view with\\n    \\'browseVignettes()\\'. To cite Bioconductor, see\\n    \\'citation(\"Biobase\")\\', and for packages \\'citation(\"pkgname\")\\'.\\n\\nLoading required package: DelayedArray\\nLoading required package: matrixStats\\n\\nAttaching package: \\xe2\\x80\\x98matrixStats\\xe2\\x80\\x99\\n\\nThe following objects are masked from \\xe2\\x80\\x98package:Biobase\\xe2\\x80\\x99:\\n\\n    anyMissing, rowMedians\\n\\n\\nAttaching package: \\xe2\\x80\\x98DelayedArray\\xe2\\x80\\x99\\n\\nThe following objects are masked from \\xe2\\x80\\x98package:matrixStats\\xe2\\x80\\x99:\\n\\n    colMaxs, colMins, colRanges, rowMaxs, rowMins, rowRanges\\n\\nThe following objects are masked from \\xe2\\x80\\x98package:base\\xe2\\x80\\x99:\\n\\n    aperm, apply, rowsum\\n\\n\\xe2\\x94\\x80\\xe2\\x94\\x80 Attaching packages \\xe2\\x94\\x80\\xe2\\x94\\x80\\xe2\\x94\\x80\\xe2\\x94\\x80\\xe2\\x94\\x80\\xe2\\x94\\x80\\xe2\\x94\\x80\\xe2\\x94\\x80\\xe2\\x94\\x80\\xe2\\x94\\x80\\xe2\\x94\\x80\\xe2\\x94\\x80\\xe2\\x94\\x80\\xe2\\x94\\x80\\xe2\\x94\\x80\\xe2\\x94\\x80\\xe2\\x94\\x80\\xe2\\x94\\x80\\xe2\\x94\\x80\\xe2\\x94\\x80\\xe2\\x94\\x80\\xe2\\x94\\x80\\xe2\\x94\\x80\\xe2\\x94\\x80\\xe2\\x94\\x80\\xe2\\x94\\x80\\xe2\\x94\\x80\\xe2\\x94\\x80\\xe2\\x94\\x80\\xe2\\x94\\x80\\xe2\\x94\\x80\\xe2\\x94\\x80\\xe2\\x94\\x80\\xe2\\x94\\x80\\xe2\\x94\\x80\\xe2\\x94\\x80\\xe2\\x94\\x80\\xe2\\x94\\x80\\xe2\\x94\\x80 tidyverse 1.3.0 \\xe2\\x94\\x80\\xe2\\x94\\x80\\n\\xe2\\x9c\\x94 ggplot2 3.3.2     \\xe2\\x9c\\x94 purrr   0.3.4\\n\\xe2\\x9c\\x94 tibble  3.0.4     \\xe2\\x9c\\x94 dplyr   1.0.2\\n\\xe2\\x9c\\x94 tidyr   1.1.2     \\xe2\\x9c\\x94 stringr 1.4.0\\n\\xe2\\x9c\\x94 readr   1.4.0     \\xe2\\x9c\\x94 forcats 0.5.0\\n\\xe2\\x94\\x80\\xe2\\x94\\x80 Conflicts \\xe2\\x94\\x80\\xe2\\x94\\x80\\xe2\\x94\\x80\\xe2\\x94\\x80\\xe2\\x94\\x80\\xe2\\x94\\x80\\xe2\\x94\\x80\\xe2\\x94\\x80\\xe2\\x94\\x80\\xe2\\x94\\x80\\xe2\\x94\\x80\\xe2\\x94\\x80\\xe2\\x94\\x80\\xe2\\x94\\x80\\xe2\\x94\\x80\\xe2\\x94\\x80\\xe2\\x94\\x80\\xe2\\x94\\x80\\xe2\\x94\\x80\\xe2\\x94\\x80\\xe2\\x94\\x80\\xe2\\x94\\x80\\xe2\\x94\\x80\\xe2\\x94\\x80\\xe2\\x94\\x80\\xe2\\x94\\x80\\xe2\\x94\\x80\\xe2\\x94\\x80\\xe2\\x94\\x80\\xe2\\x94\\x80\\xe2\\x94\\x80\\xe2\\x94\\x80\\xe2\\x94\\x80\\xe2\\x94\\x80\\xe2\\x94\\x80\\xe2\\x94\\x80\\xe2\\x94\\x80\\xe2\\x94\\x80\\xe2\\x94\\x80\\xe2\\x94\\x80\\xe2\\x94\\x80\\xe2\\x94\\x80 tidyverse_conflicts() \\xe2\\x94\\x80\\xe2\\x94\\x80\\n\\xe2\\x9c\\x96 ggplot2::Position() masks BiocGenerics::Position(), base::Position()\\n\\xe2\\x9c\\x96 dplyr::collapse()   masks IRanges::collapse()\\n\\xe2\\x9c\\x96 dplyr::combine()    masks Biobase::combine(), BiocGenerics::combine()\\n\\xe2\\x9c\\x96 dplyr::count()      masks matrixStats::count()\\n\\xe2\\x9c\\x96 dplyr::desc()       masks IRanges::desc()\\n\\xe2\\x9c\\x96 tidyr::expand()     masks S4Vectors::expand()\\n\\xe2\\x9c\\x96 dplyr::filter()     masks stats::filter()\\n\\xe2\\x9c\\x96 dplyr::first()      masks S4Vectors::first()\\n\\xe2\\x9c\\x96 dplyr::lag()        masks stats::lag()\\n\\xe2\\x9c\\x96 purrr::reduce()     masks GenomicRanges::reduce(), IRanges::reduce()\\n\\xe2\\x9c\\x96 dplyr::rename()     masks S4Vectors::rename()\\n\\xe2\\x9c\\x96 purrr::simplify()   masks DelayedArray::simplify()\\n\\xe2\\x9c\\x96 dplyr::slice()      masks IRanges::slice()\\nestimating size factors\\nestimating dispersions\\ngene-wise dispersion estimates: 10 workers\\nmean-dispersion relationship\\nfinal dispersion estimates, fitting model and testing: 10 workers\\nestimating size factors\\nestimating dispersions\\ngene-wise dispersion estimates: 10 workers\\nmean-dispersion relationship\\nfinal dispersion estimates, fitting model and testing: 10 workers\\nestimating size factors\\nestimating dispersions\\ngene-wise dispersion estimates: 10 workers\\nmean-dispersion relationship\\nfinal dispersion estimates, fitting model and testing: 10 workers\\nestimating size factors\\nestimating dispersions\\ngene-wise dispersion estimates: 10 workers\\nmean-dispersion relationship\\nfinal dispersion estimates, fitting model and testing: 10 workers\\nestimating size factors\\nestimating dispersions\\ngene-wise dispersion estimates: 10 workers\\nmean-dispersion relationship\\nfinal dispersion estimates, fitting model and testing: 10 workers\\n'\n",
      "Result: \n",
      "b'[1] \"vst done\"\\n                                  ID Treatment Time Replicate\\nGSM4477956   Calu3_totalRNA-S1-24h-A        S1  24H         A\\nGSM4477957   Calu3_totalRNA-S1-24h-B        S1  24H         B\\nGSM4477950 Calu3_totalRNA-mock-24h-A      mock  24H         A\\nGSM4477951 Calu3_totalRNA-mock-24h-B      mock  24H         B\\n                                  ID Treatment Time Replicate\\nGSM4477962   Calu3_totalRNA-S2-24h-A        S2  24H         A\\nGSM4477963   Calu3_totalRNA-S2-24h-B        S2  24H         B\\nGSM4477950 Calu3_totalRNA-mock-24h-A      mock  24H         A\\nGSM4477951 Calu3_totalRNA-mock-24h-B      mock  24H         B\\n                                 ID Treatment Time Replicate\\nGSM4477958   Calu3_totalRNA-S1-4h-A        S1   4H         A\\nGSM4477959   Calu3_totalRNA-S1-4h-B        S1   4H         B\\nGSM4477952 Calu3_totalRNA-mock-4h-A      mock   4H         A\\nGSM4477953 Calu3_totalRNA-mock-4h-B      mock   4H         B\\n                                 ID Treatment Time Replicate\\nGSM4477964   Calu3_totalRNA-S2-4h-A        S2   4H         A\\nGSM4477965   Calu3_totalRNA-S2-4h-B        S2   4H         B\\nGSM4477952 Calu3_totalRNA-mock-4h-A      mock   4H         A\\nGSM4477953 Calu3_totalRNA-mock-4h-B      mock   4H         B\\n[1] \"de done\"\\n'\n"
     ]
    }
   ],
   "source": [
    "### run deseq2 in R\n",
    "runR('../code/gse148729_DE.R')"
   ]
  },
  {
   "cell_type": "markdown",
   "metadata": {},
   "source": [
    "##### PC analysis"
   ]
  },
  {
   "cell_type": "code",
   "execution_count": 80,
   "metadata": {},
   "outputs": [],
   "source": [
    "vst = pd.read_csv('../results/gse148729/gse148729_vst.csv', sep=',', index_col=0)\n",
    "model=PCA(2)\n",
    "vst_pca=model.fit_transform(vst.T)\n",
    "vst_pca=pd.DataFrame(vst_pca,index=vst.columns,columns=['PC1','PC2'])"
   ]
  },
  {
   "cell_type": "code",
   "execution_count": 81,
   "metadata": {},
   "outputs": [
    {
     "data": {
      "image/png": "[encoded data removed]",
      "text/plain": [
       "<Figure size 432x288 with 1 Axes>"
      ]
     },
     "metadata": {
      "needs_background": "light"
     },
     "output_type": "display_data"
    }
   ],
   "source": [
    "sns.scatterplot(vst_pca['PC1'],vst_pca['PC2'], hue_order = ['4H', '12H', '24H'], hue=metadata['Time'],\n",
    "                style=metadata['Treatment'], style_order=['untr','mock','S1','S2'])\n",
    "plt.legend(bbox_to_anchor=(1, 1))\n",
    "plt.show()"
   ]
  },
  {
   "cell_type": "markdown",
   "metadata": {},
   "source": [
    "# Merge"
   ]
  },
  {
   "cell_type": "code",
   "execution_count": 82,
   "metadata": {},
   "outputs": [],
   "source": [
    "dnames=['gse28166','gse33267','gse37571','gse45042','gse56677']+['gse147507']*11+['gse148729']*4\n",
    "fnames=['gse28166_DE','gse33267_DE','gse37571_DE','gse45042_DE','gse56677_DE']+\\\n",
    "        ['series1_DE','series2_DE','series3_DE','series4_DE','series5_DE','series6_DE','series7_DE','series8a_DE']+\\\n",
    "        ['series8b_DE','series9_DE','series15_DE']+\\\n",
    "        ['gse148729_DE_mock_S1_4H', 'gse148729_DE_mock_S2_4H', 'gse148729_DE_mock_S1_24H', 'gse148729_DE_mock_S2_24H']\n",
    "data={}"
   ]
  },
  {
   "cell_type": "code",
   "execution_count": 83,
   "metadata": {
    "collapsed": true
   },
   "outputs": [
    {
     "ename": "FileNotFoundError",
     "evalue": "[Errno 2] File ../data/gse28166/gse28166_DE.csv does not exist: '../data/gse28166/gse28166_DE.csv'",
     "output_type": "error",
     "traceback": [
      "\u001b[0;31m---------------------------------------------------------------------------\u001b[0m",
      "\u001b[0;31mFileNotFoundError\u001b[0m                         Traceback (most recent call last)",
      "\u001b[0;32m<ipython-input-83-c440d675c55a>\u001b[0m in \u001b[0;36m<module>\u001b[0;34m\u001b[0m\n\u001b[1;32m      1\u001b[0m \u001b[0;32mfor\u001b[0m \u001b[0mi\u001b[0m \u001b[0;32min\u001b[0m \u001b[0mrange\u001b[0m\u001b[0;34m(\u001b[0m\u001b[0mlen\u001b[0m\u001b[0;34m(\u001b[0m\u001b[0mdnames\u001b[0m\u001b[0;34m)\u001b[0m\u001b[0;34m)\u001b[0m\u001b[0;34m:\u001b[0m\u001b[0;34m\u001b[0m\u001b[0;34m\u001b[0m\u001b[0m\n\u001b[0;32m----> 2\u001b[0;31m     \u001b[0mdata\u001b[0m\u001b[0;34m[\u001b[0m\u001b[0mfnames\u001b[0m\u001b[0;34m[\u001b[0m\u001b[0mi\u001b[0m\u001b[0;34m]\u001b[0m\u001b[0;34m]\u001b[0m\u001b[0;34m=\u001b[0m\u001b[0mpd\u001b[0m\u001b[0;34m.\u001b[0m\u001b[0mread_csv\u001b[0m\u001b[0;34m(\u001b[0m\u001b[0;34m'../data/%s/%s.csv'\u001b[0m \u001b[0;34m%\u001b[0m \u001b[0;34m(\u001b[0m\u001b[0mdnames\u001b[0m\u001b[0;34m[\u001b[0m\u001b[0mi\u001b[0m\u001b[0;34m]\u001b[0m\u001b[0;34m,\u001b[0m\u001b[0mfnames\u001b[0m\u001b[0;34m[\u001b[0m\u001b[0mi\u001b[0m\u001b[0;34m]\u001b[0m\u001b[0;34m)\u001b[0m\u001b[0;34m,\u001b[0m\u001b[0msep\u001b[0m\u001b[0;34m=\u001b[0m\u001b[0;34m','\u001b[0m\u001b[0;34m,\u001b[0m\u001b[0mheader\u001b[0m\u001b[0;34m=\u001b[0m\u001b[0;36m0\u001b[0m\u001b[0;34m,\u001b[0m\u001b[0mindex_col\u001b[0m\u001b[0;34m=\u001b[0m\u001b[0;36m0\u001b[0m\u001b[0;34m)\u001b[0m\u001b[0;34m\u001b[0m\u001b[0;34m\u001b[0m\u001b[0m\n\u001b[0m",
      "\u001b[0;32m~/opt/anaconda3/lib/python3.7/site-packages/pandas/io/parsers.py\u001b[0m in \u001b[0;36mparser_f\u001b[0;34m(filepath_or_buffer, sep, delimiter, header, names, index_col, usecols, squeeze, prefix, mangle_dupe_cols, dtype, engine, converters, true_values, false_values, skipinitialspace, skiprows, skipfooter, nrows, na_values, keep_default_na, na_filter, verbose, skip_blank_lines, parse_dates, infer_datetime_format, keep_date_col, date_parser, dayfirst, cache_dates, iterator, chunksize, compression, thousands, decimal, lineterminator, quotechar, quoting, doublequote, escapechar, comment, encoding, dialect, error_bad_lines, warn_bad_lines, delim_whitespace, low_memory, memory_map, float_precision)\u001b[0m\n\u001b[1;32m    674\u001b[0m         )\n\u001b[1;32m    675\u001b[0m \u001b[0;34m\u001b[0m\u001b[0m\n\u001b[0;32m--> 676\u001b[0;31m         \u001b[0;32mreturn\u001b[0m \u001b[0m_read\u001b[0m\u001b[0;34m(\u001b[0m\u001b[0mfilepath_or_buffer\u001b[0m\u001b[0;34m,\u001b[0m \u001b[0mkwds\u001b[0m\u001b[0;34m)\u001b[0m\u001b[0;34m\u001b[0m\u001b[0;34m\u001b[0m\u001b[0m\n\u001b[0m\u001b[1;32m    677\u001b[0m \u001b[0;34m\u001b[0m\u001b[0m\n\u001b[1;32m    678\u001b[0m     \u001b[0mparser_f\u001b[0m\u001b[0;34m.\u001b[0m\u001b[0m__name__\u001b[0m \u001b[0;34m=\u001b[0m \u001b[0mname\u001b[0m\u001b[0;34m\u001b[0m\u001b[0;34m\u001b[0m\u001b[0m\n",
      "\u001b[0;32m~/opt/anaconda3/lib/python3.7/site-packages/pandas/io/parsers.py\u001b[0m in \u001b[0;36m_read\u001b[0;34m(filepath_or_buffer, kwds)\u001b[0m\n\u001b[1;32m    446\u001b[0m \u001b[0;34m\u001b[0m\u001b[0m\n\u001b[1;32m    447\u001b[0m     \u001b[0;31m# Create the parser.\u001b[0m\u001b[0;34m\u001b[0m\u001b[0;34m\u001b[0m\u001b[0;34m\u001b[0m\u001b[0m\n\u001b[0;32m--> 448\u001b[0;31m     \u001b[0mparser\u001b[0m \u001b[0;34m=\u001b[0m \u001b[0mTextFileReader\u001b[0m\u001b[0;34m(\u001b[0m\u001b[0mfp_or_buf\u001b[0m\u001b[0;34m,\u001b[0m \u001b[0;34m**\u001b[0m\u001b[0mkwds\u001b[0m\u001b[0;34m)\u001b[0m\u001b[0;34m\u001b[0m\u001b[0;34m\u001b[0m\u001b[0m\n\u001b[0m\u001b[1;32m    449\u001b[0m \u001b[0;34m\u001b[0m\u001b[0m\n\u001b[1;32m    450\u001b[0m     \u001b[0;32mif\u001b[0m \u001b[0mchunksize\u001b[0m \u001b[0;32mor\u001b[0m \u001b[0miterator\u001b[0m\u001b[0;34m:\u001b[0m\u001b[0;34m\u001b[0m\u001b[0;34m\u001b[0m\u001b[0m\n",
      "\u001b[0;32m~/opt/anaconda3/lib/python3.7/site-packages/pandas/io/parsers.py\u001b[0m in \u001b[0;36m__init__\u001b[0;34m(self, f, engine, **kwds)\u001b[0m\n\u001b[1;32m    878\u001b[0m             \u001b[0mself\u001b[0m\u001b[0;34m.\u001b[0m\u001b[0moptions\u001b[0m\u001b[0;34m[\u001b[0m\u001b[0;34m\"has_index_names\"\u001b[0m\u001b[0;34m]\u001b[0m \u001b[0;34m=\u001b[0m \u001b[0mkwds\u001b[0m\u001b[0;34m[\u001b[0m\u001b[0;34m\"has_index_names\"\u001b[0m\u001b[0;34m]\u001b[0m\u001b[0;34m\u001b[0m\u001b[0;34m\u001b[0m\u001b[0m\n\u001b[1;32m    879\u001b[0m \u001b[0;34m\u001b[0m\u001b[0m\n\u001b[0;32m--> 880\u001b[0;31m         \u001b[0mself\u001b[0m\u001b[0;34m.\u001b[0m\u001b[0m_make_engine\u001b[0m\u001b[0;34m(\u001b[0m\u001b[0mself\u001b[0m\u001b[0;34m.\u001b[0m\u001b[0mengine\u001b[0m\u001b[0;34m)\u001b[0m\u001b[0;34m\u001b[0m\u001b[0;34m\u001b[0m\u001b[0m\n\u001b[0m\u001b[1;32m    881\u001b[0m \u001b[0;34m\u001b[0m\u001b[0m\n\u001b[1;32m    882\u001b[0m     \u001b[0;32mdef\u001b[0m \u001b[0mclose\u001b[0m\u001b[0;34m(\u001b[0m\u001b[0mself\u001b[0m\u001b[0;34m)\u001b[0m\u001b[0;34m:\u001b[0m\u001b[0;34m\u001b[0m\u001b[0;34m\u001b[0m\u001b[0m\n",
      "\u001b[0;32m~/opt/anaconda3/lib/python3.7/site-packages/pandas/io/parsers.py\u001b[0m in \u001b[0;36m_make_engine\u001b[0;34m(self, engine)\u001b[0m\n\u001b[1;32m   1112\u001b[0m     \u001b[0;32mdef\u001b[0m \u001b[0m_make_engine\u001b[0m\u001b[0;34m(\u001b[0m\u001b[0mself\u001b[0m\u001b[0;34m,\u001b[0m \u001b[0mengine\u001b[0m\u001b[0;34m=\u001b[0m\u001b[0;34m\"c\"\u001b[0m\u001b[0;34m)\u001b[0m\u001b[0;34m:\u001b[0m\u001b[0;34m\u001b[0m\u001b[0;34m\u001b[0m\u001b[0m\n\u001b[1;32m   1113\u001b[0m         \u001b[0;32mif\u001b[0m \u001b[0mengine\u001b[0m \u001b[0;34m==\u001b[0m \u001b[0;34m\"c\"\u001b[0m\u001b[0;34m:\u001b[0m\u001b[0;34m\u001b[0m\u001b[0;34m\u001b[0m\u001b[0m\n\u001b[0;32m-> 1114\u001b[0;31m             \u001b[0mself\u001b[0m\u001b[0;34m.\u001b[0m\u001b[0m_engine\u001b[0m \u001b[0;34m=\u001b[0m \u001b[0mCParserWrapper\u001b[0m\u001b[0;34m(\u001b[0m\u001b[0mself\u001b[0m\u001b[0;34m.\u001b[0m\u001b[0mf\u001b[0m\u001b[0;34m,\u001b[0m \u001b[0;34m**\u001b[0m\u001b[0mself\u001b[0m\u001b[0;34m.\u001b[0m\u001b[0moptions\u001b[0m\u001b[0;34m)\u001b[0m\u001b[0;34m\u001b[0m\u001b[0;34m\u001b[0m\u001b[0m\n\u001b[0m\u001b[1;32m   1115\u001b[0m         \u001b[0;32melse\u001b[0m\u001b[0;34m:\u001b[0m\u001b[0;34m\u001b[0m\u001b[0;34m\u001b[0m\u001b[0m\n\u001b[1;32m   1116\u001b[0m             \u001b[0;32mif\u001b[0m \u001b[0mengine\u001b[0m \u001b[0;34m==\u001b[0m \u001b[0;34m\"python\"\u001b[0m\u001b[0;34m:\u001b[0m\u001b[0;34m\u001b[0m\u001b[0;34m\u001b[0m\u001b[0m\n",
      "\u001b[0;32m~/opt/anaconda3/lib/python3.7/site-packages/pandas/io/parsers.py\u001b[0m in \u001b[0;36m__init__\u001b[0;34m(self, src, **kwds)\u001b[0m\n\u001b[1;32m   1889\u001b[0m         \u001b[0mkwds\u001b[0m\u001b[0;34m[\u001b[0m\u001b[0;34m\"usecols\"\u001b[0m\u001b[0;34m]\u001b[0m \u001b[0;34m=\u001b[0m \u001b[0mself\u001b[0m\u001b[0;34m.\u001b[0m\u001b[0musecols\u001b[0m\u001b[0;34m\u001b[0m\u001b[0;34m\u001b[0m\u001b[0m\n\u001b[1;32m   1890\u001b[0m \u001b[0;34m\u001b[0m\u001b[0m\n\u001b[0;32m-> 1891\u001b[0;31m         \u001b[0mself\u001b[0m\u001b[0;34m.\u001b[0m\u001b[0m_reader\u001b[0m \u001b[0;34m=\u001b[0m \u001b[0mparsers\u001b[0m\u001b[0;34m.\u001b[0m\u001b[0mTextReader\u001b[0m\u001b[0;34m(\u001b[0m\u001b[0msrc\u001b[0m\u001b[0;34m,\u001b[0m \u001b[0;34m**\u001b[0m\u001b[0mkwds\u001b[0m\u001b[0;34m)\u001b[0m\u001b[0;34m\u001b[0m\u001b[0;34m\u001b[0m\u001b[0m\n\u001b[0m\u001b[1;32m   1892\u001b[0m         \u001b[0mself\u001b[0m\u001b[0;34m.\u001b[0m\u001b[0munnamed_cols\u001b[0m \u001b[0;34m=\u001b[0m \u001b[0mself\u001b[0m\u001b[0;34m.\u001b[0m\u001b[0m_reader\u001b[0m\u001b[0;34m.\u001b[0m\u001b[0munnamed_cols\u001b[0m\u001b[0;34m\u001b[0m\u001b[0;34m\u001b[0m\u001b[0m\n\u001b[1;32m   1893\u001b[0m \u001b[0;34m\u001b[0m\u001b[0m\n",
      "\u001b[0;32mpandas/_libs/parsers.pyx\u001b[0m in \u001b[0;36mpandas._libs.parsers.TextReader.__cinit__\u001b[0;34m()\u001b[0m\n",
      "\u001b[0;32mpandas/_libs/parsers.pyx\u001b[0m in \u001b[0;36mpandas._libs.parsers.TextReader._setup_parser_source\u001b[0;34m()\u001b[0m\n",
      "\u001b[0;31mFileNotFoundError\u001b[0m: [Errno 2] File ../data/gse28166/gse28166_DE.csv does not exist: '../data/gse28166/gse28166_DE.csv'"
     ]
    }
   ],
   "source": [
    "for i in range(len(dnames)):\n",
    "    data[fnames[i]]=pd.read_csv('../data/%s/%s.csv' % (dnames[i],fnames[i]),sep=',',header=0,index_col=0)"
   ]
  },
  {
   "cell_type": "code",
   "execution_count": 42,
   "metadata": {
    "collapsed": true
   },
   "outputs": [
    {
     "data": {
      "text/html": [
       "<div>\n",
       "<style scoped>\n",
       "    .dataframe tbody tr th:only-of-type {\n",
       "        vertical-align: middle;\n",
       "    }\n",
       "\n",
       "    .dataframe tbody tr th {\n",
       "        vertical-align: top;\n",
       "    }\n",
       "\n",
       "    .dataframe thead th {\n",
       "        text-align: right;\n",
       "    }\n",
       "</style>\n",
       "<table border=\"1\" class=\"dataframe\">\n",
       "  <thead>\n",
       "    <tr style=\"text-align: right;\">\n",
       "      <th></th>\n",
       "      <th>baseMean</th>\n",
       "      <th>log2FoldChange</th>\n",
       "      <th>lfcSE</th>\n",
       "      <th>stat</th>\n",
       "      <th>pvalue</th>\n",
       "      <th>padj</th>\n",
       "    </tr>\n",
       "  </thead>\n",
       "  <tbody>\n",
       "    <tr>\n",
       "      <th>TSPAN6</th>\n",
       "      <td>835.490187</td>\n",
       "      <td>-0.227968</td>\n",
       "      <td>0.161151</td>\n",
       "      <td>-1.414620</td>\n",
       "      <td>0.157180</td>\n",
       "      <td>NaN</td>\n",
       "    </tr>\n",
       "    <tr>\n",
       "      <th>DPM1</th>\n",
       "      <td>700.023036</td>\n",
       "      <td>-0.081032</td>\n",
       "      <td>0.160045</td>\n",
       "      <td>-0.506309</td>\n",
       "      <td>0.612640</td>\n",
       "      <td>NaN</td>\n",
       "    </tr>\n",
       "    <tr>\n",
       "      <th>SCYL3</th>\n",
       "      <td>197.467816</td>\n",
       "      <td>0.109047</td>\n",
       "      <td>0.249498</td>\n",
       "      <td>0.437064</td>\n",
       "      <td>0.662065</td>\n",
       "      <td>NaN</td>\n",
       "    </tr>\n",
       "    <tr>\n",
       "      <th>C1orf112</th>\n",
       "      <td>336.503181</td>\n",
       "      <td>0.071293</td>\n",
       "      <td>0.206622</td>\n",
       "      <td>0.345040</td>\n",
       "      <td>0.730065</td>\n",
       "      <td>NaN</td>\n",
       "    </tr>\n",
       "    <tr>\n",
       "      <th>FGR</th>\n",
       "      <td>0.593175</td>\n",
       "      <td>0.394332</td>\n",
       "      <td>4.206908</td>\n",
       "      <td>0.093735</td>\n",
       "      <td>0.925320</td>\n",
       "      <td>NaN</td>\n",
       "    </tr>\n",
       "    <tr>\n",
       "      <th>...</th>\n",
       "      <td>...</td>\n",
       "      <td>...</td>\n",
       "      <td>...</td>\n",
       "      <td>...</td>\n",
       "      <td>...</td>\n",
       "      <td>...</td>\n",
       "    </tr>\n",
       "    <tr>\n",
       "      <th>ASDURF</th>\n",
       "      <td>88.908432</td>\n",
       "      <td>-0.062133</td>\n",
       "      <td>0.347622</td>\n",
       "      <td>-0.178737</td>\n",
       "      <td>0.858144</td>\n",
       "      <td>NaN</td>\n",
       "    </tr>\n",
       "    <tr>\n",
       "      <th>RCAN3AS</th>\n",
       "      <td>5.295571</td>\n",
       "      <td>-0.170827</td>\n",
       "      <td>1.317524</td>\n",
       "      <td>-0.129658</td>\n",
       "      <td>0.896837</td>\n",
       "      <td>NaN</td>\n",
       "    </tr>\n",
       "    <tr>\n",
       "      <th>DERPC</th>\n",
       "      <td>467.583834</td>\n",
       "      <td>-0.059529</td>\n",
       "      <td>0.184201</td>\n",
       "      <td>-0.323173</td>\n",
       "      <td>0.746564</td>\n",
       "      <td>NaN</td>\n",
       "    </tr>\n",
       "    <tr>\n",
       "      <th>RNVU1-8</th>\n",
       "      <td>0.223785</td>\n",
       "      <td>-1.237515</td>\n",
       "      <td>4.994031</td>\n",
       "      <td>-0.247799</td>\n",
       "      <td>0.804290</td>\n",
       "      <td>NaN</td>\n",
       "    </tr>\n",
       "    <tr>\n",
       "      <th>NOTCH2NLC</th>\n",
       "      <td>12.290333</td>\n",
       "      <td>0.785789</td>\n",
       "      <td>0.891517</td>\n",
       "      <td>0.881407</td>\n",
       "      <td>0.378098</td>\n",
       "      <td>NaN</td>\n",
       "    </tr>\n",
       "  </tbody>\n",
       "</table>\n",
       "<p>23971 rows × 6 columns</p>\n",
       "</div>"
      ],
      "text/plain": [
       "             baseMean  log2FoldChange     lfcSE      stat    pvalue  padj\n",
       "TSPAN6     835.490187       -0.227968  0.161151 -1.414620  0.157180   NaN\n",
       "DPM1       700.023036       -0.081032  0.160045 -0.506309  0.612640   NaN\n",
       "SCYL3      197.467816        0.109047  0.249498  0.437064  0.662065   NaN\n",
       "C1orf112   336.503181        0.071293  0.206622  0.345040  0.730065   NaN\n",
       "FGR          0.593175        0.394332  4.206908  0.093735  0.925320   NaN\n",
       "...               ...             ...       ...       ...       ...   ...\n",
       "ASDURF      88.908432       -0.062133  0.347622 -0.178737  0.858144   NaN\n",
       "RCAN3AS      5.295571       -0.170827  1.317524 -0.129658  0.896837   NaN\n",
       "DERPC      467.583834       -0.059529  0.184201 -0.323173  0.746564   NaN\n",
       "RNVU1-8      0.223785       -1.237515  4.994031 -0.247799  0.804290   NaN\n",
       "NOTCH2NLC   12.290333        0.785789  0.891517  0.881407  0.378098   NaN\n",
       "\n",
       "[23971 rows x 6 columns]"
      ]
     },
     "execution_count": 42,
     "metadata": {},
     "output_type": "execute_result"
    }
   ],
   "source": [
    "data['gse148729_DE_mock_S1_4H']"
   ]
  },
  {
   "cell_type": "code",
   "execution_count": 43,
   "metadata": {},
   "outputs": [],
   "source": [
    "# Filter same genes from all dataset (8710 were dropped)\n",
    "genes=set(data['gse28166_DE'].index)\n",
    "for dname in data.keys():\n",
    "    genes=genes&set(data[dname].index)\n",
    "genes=list(genes)\n",
    "for dname in data.keys():\n",
    "    data[dname]=data[dname].loc[genes]"
   ]
  },
  {
   "cell_type": "code",
   "execution_count": 34,
   "metadata": {},
   "outputs": [],
   "source": [
    "results=pd.DataFrame(index=genes,columns=data.keys())\n",
    "for dname in results.columns:\n",
    "    if 't' in data[dname].columns:\n",
    "        results[dname]=data[dname]['t']\n",
    "    else:\n",
    "        results[dname]=data[dname]['stat']"
   ]
  },
  {
   "cell_type": "code",
   "execution_count": 35,
   "metadata": {},
   "outputs": [],
   "source": [
    "columns_dict = {\n",
    "    'gse28166_DE':'GSE28166_Calu3_H5N1',\n",
    "     'gse33267_DE':'GSE33267_Calu3_SARS.CoV',\n",
    "     'gse37571_DE':'GSE37571_Calu3_Influenza',\n",
    "     'gse45042_DE':'GSE45042_Calu3_MERS',\n",
    "     'gse56677_DE':'GSE56677_Calu3_MERS',\n",
    "     'series1_DE':'GSE147507.S1_NHBE_SARS.CoV.2',\n",
    "     'series2_DE':'GSE147507.S2_A549_SARS.CoV.2',\n",
    "     'series3_DE':'GSE147507.S3_A549_RSV',\n",
    "     'series4_DE':'GSE147507.S4_A549_IAV',\n",
    "     'series5_DE':'GSE147507.S5_A549_SARS.CoV.2',\n",
    "     'series6_DE':'GSE147507.S6_A549_ACE2.SARS.CoV.2',\n",
    "     'series7_DE':'GSE147507.S7_Calu3_SARS.CoV.2',\n",
    "     'series8a_DE':'GSE147507.S8_A549_RSV',\n",
    "     'series8b_DE':'GSE147507.S8_A549_HPIV',\n",
    "     'series9_DE':'GSE147507.S9_NHBE_IAV',\n",
    "     'series15_DE':'GSE147507.S15_Infected.Lung_SARS.CoV.2',\n",
    "     'gse148729_DE_mock_S1_4H':'GSE148729_Calu3_SARS.CoV_4H',\n",
    "     'gse148729_DE_mock_S2_4H':'GSE148729_Calu3_SARS.CoV_24H',\n",
    "     'gse148729_DE_mock_S1_24H':'GSE148729_Calu3_SARS.CoV.2_4H',\n",
    "     'gse148729_DE_mock_S2_24H':'GSE148729_Calu3_SARS.CoV.2_24H'}"
   ]
  },
  {
   "cell_type": "code",
   "execution_count": 36,
   "metadata": {},
   "outputs": [],
   "source": [
    "results = results.rename(columns=columns_dict)"
   ]
  },
  {
   "cell_type": "code",
   "execution_count": 37,
   "metadata": {},
   "outputs": [],
   "source": [
    "results.to_csv('../results/microarray_and_rnaseq_expression.csv')"
   ]
  },
  {
   "cell_type": "code",
   "execution_count": 38,
   "metadata": {},
   "outputs": [
    {
     "data": {
      "text/html": [
       "<div>\n",
       "<style scoped>\n",
       "    .dataframe tbody tr th:only-of-type {\n",
       "        vertical-align: middle;\n",
       "    }\n",
       "\n",
       "    .dataframe tbody tr th {\n",
       "        vertical-align: top;\n",
       "    }\n",
       "\n",
       "    .dataframe thead th {\n",
       "        text-align: right;\n",
       "    }\n",
       "</style>\n",
       "<table border=\"1\" class=\"dataframe\">\n",
       "  <thead>\n",
       "    <tr style=\"text-align: right;\">\n",
       "      <th></th>\n",
       "      <th>GSE28166_Calu3_H5N1</th>\n",
       "      <th>GSE33267_Calu3_SARS.CoV</th>\n",
       "      <th>GSE37571_Calu3_Influenza</th>\n",
       "      <th>GSE45042_Calu3_MERS</th>\n",
       "      <th>GSE56677_Calu3_MERS</th>\n",
       "    </tr>\n",
       "  </thead>\n",
       "  <tbody>\n",
       "    <tr>\n",
       "      <th>TOR1AIP1</th>\n",
       "      <td>-0.265855</td>\n",
       "      <td>-1.506547</td>\n",
       "      <td>4.691753</td>\n",
       "      <td>4.457274</td>\n",
       "      <td>-0.901465</td>\n",
       "    </tr>\n",
       "    <tr>\n",
       "      <th>TMEM126A</th>\n",
       "      <td>1.719826</td>\n",
       "      <td>-1.776039</td>\n",
       "      <td>-2.975716</td>\n",
       "      <td>-4.269872</td>\n",
       "      <td>-1.542372</td>\n",
       "    </tr>\n",
       "    <tr>\n",
       "      <th>BRD8</th>\n",
       "      <td>-12.437209</td>\n",
       "      <td>2.327074</td>\n",
       "      <td>-9.176630</td>\n",
       "      <td>1.118141</td>\n",
       "      <td>-1.332901</td>\n",
       "    </tr>\n",
       "    <tr>\n",
       "      <th>DAPP1</th>\n",
       "      <td>-13.756992</td>\n",
       "      <td>7.007527</td>\n",
       "      <td>4.655702</td>\n",
       "      <td>11.564376</td>\n",
       "      <td>5.867346</td>\n",
       "    </tr>\n",
       "    <tr>\n",
       "      <th>SLC27A2</th>\n",
       "      <td>-19.058259</td>\n",
       "      <td>-1.693200</td>\n",
       "      <td>-3.348291</td>\n",
       "      <td>-3.229593</td>\n",
       "      <td>-5.023152</td>\n",
       "    </tr>\n",
       "    <tr>\n",
       "      <th>TNFAIP8</th>\n",
       "      <td>-5.949700</td>\n",
       "      <td>-2.491375</td>\n",
       "      <td>3.565728</td>\n",
       "      <td>1.595638</td>\n",
       "      <td>-2.186632</td>\n",
       "    </tr>\n",
       "    <tr>\n",
       "      <th>FZD7</th>\n",
       "      <td>-6.987377</td>\n",
       "      <td>-1.405584</td>\n",
       "      <td>-0.093153</td>\n",
       "      <td>-9.756436</td>\n",
       "      <td>-0.542419</td>\n",
       "    </tr>\n",
       "    <tr>\n",
       "      <th>RPS4X</th>\n",
       "      <td>-3.091146</td>\n",
       "      <td>-1.805310</td>\n",
       "      <td>-4.770010</td>\n",
       "      <td>-0.648007</td>\n",
       "      <td>-2.558815</td>\n",
       "    </tr>\n",
       "    <tr>\n",
       "      <th>TMSB15B</th>\n",
       "      <td>6.332637</td>\n",
       "      <td>1.642774</td>\n",
       "      <td>-5.477011</td>\n",
       "      <td>4.329035</td>\n",
       "      <td>0.682380</td>\n",
       "    </tr>\n",
       "    <tr>\n",
       "      <th>POLR3D</th>\n",
       "      <td>-4.440179</td>\n",
       "      <td>-0.695539</td>\n",
       "      <td>3.294593</td>\n",
       "      <td>9.153592</td>\n",
       "      <td>2.625260</td>\n",
       "    </tr>\n",
       "  </tbody>\n",
       "</table>\n",
       "</div>"
      ],
      "text/plain": [
       "          GSE28166_Calu3_H5N1  GSE33267_Calu3_SARS.CoV  \\\n",
       "TOR1AIP1            -0.265855                -1.506547   \n",
       "TMEM126A             1.719826                -1.776039   \n",
       "BRD8               -12.437209                 2.327074   \n",
       "DAPP1              -13.756992                 7.007527   \n",
       "SLC27A2            -19.058259                -1.693200   \n",
       "TNFAIP8             -5.949700                -2.491375   \n",
       "FZD7                -6.987377                -1.405584   \n",
       "RPS4X               -3.091146                -1.805310   \n",
       "TMSB15B              6.332637                 1.642774   \n",
       "POLR3D              -4.440179                -0.695539   \n",
       "\n",
       "          GSE37571_Calu3_Influenza  GSE45042_Calu3_MERS  GSE56677_Calu3_MERS  \n",
       "TOR1AIP1                  4.691753             4.457274            -0.901465  \n",
       "TMEM126A                 -2.975716            -4.269872            -1.542372  \n",
       "BRD8                     -9.176630             1.118141            -1.332901  \n",
       "DAPP1                     4.655702            11.564376             5.867346  \n",
       "SLC27A2                  -3.348291            -3.229593            -5.023152  \n",
       "TNFAIP8                   3.565728             1.595638            -2.186632  \n",
       "FZD7                     -0.093153            -9.756436            -0.542419  \n",
       "RPS4X                    -4.770010            -0.648007            -2.558815  \n",
       "TMSB15B                  -5.477011             4.329035             0.682380  \n",
       "POLR3D                    3.294593             9.153592             2.625260  "
      ]
     },
     "execution_count": 38,
     "metadata": {},
     "output_type": "execute_result"
    }
   ],
   "source": [
    "results.iloc[:10, :5]"
   ]
  },
  {
   "cell_type": "code",
   "execution_count": null,
   "metadata": {},
   "outputs": [],
   "source": []
  }
 ],
 "metadata": {
  "kernelspec": {
   "display_name": "Python 3",
   "language": "python",
   "name": "python3"
  },
  "language_info": {
   "codemirror_mode": {
    "name": "ipython",
    "version": 3
   },
   "file_extension": ".py",
   "mimetype": "text/x-python",
   "name": "python",
   "nbconvert_exporter": "python",
   "pygments_lexer": "ipython3",
   "version": "3.7.6"
  }
 },
 "nbformat": 4,
 "nbformat_minor": 4
}
