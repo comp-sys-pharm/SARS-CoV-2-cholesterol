{
 "cells": [
  {
   "cell_type": "markdown",
   "metadata": {},
   "source": [
    "## Gene Expression (SARS, MERS, SARS2)"
   ]
  },
  {
   "cell_type": "markdown",
   "metadata": {},
   "source": [
    "Download RAW data and series matrix from GEO\n",
    "- Microarray \n",
    " * [GSE28166](https://www.ncbi.nlm.nih.gov/geo/query/acc.cgi?acc=GSE28166), [raw data](https://www.ncbi.nlm.nih.gov/geo/download/?acc=GSE28166&format=file), [series matrix](https://ftp.ncbi.nlm.nih.gov/geo/series/GSE28nnn/GSE28166/matrix/GSE28166_series_matrix.txt.gz)\n",
    " * [GSE33267](https://www.ncbi.nlm.nih.gov/geo/query/acc.cgi?acc=GSE33267), [raw data](https://www.ncbi.nlm.nih.gov/geo/download/?acc=GSE33267&format=file), [series matrix](https://ftp.ncbi.nlm.nih.gov/geo/series/GSE33nnn/GSE33267/matrix/GSE33267_series_matrix.txt.gz)\n",
    " * [GSE37571](https://www.ncbi.nlm.nih.gov/geo/query/acc.cgi?acc=GSE37571), [raw data](https://www.ncbi.nlm.nih.gov/geo/download/?acc=GSE37571&format=file), [series matrix](https://ftp.ncbi.nlm.nih.gov/geo/series/GSE37nnn/GSE37571/matrix/GSE37571_series_matrix.txt.gz)\n",
    " * [GSE45042](https://www.ncbi.nlm.nih.gov/geo/query/acc.cgi?acc=GSE45042), [raw data](https://www.ncbi.nlm.nih.gov/geo/download/?acc=GSE45042&format=file), [series matrix](https://ftp.ncbi.nlm.nih.gov/geo/series/GSE45nnn/GSE45042/matrix/GSE45042_series_matrix.txt.gz)\n",
    " * [GSE56677](https://www.ncbi.nlm.nih.gov/geo/query/acc.cgi?acc=GSE56677), [raw data](https://www.ncbi.nlm.nih.gov/geo/download/?acc=GSE56677&format=file), [series matrix](https://ftp.ncbi.nlm.nih.gov/geo/series/GSE56nnn/GSE56677/matrix/GSE56677_series_matrix.txt.gz)\n",
    "- RNASeq\n",
    " * [GSE147507](https://www.ncbi.nlm.nih.gov/geo/query/acc.cgi?acc=GSE147507) (Human), [raw data](https://www.ncbi.nlm.nih.gov/geo/download/?acc=GSE147507&format=file&file=GSE147507%5FRawReadCounts%5FHuman%2Etsv%2Egz), [GSE147507-GPL18573_series_matrix](https://ftp.ncbi.nlm.nih.gov/geo/series/GSE147nnn/GSE147507/matrix/GSE147507-GPL18573_series_matrix.txt.gz)\n",
    " * [GSE148729](https://www.ncbi.nlm.nih.gov/geo/query/acc.cgi?acc=GSE148729) (totalRNA), [raw data](https://www.ncbi.nlm.nih.gov/geo/download/?acc=GSE148729&format=file&file=GSE148729%5FCalu3%5FtotalRNA%5Freadcounts%2Etxt%2Egz), [GSE148729-GPL20301_series_matrix](https://ftp.ncbi.nlm.nih.gov/geo/series/GSE148nnn/GSE148729/matrix/GSE148729-GPL20301_series_matrix.txt.gz)"
   ]
  },
  {
   "cell_type": "code",
   "execution_count": 1,
   "metadata": {},
   "outputs": [],
   "source": [
    "import numpy as np\n",
    "import pandas as pd\n",
    "from sklearn.decomposition import PCA"
   ]
  },
  {
   "cell_type": "code",
   "execution_count": 2,
   "metadata": {},
   "outputs": [],
   "source": [
    "from matplotlib import pyplot as plt\n",
    "import seaborn as sns\n",
    "sns.set_style(\"whitegrid\")\n",
    "%matplotlib inline"
   ]
  },
  {
   "cell_type": "code",
   "execution_count": 3,
   "metadata": {},
   "outputs": [],
   "source": [
    "import subprocess as sp"
   ]
  },
  {
   "cell_type": "markdown",
   "metadata": {},
   "source": [
    "## Microarray"
   ]
  },
  {
   "cell_type": "markdown",
   "metadata": {},
   "source": [
    "#### Metadata"
   ]
  },
  {
   "cell_type": "code",
   "execution_count": 4,
   "metadata": {},
   "outputs": [],
   "source": [
    "def add_properties_to_metadata(data, sep='_', properties={} ):\n",
    "    for prop,position in properties.items():\n",
    "        data[prop] = data['ID'].apply(lambda x: x.split(sep)[position])\n",
    "    if 'Time' in properties:\n",
    "        data['Time']=data['Time'].str.upper().apply(lambda x: x[:-1] if x[-1]=='R' else x)\n",
    "    \n",
    "    return data"
   ]
  },
  {
   "cell_type": "code",
   "execution_count": 5,
   "metadata": {},
   "outputs": [],
   "source": [
    "def create_metadata_structure(data):\n",
    "    data=pd.DataFrame(data.loc['!Sample_geo_accession'])\n",
    "    data['ID']=data.index\n",
    "    data.index=data['!Sample_geo_accession']\n",
    "    del data['!Sample_geo_accession']\n",
    "    \n",
    "    return data"
   ]
  },
  {
   "cell_type": "code",
   "execution_count": 6,
   "metadata": {},
   "outputs": [],
   "source": [
    "def save_metadata_microarray(accession, firstrow, virus='not_mock', sep='_', properties = {'Virus':1, 'Time':2, 'Replicate':3}):\n",
    "    \"\"\"\n",
    "    Save Microarray metadata to csv (accession_meta.csv)\n",
    "    :param accession: geo accession lowercase\n",
    "    :param firstrow: read_csv skip first x row\n",
    "    :param virus: if virus is not mock set virus name (eg. WT)\n",
    "    :param sep: split ID by this separator \n",
    "    :param properties: dictionary: set position of properties (eg. Time) in ID\n",
    "    \"\"\"\n",
    "    data=pd.read_csv(f'../data/{accession.lower()}/{accession.upper()}_series_matrix.txt',\n",
    "                     sep='\\t',skiprows=firstrow,low_memory=False,index_col=0)\n",
    "    data = create_metadata_structure(data)\n",
    "    data = add_properties_to_metadata(data, sep, properties)\n",
    "    \n",
    "    data['Virus'].replace('mock','Mock',inplace=True)\n",
    "    if virus == 'not_mock': \n",
    "        not_mock = data['Virus']!='Mock'\n",
    "    else: \n",
    "        not_mock = data['Virus']==virus\n",
    "    \n",
    "    data.loc[data.index[not_mock],'Virus']=f'{accession.upper()}_Virus'\n",
    "    data.to_csv(f'../data/{accession.lower()}/{accession.lower()}_meta.csv',sep=',')"
   ]
  },
  {
   "cell_type": "code",
   "execution_count": 7,
   "metadata": {},
   "outputs": [],
   "source": [
    "save_metadata_microarray('gse28166', 37, properties = {'Virus':0, 'Time':1, 'Replicate':2})\n",
    "save_metadata_microarray('gse33267', 35, sep=' ', virus='WT')\n",
    "save_metadata_microarray('gse37571', 31)\n",
    "save_metadata_microarray('gse45042', 39)\n",
    "save_metadata_microarray('gse56677', 35)"
   ]
  },
  {
   "cell_type": "markdown",
   "metadata": {},
   "source": [
    "#### Gene expression"
   ]
  },
  {
   "cell_type": "markdown",
   "metadata": {},
   "source": [
    "##### Normalizing raw data"
   ]
  },
  {
   "cell_type": "code",
   "execution_count": 8,
   "metadata": {},
   "outputs": [],
   "source": [
    "def runR(script, output = True):\n",
    "    result = sp.run(['/usr/local/bin/Rscript', '--verbose', script], capture_output=True)\n",
    "    print(result)\n",
    "    if result.stderr:\n",
    "        print(\"Error: \")\n",
    "        print(result.stderr)\n",
    "    \n",
    "    if output: \n",
    "        print(\"Result: \")\n",
    "        print(result.stdout)\n",
    "        \n",
    "    return"
   ]
  },
  {
   "cell_type": "raw",
   "metadata": {
    "collapsed": true
   },
   "source": [
    "# runR(\"preprocess_microarray.R\")"
   ]
  },
  {
   "cell_type": "markdown",
   "metadata": {},
   "source": [
    "##### Save normalized data"
   ]
  },
  {
   "cell_type": "code",
   "execution_count": 9,
   "metadata": {},
   "outputs": [],
   "source": [
    "def save_gene_expression_microarray(accession, split_by='_'):\n",
    "    \"\"\"\n",
    "    Save normalized microarray gene expression data to csv (accession_gex.csv)\n",
    "    :param accession: GEO accession (lowercase)\n",
    "    :param split_by: split data columns by this character\n",
    "    \"\"\"\n",
    "    accession = accession.lower()\n",
    "    data=pd.read_csv(f'../data/{accession}/{accession}_norm_mean.csv',sep=',',header=0,index_col=0)\n",
    "    meta=pd.read_csv(f'../data/{accession}/{accession}_meta.csv',sep=',',header=0,index_col=0)\n",
    "    data.columns=pd.Series(data.columns).apply(lambda x:x.split(split_by)[0])\n",
    "    #assert len(set(data.columns)-set(meta.index))==0\n",
    "    data=data[meta.index]\n",
    "    data.to_csv(f'../data/{accession}/{accession}_gex.csv')"
   ]
  },
  {
   "cell_type": "code",
   "execution_count": 10,
   "metadata": {},
   "outputs": [],
   "source": [
    "save_gene_expression_microarray('gse28166', split_by='.')\n",
    "save_gene_expression_microarray('gse33267')\n",
    "save_gene_expression_microarray('gse37571')\n",
    "save_gene_expression_microarray('gse45042')\n",
    "save_gene_expression_microarray('gse56677')"
   ]
  },
  {
   "cell_type": "markdown",
   "metadata": {},
   "source": [
    "## RNA Seq"
   ]
  },
  {
   "cell_type": "markdown",
   "metadata": {},
   "source": [
    "### GSE147507"
   ]
  },
  {
   "cell_type": "markdown",
   "metadata": {},
   "source": [
    "#### Metadata"
   ]
  },
  {
   "cell_type": "code",
   "execution_count": 11,
   "metadata": {},
   "outputs": [],
   "source": [
    "series_matrix=pd.read_csv('../data/gse147507/GSE147507-GPL18573_series_matrix.txt'\n",
    "                          ,sep='\\t',header=0,index_col=0,skiprows=31)\n",
    "metadata = create_metadata_structure(series_matrix)"
   ]
  },
  {
   "cell_type": "code",
   "execution_count": 12,
   "metadata": {},
   "outputs": [],
   "source": [
    "metadata = add_properties_to_metadata(metadata, properties = {'Series':0, 'Cell':1, 'Treatment':2})\n",
    "metadata.iloc[[-4,-3,-2,-1],[-2,-1]]=[['Lung','Healthy'],['Lung','Healthy'],['Lung','COVID19'],['Lung','COVID19']]\n",
    "metadata['Virus']=1\n",
    "metadata.loc[metadata['Treatment'].str.contains('Mock|Healthy', regex=True), 'Virus'] = 0\n",
    "metadata.to_csv('../data/gse147507/meta.csv')"
   ]
  },
  {
   "cell_type": "markdown",
   "metadata": {},
   "source": [
    "#### Gene expression"
   ]
  },
  {
   "cell_type": "code",
   "execution_count": 13,
   "metadata": {},
   "outputs": [],
   "source": [
    "data=pd.read_csv('../data/gse147507/GSE147507_RawReadCounts_Human.tsv',sep='\\t',header=0,index_col=0)"
   ]
  },
  {
   "cell_type": "code",
   "execution_count": 14,
   "metadata": {},
   "outputs": [],
   "source": [
    "data=data[metadata['ID'].values]\n",
    "data.columns=metadata.index"
   ]
  },
  {
   "cell_type": "code",
   "execution_count": 15,
   "metadata": {},
   "outputs": [],
   "source": [
    "data.to_csv('../data/gse147507/GSE147507_raw.csv',sep=',')"
   ]
  },
  {
   "cell_type": "markdown",
   "metadata": {},
   "source": [
    "##### Differential expression analysis"
   ]
  },
  {
   "cell_type": "code",
   "execution_count": 16,
   "metadata": {},
   "outputs": [],
   "source": [
    "#runR(\"gse147507_DE.R\")"
   ]
  },
  {
   "cell_type": "markdown",
   "metadata": {},
   "source": [
    "##### PC anaysis"
   ]
  },
  {
   "cell_type": "code",
   "execution_count": 17,
   "metadata": {},
   "outputs": [],
   "source": [
    "model=PCA(2)\n",
    "data_pca=pd.DataFrame(model.fit_transform(data.T),index=data.columns,columns=['PC1','PC2'])"
   ]
  },
  {
   "cell_type": "code",
   "execution_count": 18,
   "metadata": {},
   "outputs": [
    {
     "data": {
      "image/png": "[encoded data removed]",
      "text/plain": [
       "<Figure size 432x288 with 1 Axes>"
      ]
     },
     "metadata": {
      "needs_background": "light"
     },
     "output_type": "display_data"
    }
   ],
   "source": [
    "sns.scatterplot(data_pca['PC1'],data_pca['PC2'],hue=data.sum())\n",
    "plt.show()"
   ]
  },
  {
   "cell_type": "markdown",
   "metadata": {},
   "source": [
    "### GSE148729"
   ]
  },
  {
   "cell_type": "markdown",
   "metadata": {},
   "source": [
    "##### Gene name conversion from ENSEMBL ID to HGNC symbol"
   ]
  },
  {
   "cell_type": "code",
   "execution_count": 19,
   "metadata": {},
   "outputs": [],
   "source": [
    "data=pd.read_csv('../data/gse148729/Calu3_totalRNA_readcounts.txt',sep='\\t',low_memory=False,index_col=0)"
   ]
  },
  {
   "cell_type": "code",
   "execution_count": 20,
   "metadata": {},
   "outputs": [],
   "source": [
    "name_conversion = pd.read_csv('../data/gse148729/gse148729_name_conversion.csv', sep=',', index_col=0)"
   ]
  },
  {
   "cell_type": "code",
   "execution_count": 21,
   "metadata": {},
   "outputs": [],
   "source": [
    "name_conversion = name_conversion[name_conversion.hgnc_symbol.notna()].drop_duplicates('hgnc_symbol')"
   ]
  },
  {
   "cell_type": "code",
   "execution_count": 22,
   "metadata": {},
   "outputs": [],
   "source": [
    "data = data.reset_index()\n",
    "data['ensembl_gene_id']= data.gene_id.str.split('.',expand=True)[0]\n",
    "data = data.merge(name_conversion, \n",
    "                  left_on='ensembl_gene_id', \n",
    "                  right_on='ensembl_gene_id').set_index('hgnc_symbol').drop(columns=['gene_id', 'ensembl_gene_id'])"
   ]
  },
  {
   "cell_type": "markdown",
   "metadata": {},
   "source": [
    "##### Metadata and gene expression"
   ]
  },
  {
   "cell_type": "code",
   "execution_count": 23,
   "metadata": {},
   "outputs": [],
   "source": [
    "series_matrix=pd.read_csv('../data/gse148729/GSE148729-GPL20301_series_matrix.txt',sep='\\t',skiprows=60,low_memory=False,index_col=0)"
   ]
  },
  {
   "cell_type": "code",
   "execution_count": 24,
   "metadata": {},
   "outputs": [],
   "source": [
    "metadata = create_metadata_structure(series_matrix)\n",
    "metadata = add_properties_to_metadata(metadata, sep='-', properties={'Treatment':1, 'Time':2, 'Replicate':3} )"
   ]
  },
  {
   "cell_type": "code",
   "execution_count": 25,
   "metadata": {},
   "outputs": [],
   "source": [
    "# change sample ID to Sample_geo_accession\n",
    "d = dict(map(reversed, metadata['ID'].to_dict().items()))\n",
    "data.columns = data.columns.to_series().map(d)"
   ]
  },
  {
   "cell_type": "code",
   "execution_count": 26,
   "metadata": {},
   "outputs": [],
   "source": [
    "metadata.to_csv('../data/gse148729/meta.csv')\n",
    "data.to_csv('../data/gse148729/GSE148729_raw.csv')"
   ]
  },
  {
   "cell_type": "markdown",
   "metadata": {},
   "source": [
    "###### Differencial expression analysis"
   ]
  },
  {
   "cell_type": "code",
   "execution_count": 27,
   "metadata": {},
   "outputs": [],
   "source": [
    "### run deseq2 in R\n",
    "#call(['RScript','gse148729_DE.R'])"
   ]
  },
  {
   "cell_type": "markdown",
   "metadata": {},
   "source": [
    "##### PC analysis"
   ]
  },
  {
   "cell_type": "code",
   "execution_count": 28,
   "metadata": {},
   "outputs": [],
   "source": [
    "vst = pd.read_csv('../results/gse148729/data_vst.csv', sep=',', index_col=0)\n",
    "model=PCA(2)\n",
    "vst_pca=model.fit_transform(vst.T)\n",
    "vst_pca=pd.DataFrame(vst_pca,index=vst.columns,columns=['PC1','PC2'])"
   ]
  },
  {
   "cell_type": "code",
   "execution_count": 29,
   "metadata": {},
   "outputs": [
    {
     "data": {
      "image/png": "[encoded data removed]",
      "text/plain": [
       "<Figure size 432x288 with 1 Axes>"
      ]
     },
     "metadata": {
      "needs_background": "light"
     },
     "output_type": "display_data"
    }
   ],
   "source": [
    "sns.scatterplot(vst_pca['PC1'],vst_pca['PC2'], hue_order = ['4H', '12H', '24H'], hue=metadata['Time'],\n",
    "                style=metadata['Treatment'], style_order=['untr','mock','S1','S2'])\n",
    "plt.legend(bbox_to_anchor=(1, 1))\n",
    "plt.show()"
   ]
  },
  {
   "cell_type": "markdown",
   "metadata": {},
   "source": [
    "# Merge"
   ]
  },
  {
   "cell_type": "code",
   "execution_count": 40,
   "metadata": {},
   "outputs": [],
   "source": [
    "dnames=['gse28166','gse33267','gse37571','gse45042','gse56677']+['gse147507']*11+['gse148729']*4\n",
    "fnames=['gse28166_DE','gse33267_DE','gse37571_DE','gse45042_DE','gse56677_DE']+\\\n",
    "        ['series1_DE','series2_DE','series3_DE','series4_DE','series5_DE','series6_DE','series7_DE','series8a_DE']+\\\n",
    "        ['series8b_DE','series9_DE','series15_DE']+\\\n",
    "        ['gse148729_DE_mock_S1_4H', 'gse148729_DE_mock_S2_4H', 'gse148729_DE_mock_S1_24H', 'gse148729_DE_mock_S2_24H']\n",
    "data={}"
   ]
  },
  {
   "cell_type": "code",
   "execution_count": 41,
   "metadata": {},
   "outputs": [],
   "source": [
    "for i in range(len(dnames)):\n",
    "    data[fnames[i]]=pd.read_csv('../data/%s/%s.csv' % (dnames[i],fnames[i]),sep=',',header=0,index_col=0)"
   ]
  },
  {
   "cell_type": "code",
   "execution_count": 42,
   "metadata": {},
   "outputs": [
    {
     "data": {
      "text/html": [
       "<div>\n",
       "<style scoped>\n",
       "    .dataframe tbody tr th:only-of-type {\n",
       "        vertical-align: middle;\n",
       "    }\n",
       "\n",
       "    .dataframe tbody tr th {\n",
       "        vertical-align: top;\n",
       "    }\n",
       "\n",
       "    .dataframe thead th {\n",
       "        text-align: right;\n",
       "    }\n",
       "</style>\n",
       "<table border=\"1\" class=\"dataframe\">\n",
       "  <thead>\n",
       "    <tr style=\"text-align: right;\">\n",
       "      <th></th>\n",
       "      <th>baseMean</th>\n",
       "      <th>log2FoldChange</th>\n",
       "      <th>lfcSE</th>\n",
       "      <th>stat</th>\n",
       "      <th>pvalue</th>\n",
       "      <th>padj</th>\n",
       "    </tr>\n",
       "  </thead>\n",
       "  <tbody>\n",
       "    <tr>\n",
       "      <th>TSPAN6</th>\n",
       "      <td>835.490187</td>\n",
       "      <td>-0.227968</td>\n",
       "      <td>0.161151</td>\n",
       "      <td>-1.414620</td>\n",
       "      <td>0.157180</td>\n",
       "      <td>NaN</td>\n",
       "    </tr>\n",
       "    <tr>\n",
       "      <th>DPM1</th>\n",
       "      <td>700.023036</td>\n",
       "      <td>-0.081032</td>\n",
       "      <td>0.160045</td>\n",
       "      <td>-0.506309</td>\n",
       "      <td>0.612640</td>\n",
       "      <td>NaN</td>\n",
       "    </tr>\n",
       "    <tr>\n",
       "      <th>SCYL3</th>\n",
       "      <td>197.467816</td>\n",
       "      <td>0.109047</td>\n",
       "      <td>0.249498</td>\n",
       "      <td>0.437064</td>\n",
       "      <td>0.662065</td>\n",
       "      <td>NaN</td>\n",
       "    </tr>\n",
       "    <tr>\n",
       "      <th>C1orf112</th>\n",
       "      <td>336.503181</td>\n",
       "      <td>0.071293</td>\n",
       "      <td>0.206622</td>\n",
       "      <td>0.345040</td>\n",
       "      <td>0.730065</td>\n",
       "      <td>NaN</td>\n",
       "    </tr>\n",
       "    <tr>\n",
       "      <th>FGR</th>\n",
       "      <td>0.593175</td>\n",
       "      <td>0.394332</td>\n",
       "      <td>4.206908</td>\n",
       "      <td>0.093735</td>\n",
       "      <td>0.925320</td>\n",
       "      <td>NaN</td>\n",
       "    </tr>\n",
       "    <tr>\n",
       "      <th>...</th>\n",
       "      <td>...</td>\n",
       "      <td>...</td>\n",
       "      <td>...</td>\n",
       "      <td>...</td>\n",
       "      <td>...</td>\n",
       "      <td>...</td>\n",
       "    </tr>\n",
       "    <tr>\n",
       "      <th>ASDURF</th>\n",
       "      <td>88.908432</td>\n",
       "      <td>-0.062133</td>\n",
       "      <td>0.347622</td>\n",
       "      <td>-0.178737</td>\n",
       "      <td>0.858144</td>\n",
       "      <td>NaN</td>\n",
       "    </tr>\n",
       "    <tr>\n",
       "      <th>RCAN3AS</th>\n",
       "      <td>5.295571</td>\n",
       "      <td>-0.170827</td>\n",
       "      <td>1.317524</td>\n",
       "      <td>-0.129658</td>\n",
       "      <td>0.896837</td>\n",
       "      <td>NaN</td>\n",
       "    </tr>\n",
       "    <tr>\n",
       "      <th>DERPC</th>\n",
       "      <td>467.583834</td>\n",
       "      <td>-0.059529</td>\n",
       "      <td>0.184201</td>\n",
       "      <td>-0.323173</td>\n",
       "      <td>0.746564</td>\n",
       "      <td>NaN</td>\n",
       "    </tr>\n",
       "    <tr>\n",
       "      <th>RNVU1-8</th>\n",
       "      <td>0.223785</td>\n",
       "      <td>-1.237515</td>\n",
       "      <td>4.994031</td>\n",
       "      <td>-0.247799</td>\n",
       "      <td>0.804290</td>\n",
       "      <td>NaN</td>\n",
       "    </tr>\n",
       "    <tr>\n",
       "      <th>NOTCH2NLC</th>\n",
       "      <td>12.290333</td>\n",
       "      <td>0.785789</td>\n",
       "      <td>0.891517</td>\n",
       "      <td>0.881407</td>\n",
       "      <td>0.378098</td>\n",
       "      <td>NaN</td>\n",
       "    </tr>\n",
       "  </tbody>\n",
       "</table>\n",
       "<p>23971 rows × 6 columns</p>\n",
       "</div>"
      ],
      "text/plain": [
       "             baseMean  log2FoldChange     lfcSE      stat    pvalue  padj\n",
       "TSPAN6     835.490187       -0.227968  0.161151 -1.414620  0.157180   NaN\n",
       "DPM1       700.023036       -0.081032  0.160045 -0.506309  0.612640   NaN\n",
       "SCYL3      197.467816        0.109047  0.249498  0.437064  0.662065   NaN\n",
       "C1orf112   336.503181        0.071293  0.206622  0.345040  0.730065   NaN\n",
       "FGR          0.593175        0.394332  4.206908  0.093735  0.925320   NaN\n",
       "...               ...             ...       ...       ...       ...   ...\n",
       "ASDURF      88.908432       -0.062133  0.347622 -0.178737  0.858144   NaN\n",
       "RCAN3AS      5.295571       -0.170827  1.317524 -0.129658  0.896837   NaN\n",
       "DERPC      467.583834       -0.059529  0.184201 -0.323173  0.746564   NaN\n",
       "RNVU1-8      0.223785       -1.237515  4.994031 -0.247799  0.804290   NaN\n",
       "NOTCH2NLC   12.290333        0.785789  0.891517  0.881407  0.378098   NaN\n",
       "\n",
       "[23971 rows x 6 columns]"
      ]
     },
     "execution_count": 42,
     "metadata": {},
     "output_type": "execute_result"
    }
   ],
   "source": [
    "data['gse148729_DE_mock_S1_4H']"
   ]
  },
  {
   "cell_type": "code",
   "execution_count": 43,
   "metadata": {},
   "outputs": [],
   "source": [
    "# Filter same genes from all dataset (8710 were dropped)\n",
    "genes=set(data['gse28166_DE'].index)\n",
    "for dname in data.keys():\n",
    "    genes=genes&set(data[dname].index)\n",
    "genes=list(genes)\n",
    "for dname in data.keys():\n",
    "    data[dname]=data[dname].loc[genes]"
   ]
  },
  {
   "cell_type": "code",
   "execution_count": 34,
   "metadata": {},
   "outputs": [],
   "source": [
    "results=pd.DataFrame(index=genes,columns=data.keys())\n",
    "for dname in results.columns:\n",
    "    if 't' in data[dname].columns:\n",
    "        results[dname]=data[dname]['t']\n",
    "    else:\n",
    "        results[dname]=data[dname]['stat']"
   ]
  },
  {
   "cell_type": "code",
   "execution_count": 35,
   "metadata": {},
   "outputs": [],
   "source": [
    "columns_dict = {\n",
    "    'gse28166_DE':'GSE28166_Calu3_H5N1',\n",
    "     'gse33267_DE':'GSE33267_Calu3_SARS.CoV',\n",
    "     'gse37571_DE':'GSE37571_Calu3_Influenza',\n",
    "     'gse45042_DE':'GSE45042_Calu3_MERS',\n",
    "     'gse56677_DE':'GSE56677_Calu3_MERS',\n",
    "     'series1_DE':'GSE147507.S1_NHBE_SARS.CoV.2',\n",
    "     'series2_DE':'GSE147507.S2_A549_SARS.CoV.2',\n",
    "     'series3_DE':'GSE147507.S3_A549_RSV',\n",
    "     'series4_DE':'GSE147507.S4_A549_IAV',\n",
    "     'series5_DE':'GSE147507.S5_A549_SARS.CoV.2',\n",
    "     'series6_DE':'GSE147507.S6_A549_ACE2.SARS.CoV.2',\n",
    "     'series7_DE':'GSE147507.S7_Calu3_SARS.CoV.2',\n",
    "     'series8a_DE':'GSE147507.S8_A549_RSV',\n",
    "     'series8b_DE':'GSE147507.S8_A549_HPIV',\n",
    "     'series9_DE':'GSE147507.S9_NHBE_IAV',\n",
    "     'series15_DE':'GSE147507.S15_Infected.Lung_SARS.CoV.2',\n",
    "     'gse148729_DE_mock_S1_4H':'GSE148729_Calu3_SARS.CoV_4H',\n",
    "     'gse148729_DE_mock_S2_4H':'GSE148729_Calu3_SARS.CoV_24H',\n",
    "     'gse148729_DE_mock_S1_24H':'GSE148729_Calu3_SARS.CoV.2_4H',\n",
    "     'gse148729_DE_mock_S2_24H':'GSE148729_Calu3_SARS.CoV.2_24H'}"
   ]
  },
  {
   "cell_type": "code",
   "execution_count": 36,
   "metadata": {},
   "outputs": [],
   "source": [
    "results = results.rename(columns=columns_dict)"
   ]
  },
  {
   "cell_type": "code",
   "execution_count": 37,
   "metadata": {},
   "outputs": [],
   "source": [
    "results.to_csv('../results/microarray_and_rnaseq_expression.csv')"
   ]
  },
  {
   "cell_type": "code",
   "execution_count": 38,
   "metadata": {},
   "outputs": [
    {
     "data": {
      "text/html": [
       "<div>\n",
       "<style scoped>\n",
       "    .dataframe tbody tr th:only-of-type {\n",
       "        vertical-align: middle;\n",
       "    }\n",
       "\n",
       "    .dataframe tbody tr th {\n",
       "        vertical-align: top;\n",
       "    }\n",
       "\n",
       "    .dataframe thead th {\n",
       "        text-align: right;\n",
       "    }\n",
       "</style>\n",
       "<table border=\"1\" class=\"dataframe\">\n",
       "  <thead>\n",
       "    <tr style=\"text-align: right;\">\n",
       "      <th></th>\n",
       "      <th>GSE28166_Calu3_H5N1</th>\n",
       "      <th>GSE33267_Calu3_SARS.CoV</th>\n",
       "      <th>GSE37571_Calu3_Influenza</th>\n",
       "      <th>GSE45042_Calu3_MERS</th>\n",
       "      <th>GSE56677_Calu3_MERS</th>\n",
       "    </tr>\n",
       "  </thead>\n",
       "  <tbody>\n",
       "    <tr>\n",
       "      <th>TOR1AIP1</th>\n",
       "      <td>-0.265855</td>\n",
       "      <td>-1.506547</td>\n",
       "      <td>4.691753</td>\n",
       "      <td>4.457274</td>\n",
       "      <td>-0.901465</td>\n",
       "    </tr>\n",
       "    <tr>\n",
       "      <th>TMEM126A</th>\n",
       "      <td>1.719826</td>\n",
       "      <td>-1.776039</td>\n",
       "      <td>-2.975716</td>\n",
       "      <td>-4.269872</td>\n",
       "      <td>-1.542372</td>\n",
       "    </tr>\n",
       "    <tr>\n",
       "      <th>BRD8</th>\n",
       "      <td>-12.437209</td>\n",
       "      <td>2.327074</td>\n",
       "      <td>-9.176630</td>\n",
       "      <td>1.118141</td>\n",
       "      <td>-1.332901</td>\n",
       "    </tr>\n",
       "    <tr>\n",
       "      <th>DAPP1</th>\n",
       "      <td>-13.756992</td>\n",
       "      <td>7.007527</td>\n",
       "      <td>4.655702</td>\n",
       "      <td>11.564376</td>\n",
       "      <td>5.867346</td>\n",
       "    </tr>\n",
       "    <tr>\n",
       "      <th>SLC27A2</th>\n",
       "      <td>-19.058259</td>\n",
       "      <td>-1.693200</td>\n",
       "      <td>-3.348291</td>\n",
       "      <td>-3.229593</td>\n",
       "      <td>-5.023152</td>\n",
       "    </tr>\n",
       "    <tr>\n",
       "      <th>TNFAIP8</th>\n",
       "      <td>-5.949700</td>\n",
       "      <td>-2.491375</td>\n",
       "      <td>3.565728</td>\n",
       "      <td>1.595638</td>\n",
       "      <td>-2.186632</td>\n",
       "    </tr>\n",
       "    <tr>\n",
       "      <th>FZD7</th>\n",
       "      <td>-6.987377</td>\n",
       "      <td>-1.405584</td>\n",
       "      <td>-0.093153</td>\n",
       "      <td>-9.756436</td>\n",
       "      <td>-0.542419</td>\n",
       "    </tr>\n",
       "    <tr>\n",
       "      <th>RPS4X</th>\n",
       "      <td>-3.091146</td>\n",
       "      <td>-1.805310</td>\n",
       "      <td>-4.770010</td>\n",
       "      <td>-0.648007</td>\n",
       "      <td>-2.558815</td>\n",
       "    </tr>\n",
       "    <tr>\n",
       "      <th>TMSB15B</th>\n",
       "      <td>6.332637</td>\n",
       "      <td>1.642774</td>\n",
       "      <td>-5.477011</td>\n",
       "      <td>4.329035</td>\n",
       "      <td>0.682380</td>\n",
       "    </tr>\n",
       "    <tr>\n",
       "      <th>POLR3D</th>\n",
       "      <td>-4.440179</td>\n",
       "      <td>-0.695539</td>\n",
       "      <td>3.294593</td>\n",
       "      <td>9.153592</td>\n",
       "      <td>2.625260</td>\n",
       "    </tr>\n",
       "  </tbody>\n",
       "</table>\n",
       "</div>"
      ],
      "text/plain": [
       "          GSE28166_Calu3_H5N1  GSE33267_Calu3_SARS.CoV  \\\n",
       "TOR1AIP1            -0.265855                -1.506547   \n",
       "TMEM126A             1.719826                -1.776039   \n",
       "BRD8               -12.437209                 2.327074   \n",
       "DAPP1              -13.756992                 7.007527   \n",
       "SLC27A2            -19.058259                -1.693200   \n",
       "TNFAIP8             -5.949700                -2.491375   \n",
       "FZD7                -6.987377                -1.405584   \n",
       "RPS4X               -3.091146                -1.805310   \n",
       "TMSB15B              6.332637                 1.642774   \n",
       "POLR3D              -4.440179                -0.695539   \n",
       "\n",
       "          GSE37571_Calu3_Influenza  GSE45042_Calu3_MERS  GSE56677_Calu3_MERS  \n",
       "TOR1AIP1                  4.691753             4.457274            -0.901465  \n",
       "TMEM126A                 -2.975716            -4.269872            -1.542372  \n",
       "BRD8                     -9.176630             1.118141            -1.332901  \n",
       "DAPP1                     4.655702            11.564376             5.867346  \n",
       "SLC27A2                  -3.348291            -3.229593            -5.023152  \n",
       "TNFAIP8                   3.565728             1.595638            -2.186632  \n",
       "FZD7                     -0.093153            -9.756436            -0.542419  \n",
       "RPS4X                    -4.770010            -0.648007            -2.558815  \n",
       "TMSB15B                  -5.477011             4.329035             0.682380  \n",
       "POLR3D                    3.294593             9.153592             2.625260  "
      ]
     },
     "execution_count": 38,
     "metadata": {},
     "output_type": "execute_result"
    }
   ],
   "source": [
    "results.iloc[:10, :5]"
   ]
  }
 ],
 "metadata": {
  "kernelspec": {
   "display_name": "Python 3",
   "language": "python",
   "name": "python3"
  },
  "language_info": {
   "codemirror_mode": {
    "name": "ipython",
    "version": 3
   },
   "file_extension": ".py",
   "mimetype": "text/x-python",
   "name": "python",
   "nbconvert_exporter": "python",
   "pygments_lexer": "ipython3",
   "version": "3.7.6"
  }
 },
 "nbformat": 4,
 "nbformat_minor": 4
}
