{
 "cells": [
  {
   "cell_type": "code",
   "execution_count": 444,
   "metadata": {},
   "outputs": [],
   "source": [
    "import pandas as pd\n",
    "import numpy as np\n",
    "import seaborn as sns\n",
    "import matplotlib.pyplot as plt"
   ]
  },
  {
   "cell_type": "code",
   "execution_count": 445,
   "metadata": {},
   "outputs": [],
   "source": [
    "import warnings\n",
    "warnings.filterwarnings('ignore')"
   ]
  },
  {
   "cell_type": "code",
   "execution_count": 446,
   "metadata": {},
   "outputs": [],
   "source": [
    "experiments = ['20210601', '20210629', '20210720', '20210810']"
   ]
  },
  {
   "cell_type": "code",
   "execution_count": 458,
   "metadata": {},
   "outputs": [
    {
     "name": "stdout",
     "output_type": "stream",
     "text": [
      "20210601\n",
      "20210629\n",
      "20210720\n",
      "20210810\n"
     ]
    }
   ],
   "source": [
    "experiments_table = pd.DataFrame(columns = ['Drug', 'PCR', 'Cholesterol', 'Experiment'])\n",
    "data = {}\n",
    "for exp in experiments:\n",
    "    print(exp)\n",
    "    \n",
    "    data[exp] = pd.read_excel('data/ddPCR_koleszterinvsSARSvsDrug.xlsx', sheet_name = exp)\n",
    "    # delete co-administration data\n",
    "    idx = data[exp].where(data[exp]=='Co-administration').dropna(how = 'all').index\n",
    "\n",
    "    if len(idx) > 0:\n",
    "        data[exp] = data[exp][:idx[0]]\n",
    "    \n",
    "    # drop all NaN values and fill drug values\n",
    "    data[exp] = data[exp].dropna(how = 'all').fillna(method = 'ffill', axis = 0).dropna(axis = 1, how = 'all')\n",
    "    data[exp].columns = data[exp].iloc[0]\n",
    "    data[exp] = data[exp].iloc[1:, :6]\n",
    "\n",
    "    data[exp].columns = [ '0um_chol', '0um_chol_PCR', '80um_chol',\n",
    "                 '80um_chol_PCR', '10um_chol', '10um_chol_PCR']\n",
    "    \n",
    "    # append data to experiments_table\n",
    "    for cc in [0, 80, 10]:\n",
    "        tmp = data[exp][[str(cc)+'um_chol', str(cc)+'um_chol_PCR']]\n",
    "        tmp['Cholesterol'] = str(cc)+'um'\n",
    "        tmp['Experiment'] = exp\n",
    "        tmp.columns = experiments_table.columns\n",
    "        \n",
    "        experiments_table = experiments_table.append(tmp, ignore_index = True)\n",
    "    experiments_table = experiments_table.drop_duplicates()\n",
    "    "
   ]
  },
  {
   "cell_type": "code",
   "execution_count": 459,
   "metadata": {},
   "outputs": [],
   "source": [
    "experiments_table = experiments_table.replace('Pozitív ctrl', 'Positive_ctrl')\n",
    "experiments_table = experiments_table.replace('DMSO ', 'DMSO')\n",
    "experiments_table = experiments_table.replace('Chlorpromazine ', 'Chlorpromazine')\n",
    "experiments_table = experiments_table.replace('Amiodarone (DMSO)', 'Amiodarone')\n",
    "\n",
    "experiments_table.PCR = experiments_table.PCR.apply(lambda x: float(str(x).replace(',', '.')))"
   ]
  },
  {
   "cell_type": "code",
   "execution_count": 472,
   "metadata": {},
   "outputs": [],
   "source": [
    "toplot = experiments_table[experiments_table.Drug.isin(['Positive_ctrl', 'Chlorpromazine',\n",
    "                                                        'Amiodarone', 'Loperamide']) & \n",
    "                          experiments_table.Cholesterol.isin(['0um', '80um'])]\n"
   ]
  },
  {
   "cell_type": "code",
   "execution_count": 473,
   "metadata": {},
   "outputs": [],
   "source": [
    "toplot.PCR = np.log2(toplot.PCR)\n",
    "toplot[\"Drug\"] = pd.Categorical(toplot[\"Drug\"],\n",
    "                                categories = [\"Positive_ctrl\", \"Amiodarone\", \"Chlorpromazine\", \"Loperamide\"])"
   ]
  },
  {
   "cell_type": "code",
   "execution_count": 511,
   "metadata": {},
   "outputs": [
    {
     "data": {
      "image/png": "[encoded data removed]",
      "text/plain": [
       "<Figure size 432x288 with 1 Axes>"
      ]
     },
     "metadata": {
      "needs_background": "light"
     },
     "output_type": "display_data"
    }
   ],
   "source": [
    "g = sns.barplot(x = 'Drug', y = 'PCR', hue = 'Cholesterol', data=toplot, palette = 'RdBu_r')\n",
    "g = sns.swarmplot(x = 'Drug', y = 'PCR', hue = 'Cholesterol', \n",
    "                  data=toplot, dodge=True, color = 'k')\n",
    "\n",
    "handles, labels = g.get_legend_handles_labels()\n",
    "g.legend(handles[2:], labels[2:])\n",
    "\n",
    "plt.ylim((6,14))\n",
    "plt.xticks(rotation = 0, ha=\"center\")\n",
    "plt.show()"
   ]
  },
  {
   "cell_type": "code",
   "execution_count": null,
   "metadata": {},
   "outputs": [],
   "source": []
  }
 ],
 "metadata": {
  "kernelspec": {
   "display_name": "Python 3",
   "language": "python",
   "name": "python3"
  },
  "language_info": {
   "codemirror_mode": {
    "name": "ipython",
    "version": 3
   },
   "file_extension": ".py",
   "mimetype": "text/x-python",
   "name": "python",
   "nbconvert_exporter": "python",
   "pygments_lexer": "ipython3",
   "version": "3.7.6"
  }
 },
 "nbformat": 4,
 "nbformat_minor": 4
}
